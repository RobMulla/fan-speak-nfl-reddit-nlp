{
 "cells": [
  {
   "cell_type": "code",
   "execution_count": 27,
   "metadata": {},
   "outputs": [],
   "source": [
    "import pandas as pd\n",
    "import numpy as np\n",
    "import matplotlib.pyplot as plt\n",
    "import pickle"
   ]
  },
  {
   "cell_type": "code",
   "execution_count": 2,
   "metadata": {},
   "outputs": [],
   "source": [
    "files = [\n",
    "    'Bears_vs_Packers__2017-09-28_comment_sentiment.pickle',\n",
    "    'Broncos_vs_Chiefs__2017-10-30_comment_sentiment.pickle',\n",
    "    'Chargers_vs_Cowboys__2017-11-23_comment_sentiment.pickle',\n",
    "    'Chiefs_vs_Patriots__2017-09-07_comment_sentiment.pickle',\n",
    "    'Chiefs_vs_Raiders__2017-10-19_comment_sentiment.pickle',\n",
    "    'Cowboys_vs_Cardinals__2017-09-25_comment_sentiment.pickle',\n",
    "    'Cowboys_vs_Raiders__2017-12-17_comment_sentiment.pickle',\n",
    "    'Eagles_vs_Panthers__2017-10-12_comment_sentiment.pickle',\n",
    "    'Falcons_vs_Buccaneers__2017-12-18_comment_sentiment.pickle',\n",
    "    'Falcons_vs_Patriots__2017-10-22_comment_sentiment.pickle',\n",
    "    'Falcons_vs_Seahawks__2017-11-20_comment_sentiment.pickle',\n",
    "    'Giants_vs_Cowboys__2017-09-10_comment_sentiment.pickle',\n",
    "    'Jaguars_vs_Patriots__2018-01-21_comment_sentiment.pickle',\n",
    "    'Lions_vs_Giants__2017-09-18_comment_sentiment.pickle',\n",
    "    'Lions_vs_Packers__2017-11-06_comment_sentiment.pickle',\n",
    "    'Packers_vs_Panthers__2017-12-17_comment_sentiment.pickle',\n",
    "    'Packers_vs_Vikings__2017-10-15_comment_sentiment.pickle',\n",
    "    'Patriots_vs_Dolphins__2017-12-11_comment_sentiment.pickle',\n",
    "    'Raiders_vs_Eagles__2017-12-25_comment_sentiment.pickle',\n",
    "    'Raiders_vs_Redskins__2017-09-24_comment_sentiment.pickle',\n",
    "    'Rams_vs_49ers__2017-09-21_comment_sentiment.pickle',\n",
    "    'Redskins_vs_Chiefs__2017-10-02_comment_sentiment.pickle',\n",
    "    'Redskins_vs_Cowboys__2017-11-30_comment_sentiment.pickle',\n",
    "    'Redskins_vs_Eagles__2017-10-23_comment_sentiment.pickle',\n",
    "    'Saints_vs_Falcons__2017-12-07_comment_sentiment.pickle',\n",
    "    'Saints_vs_Vikings__2017-09-11_comment_sentiment.pickle',\n",
    "    'Seahawks_vs_Cardinals__2017-11-09_comment_sentiment.pickle',\n",
    "    'Steelers_vs_Bengals__2017-12-04_comment_sentiment.pickle',\n",
    "    'Steelers_vs_Lions__2017-10-29_comment_sentiment.pickle',\n",
    "    'Texans_vs_Bengals__2017-09-14_comment_sentiment.pickle',\n",
    "    'Vikings_vs_Packers__2017-12-23_comment_sentiment.pickle',\n",
    "    'Vikings_vs_Panthers__2017-12-10_comment_sentiment.pickle']"
   ]
  },
  {
   "cell_type": "code",
   "execution_count": 24,
   "metadata": {},
   "outputs": [],
   "source": [
    "path = \"/Users/kwheatley/w266_final_project_merged/data/Clean_Game_Data/\"\n",
    "\n",
    "for index, filename in enumerate(files):\n",
    "    print(path+filename)\n",
    "    if index == 0:\n",
    "        data = pd.read_pickle(path+filename)\n",
    "        print(data.head())\n",
    "    else:\n",
    "        temp_data = pd.read_pickle(path+filename)\n",
    "        data = data.append(temp_data)\n",
    "        print(data.head())"
   ]
  },
  {
   "cell_type": "code",
   "execution_count": 32,
   "metadata": {},
   "outputs": [],
   "source": [
    "# pickle.dump(data, open( \"data.pickle\", \"wb\" ) )\n",
    "data = pd.read_pickle(\"data.pickle\")"
   ]
  },
  {
   "cell_type": "code",
   "execution_count": 195,
   "metadata": {},
   "outputs": [
    {
     "data": {
      "text/html": [
       "<div>\n",
       "<style>\n",
       "    .dataframe thead tr:only-child th {\n",
       "        text-align: right;\n",
       "    }\n",
       "\n",
       "    .dataframe thead th {\n",
       "        text-align: left;\n",
       "    }\n",
       "\n",
       "    .dataframe tbody tr th {\n",
       "        vertical-align: top;\n",
       "    }\n",
       "</style>\n",
       "<table border=\"1\" class=\"dataframe\">\n",
       "  <thead>\n",
       "    <tr style=\"text-align: right;\">\n",
       "      <th></th>\n",
       "      <th>submission_title</th>\n",
       "      <th>count</th>\n",
       "      <th>nunique</th>\n",
       "      <th>posts_per_author</th>\n",
       "    </tr>\n",
       "  </thead>\n",
       "  <tbody>\n",
       "    <tr>\n",
       "      <th>0</th>\n",
       "      <td>Game Thread: Atlanta Falcons (3-2) at New Engl...</td>\n",
       "      <td>19786</td>\n",
       "      <td>3707</td>\n",
       "      <td>5.337470</td>\n",
       "    </tr>\n",
       "    <tr>\n",
       "      <th>1</th>\n",
       "      <td>Game Thread: Atlanta Falcons (5-4) at Seattle ...</td>\n",
       "      <td>16276</td>\n",
       "      <td>2681</td>\n",
       "      <td>6.070869</td>\n",
       "    </tr>\n",
       "    <tr>\n",
       "      <th>2</th>\n",
       "      <td>Game Thread: Atlanta Falcons (8-5) at Tampa Ba...</td>\n",
       "      <td>13002</td>\n",
       "      <td>2329</td>\n",
       "      <td>5.582653</td>\n",
       "    </tr>\n",
       "    <tr>\n",
       "      <th>3</th>\n",
       "      <td>Game Thread: Chicago Bears (1-2) at Green Bay ...</td>\n",
       "      <td>32602</td>\n",
       "      <td>6089</td>\n",
       "      <td>5.354245</td>\n",
       "    </tr>\n",
       "    <tr>\n",
       "      <th>4</th>\n",
       "      <td>Game Thread: Dallas Cowboys (1-1) at Arizona C...</td>\n",
       "      <td>17228</td>\n",
       "      <td>3113</td>\n",
       "      <td>5.534211</td>\n",
       "    </tr>\n",
       "    <tr>\n",
       "      <th>5</th>\n",
       "      <td>Game Thread: Dallas Cowboys (7-6) at Oakland R...</td>\n",
       "      <td>13443</td>\n",
       "      <td>2606</td>\n",
       "      <td>5.158480</td>\n",
       "    </tr>\n",
       "    <tr>\n",
       "      <th>6</th>\n",
       "      <td>Game Thread: Denver Broncos (3-3) at Kansas Ci...</td>\n",
       "      <td>10675</td>\n",
       "      <td>1881</td>\n",
       "      <td>5.675173</td>\n",
       "    </tr>\n",
       "    <tr>\n",
       "      <th>7</th>\n",
       "      <td>Game Thread: Detroit Lions (1-0) at New York G...</td>\n",
       "      <td>17656</td>\n",
       "      <td>3074</td>\n",
       "      <td>5.743656</td>\n",
       "    </tr>\n",
       "    <tr>\n",
       "      <th>8</th>\n",
       "      <td>Game Thread: Detroit Lions (3-4) at Green Bay ...</td>\n",
       "      <td>12357</td>\n",
       "      <td>2180</td>\n",
       "      <td>5.668349</td>\n",
       "    </tr>\n",
       "    <tr>\n",
       "      <th>9</th>\n",
       "      <td>Game Thread: Green Bay Packers (4-1) at Minnes...</td>\n",
       "      <td>12109</td>\n",
       "      <td>1705</td>\n",
       "      <td>7.102053</td>\n",
       "    </tr>\n",
       "    <tr>\n",
       "      <th>10</th>\n",
       "      <td>Game Thread: Green Bay Packers (7-6) at Caroli...</td>\n",
       "      <td>11132</td>\n",
       "      <td>1983</td>\n",
       "      <td>5.613717</td>\n",
       "    </tr>\n",
       "    <tr>\n",
       "      <th>11</th>\n",
       "      <td>Game Thread: Houston Texans (0-1) at Cincinnat...</td>\n",
       "      <td>17647</td>\n",
       "      <td>3216</td>\n",
       "      <td>5.487251</td>\n",
       "    </tr>\n",
       "    <tr>\n",
       "      <th>12</th>\n",
       "      <td>Game Thread: Jacksonville Jaguars (12-6) at Ne...</td>\n",
       "      <td>66406</td>\n",
       "      <td>12834</td>\n",
       "      <td>5.174225</td>\n",
       "    </tr>\n",
       "    <tr>\n",
       "      <th>13</th>\n",
       "      <td>Game Thread: Kansas City Chiefs (0-0) at New E...</td>\n",
       "      <td>42054</td>\n",
       "      <td>7340</td>\n",
       "      <td>5.729428</td>\n",
       "    </tr>\n",
       "    <tr>\n",
       "      <th>14</th>\n",
       "      <td>Game Thread: Kansas City Chiefs (5-1) at Oakla...</td>\n",
       "      <td>23186</td>\n",
       "      <td>4190</td>\n",
       "      <td>5.533652</td>\n",
       "    </tr>\n",
       "    <tr>\n",
       "      <th>15</th>\n",
       "      <td>Game Thread: Los Angeles Chargers (4-6) at Dal...</td>\n",
       "      <td>12933</td>\n",
       "      <td>2615</td>\n",
       "      <td>4.945698</td>\n",
       "    </tr>\n",
       "    <tr>\n",
       "      <th>16</th>\n",
       "      <td>Game Thread: Los Angeles Rams (1-1) at San Fra...</td>\n",
       "      <td>15464</td>\n",
       "      <td>2909</td>\n",
       "      <td>5.315916</td>\n",
       "    </tr>\n",
       "    <tr>\n",
       "      <th>17</th>\n",
       "      <td>Game Thread: Minnesota Vikings (10-2) at Carol...</td>\n",
       "      <td>11188</td>\n",
       "      <td>1470</td>\n",
       "      <td>7.610884</td>\n",
       "    </tr>\n",
       "    <tr>\n",
       "      <th>18</th>\n",
       "      <td>Game Thread: Minnesota Vikings (11-3) at Green...</td>\n",
       "      <td>11723</td>\n",
       "      <td>1825</td>\n",
       "      <td>6.423562</td>\n",
       "    </tr>\n",
       "    <tr>\n",
       "      <th>19</th>\n",
       "      <td>Game Thread: New England Patriots (10-2) at Mi...</td>\n",
       "      <td>19065</td>\n",
       "      <td>3328</td>\n",
       "      <td>5.728666</td>\n",
       "    </tr>\n",
       "    <tr>\n",
       "      <th>20</th>\n",
       "      <td>Game Thread: New Orleans Saints (0-0) at Minne...</td>\n",
       "      <td>14752</td>\n",
       "      <td>2818</td>\n",
       "      <td>5.234918</td>\n",
       "    </tr>\n",
       "    <tr>\n",
       "      <th>21</th>\n",
       "      <td>Game Thread: New Orleans Saints (9-3) at Atlan...</td>\n",
       "      <td>17594</td>\n",
       "      <td>3070</td>\n",
       "      <td>5.730945</td>\n",
       "    </tr>\n",
       "    <tr>\n",
       "      <th>22</th>\n",
       "      <td>Game Thread: New York Giants (0-0) at Dallas C...</td>\n",
       "      <td>14297</td>\n",
       "      <td>2628</td>\n",
       "      <td>5.440259</td>\n",
       "    </tr>\n",
       "    <tr>\n",
       "      <th>23</th>\n",
       "      <td>Game Thread: Oakland Raiders (2-0) at Washingt...</td>\n",
       "      <td>11611</td>\n",
       "      <td>2116</td>\n",
       "      <td>5.487240</td>\n",
       "    </tr>\n",
       "    <tr>\n",
       "      <th>24</th>\n",
       "      <td>Game Thread: Oakland Raiders (6-8) at Philadel...</td>\n",
       "      <td>12251</td>\n",
       "      <td>2166</td>\n",
       "      <td>5.656048</td>\n",
       "    </tr>\n",
       "    <tr>\n",
       "      <th>25</th>\n",
       "      <td>Game Thread: Philadelphia Eagles (4-1) at Caro...</td>\n",
       "      <td>23617</td>\n",
       "      <td>3740</td>\n",
       "      <td>6.314706</td>\n",
       "    </tr>\n",
       "    <tr>\n",
       "      <th>26</th>\n",
       "      <td>Game Thread: Pittsburgh Steelers (5-2) at Detr...</td>\n",
       "      <td>11519</td>\n",
       "      <td>1786</td>\n",
       "      <td>6.449608</td>\n",
       "    </tr>\n",
       "    <tr>\n",
       "      <th>27</th>\n",
       "      <td>Game Thread: Pittsburgh Steelers (9-2) at Cinc...</td>\n",
       "      <td>24354</td>\n",
       "      <td>4523</td>\n",
       "      <td>5.384479</td>\n",
       "    </tr>\n",
       "    <tr>\n",
       "      <th>28</th>\n",
       "      <td>Game Thread: Seattle Seahawks (5-3) at Arizona...</td>\n",
       "      <td>15343</td>\n",
       "      <td>2719</td>\n",
       "      <td>5.642883</td>\n",
       "    </tr>\n",
       "    <tr>\n",
       "      <th>29</th>\n",
       "      <td>Game Thread: Washington Redskins (2-1) at Kans...</td>\n",
       "      <td>17112</td>\n",
       "      <td>2940</td>\n",
       "      <td>5.820408</td>\n",
       "    </tr>\n",
       "    <tr>\n",
       "      <th>30</th>\n",
       "      <td>Game Thread: Washington Redskins (3-2) at Phil...</td>\n",
       "      <td>17843</td>\n",
       "      <td>3233</td>\n",
       "      <td>5.519023</td>\n",
       "    </tr>\n",
       "    <tr>\n",
       "      <th>31</th>\n",
       "      <td>Game Thread: Washington Redskins (5-6) at Dall...</td>\n",
       "      <td>12153</td>\n",
       "      <td>2207</td>\n",
       "      <td>5.506570</td>\n",
       "    </tr>\n",
       "  </tbody>\n",
       "</table>\n",
       "</div>"
      ],
      "text/plain": [
       "                                     submission_title  count  nunique  \\\n",
       "0   Game Thread: Atlanta Falcons (3-2) at New Engl...  19786     3707   \n",
       "1   Game Thread: Atlanta Falcons (5-4) at Seattle ...  16276     2681   \n",
       "2   Game Thread: Atlanta Falcons (8-5) at Tampa Ba...  13002     2329   \n",
       "3   Game Thread: Chicago Bears (1-2) at Green Bay ...  32602     6089   \n",
       "4   Game Thread: Dallas Cowboys (1-1) at Arizona C...  17228     3113   \n",
       "5   Game Thread: Dallas Cowboys (7-6) at Oakland R...  13443     2606   \n",
       "6   Game Thread: Denver Broncos (3-3) at Kansas Ci...  10675     1881   \n",
       "7   Game Thread: Detroit Lions (1-0) at New York G...  17656     3074   \n",
       "8   Game Thread: Detroit Lions (3-4) at Green Bay ...  12357     2180   \n",
       "9   Game Thread: Green Bay Packers (4-1) at Minnes...  12109     1705   \n",
       "10  Game Thread: Green Bay Packers (7-6) at Caroli...  11132     1983   \n",
       "11  Game Thread: Houston Texans (0-1) at Cincinnat...  17647     3216   \n",
       "12  Game Thread: Jacksonville Jaguars (12-6) at Ne...  66406    12834   \n",
       "13  Game Thread: Kansas City Chiefs (0-0) at New E...  42054     7340   \n",
       "14  Game Thread: Kansas City Chiefs (5-1) at Oakla...  23186     4190   \n",
       "15  Game Thread: Los Angeles Chargers (4-6) at Dal...  12933     2615   \n",
       "16  Game Thread: Los Angeles Rams (1-1) at San Fra...  15464     2909   \n",
       "17  Game Thread: Minnesota Vikings (10-2) at Carol...  11188     1470   \n",
       "18  Game Thread: Minnesota Vikings (11-3) at Green...  11723     1825   \n",
       "19  Game Thread: New England Patriots (10-2) at Mi...  19065     3328   \n",
       "20  Game Thread: New Orleans Saints (0-0) at Minne...  14752     2818   \n",
       "21  Game Thread: New Orleans Saints (9-3) at Atlan...  17594     3070   \n",
       "22  Game Thread: New York Giants (0-0) at Dallas C...  14297     2628   \n",
       "23  Game Thread: Oakland Raiders (2-0) at Washingt...  11611     2116   \n",
       "24  Game Thread: Oakland Raiders (6-8) at Philadel...  12251     2166   \n",
       "25  Game Thread: Philadelphia Eagles (4-1) at Caro...  23617     3740   \n",
       "26  Game Thread: Pittsburgh Steelers (5-2) at Detr...  11519     1786   \n",
       "27  Game Thread: Pittsburgh Steelers (9-2) at Cinc...  24354     4523   \n",
       "28  Game Thread: Seattle Seahawks (5-3) at Arizona...  15343     2719   \n",
       "29  Game Thread: Washington Redskins (2-1) at Kans...  17112     2940   \n",
       "30  Game Thread: Washington Redskins (3-2) at Phil...  17843     3233   \n",
       "31  Game Thread: Washington Redskins (5-6) at Dall...  12153     2207   \n",
       "\n",
       "    posts_per_author  \n",
       "0           5.337470  \n",
       "1           6.070869  \n",
       "2           5.582653  \n",
       "3           5.354245  \n",
       "4           5.534211  \n",
       "5           5.158480  \n",
       "6           5.675173  \n",
       "7           5.743656  \n",
       "8           5.668349  \n",
       "9           7.102053  \n",
       "10          5.613717  \n",
       "11          5.487251  \n",
       "12          5.174225  \n",
       "13          5.729428  \n",
       "14          5.533652  \n",
       "15          4.945698  \n",
       "16          5.315916  \n",
       "17          7.610884  \n",
       "18          6.423562  \n",
       "19          5.728666  \n",
       "20          5.234918  \n",
       "21          5.730945  \n",
       "22          5.440259  \n",
       "23          5.487240  \n",
       "24          5.656048  \n",
       "25          6.314706  \n",
       "26          6.449608  \n",
       "27          5.384479  \n",
       "28          5.642883  \n",
       "29          5.820408  \n",
       "30          5.519023  \n",
       "31          5.506570  "
      ]
     },
     "execution_count": 195,
     "metadata": {},
     "output_type": "execute_result"
    }
   ],
   "source": [
    "temp_data = pd.DataFrame(data.groupby('submission_title')['author'].agg(['count','nunique'])).reset_index()\n",
    "temp_data['posts_per_author'] = temp_data['count'] / temp_data['nunique']\n",
    "temp_data"
   ]
  },
  {
   "cell_type": "code",
   "execution_count": 197,
   "metadata": {},
   "outputs": [
    {
     "data": {
      "text/plain": [
       "5.718038909859947"
      ]
     },
     "execution_count": 197,
     "metadata": {},
     "output_type": "execute_result"
    }
   ],
   "source": [
    "temp_data['posts_per_author'].mean()"
   ]
  },
  {
   "cell_type": "code",
   "execution_count": 29,
   "metadata": {},
   "outputs": [
    {
     "data": {
      "text/plain": [
       "588378"
      ]
     },
     "execution_count": 29,
     "metadata": {},
     "output_type": "execute_result"
    }
   ],
   "source": [
    "data.comment_body.count()"
   ]
  },
  {
   "cell_type": "code",
   "execution_count": 136,
   "metadata": {},
   "outputs": [
    {
     "data": {
      "text/html": [
       "<div>\n",
       "<style>\n",
       "    .dataframe thead tr:only-child th {\n",
       "        text-align: right;\n",
       "    }\n",
       "\n",
       "    .dataframe thead th {\n",
       "        text-align: left;\n",
       "    }\n",
       "\n",
       "    .dataframe tbody tr th {\n",
       "        vertical-align: top;\n",
       "    }\n",
       "</style>\n",
       "<table border=\"1\" class=\"dataframe\">\n",
       "  <thead>\n",
       "    <tr style=\"text-align: right;\">\n",
       "      <th></th>\n",
       "      <th></th>\n",
       "      <th>comment_body</th>\n",
       "    </tr>\n",
       "    <tr>\n",
       "      <th>author</th>\n",
       "      <th>submission_title</th>\n",
       "      <th></th>\n",
       "    </tr>\n",
       "  </thead>\n",
       "  <tbody>\n",
       "    <tr>\n",
       "      <th>Scaryclouds</th>\n",
       "      <th>Game Thread: Kansas City Chiefs (0-0) at New England Patriots (0-0)</th>\n",
       "      <td>203</td>\n",
       "    </tr>\n",
       "    <tr>\n",
       "      <th>viikatemies</th>\n",
       "      <th>Game Thread: Kansas City Chiefs (0-0) at New England Patriots (0-0)</th>\n",
       "      <td>187</td>\n",
       "    </tr>\n",
       "    <tr>\n",
       "      <th>V-Necks</th>\n",
       "      <th>Game Thread: Los Angeles Chargers (4-6) at Dallas Cowboys (5-5)</th>\n",
       "      <td>186</td>\n",
       "    </tr>\n",
       "    <tr>\n",
       "      <th>sixbluntsdeep</th>\n",
       "      <th>Game Thread: Minnesota Vikings (10-2) at Carolina Panthers (8-4)</th>\n",
       "      <td>184</td>\n",
       "    </tr>\n",
       "    <tr>\n",
       "      <th>funkymunniez</th>\n",
       "      <th>Game Thread: Kansas City Chiefs (0-0) at New England Patriots (0-0)</th>\n",
       "      <td>175</td>\n",
       "    </tr>\n",
       "    <tr>\n",
       "      <th>skynet2175</th>\n",
       "      <th>Game Thread: Washington Redskins (2-1) at Kansas City Chiefs (3-0)</th>\n",
       "      <td>171</td>\n",
       "    </tr>\n",
       "    <tr>\n",
       "      <th>Long_Hair_Who_Care</th>\n",
       "      <th>Game Thread: Philadelphia Eagles (4-1) at Carolina Panthers (4-1)</th>\n",
       "      <td>168</td>\n",
       "    </tr>\n",
       "    <tr>\n",
       "      <th>MusicNerds</th>\n",
       "      <th>Game Thread: Philadelphia Eagles (4-1) at Carolina Panthers (4-1)</th>\n",
       "      <td>164</td>\n",
       "    </tr>\n",
       "    <tr>\n",
       "      <th>viikatemies</th>\n",
       "      <th>Game Thread: Washington Redskins (5-6) at Dallas Cowboys (5-6)</th>\n",
       "      <td>163</td>\n",
       "    </tr>\n",
       "    <tr>\n",
       "      <th>mnslice</th>\n",
       "      <th>Game Thread: Minnesota Vikings (11-3) at Green Bay Packers (7-7)</th>\n",
       "      <td>159</td>\n",
       "    </tr>\n",
       "  </tbody>\n",
       "</table>\n",
       "</div>"
      ],
      "text/plain": [
       "                                                                       comment_body\n",
       "author             submission_title                                                \n",
       "Scaryclouds        Game Thread: Kansas City Chiefs (0-0) at New En...           203\n",
       "viikatemies        Game Thread: Kansas City Chiefs (0-0) at New En...           187\n",
       "V-Necks            Game Thread: Los Angeles Chargers (4-6) at Dall...           186\n",
       "sixbluntsdeep      Game Thread: Minnesota Vikings (10-2) at Caroli...           184\n",
       "funkymunniez       Game Thread: Kansas City Chiefs (0-0) at New En...           175\n",
       "skynet2175         Game Thread: Washington Redskins (2-1) at Kansa...           171\n",
       "Long_Hair_Who_Care Game Thread: Philadelphia Eagles (4-1) at Carol...           168\n",
       "MusicNerds         Game Thread: Philadelphia Eagles (4-1) at Carol...           164\n",
       "viikatemies        Game Thread: Washington Redskins (5-6) at Dalla...           163\n",
       "mnslice            Game Thread: Minnesota Vikings (11-3) at Green ...           159"
      ]
     },
     "execution_count": 136,
     "metadata": {},
     "output_type": "execute_result"
    }
   ],
   "source": [
    "pd.DataFrame(data[data['author']!='None'].groupby(['author','submission_title'])['comment_body'].count()) \\\n",
    ".sort_values(by=\"comment_body\", ascending=False).head(10)\n"
   ]
  },
  {
   "cell_type": "code",
   "execution_count": 156,
   "metadata": {},
   "outputs": [
    {
     "data": {
      "text/plain": [
       "8784                                Fisher you fat fuck! \n",
       "8814    Hmm, looks like a bad spot, I think Smith got ...\n",
       "8825                           Yea, first down for sure. \n",
       "8843    God damn, our o-line is just terrible at run b...\n",
       "8860      Part of it is injuries to our interior o-line. \n",
       "Name: comment_body, dtype: object"
      ]
     },
     "execution_count": 156,
     "metadata": {},
     "output_type": "execute_result"
    }
   ],
   "source": [
    "data[data.author == 'Scaryclouds'].comment_body.head()"
   ]
  },
  {
   "cell_type": "code",
   "execution_count": 155,
   "metadata": {},
   "outputs": [
    {
     "data": {
      "image/png": "[encoded data removed]",
      "text/plain": [
       "<matplotlib.figure.Figure at 0x1992f79b0>"
      ]
     },
     "metadata": {},
     "output_type": "display_data"
    }
   ],
   "source": [
    "plt.figure(figsize=(10,7))\n",
    "data_formatted = data[data['author']!='None'].groupby(['author','submission_title'])['comment_body'].count().reset_index()\n",
    "data_formatted = data_formatted['comment_body']\n",
    "plt.hist(data_formatted, bins=10, normed=True, rwidth=.9)\n",
    "# plt.hist(data, bins=100, normed=False)\n",
    "plt.title(\"Number of Comments Per Author\")\n",
    "plt.xlabel(\"Number of Comments Per Subreddit\")\n",
    "plt.ylabel(\"Percentage of Authors\")\n",
    "plt.show()"
   ]
  },
  {
   "cell_type": "code",
   "execution_count": 51,
   "metadata": {},
   "outputs": [
    {
     "data": {
      "text/html": [
       "<div>\n",
       "<style>\n",
       "    .dataframe thead tr:only-child th {\n",
       "        text-align: right;\n",
       "    }\n",
       "\n",
       "    .dataframe thead th {\n",
       "        text-align: left;\n",
       "    }\n",
       "\n",
       "    .dataframe tbody tr th {\n",
       "        vertical-align: top;\n",
       "    }\n",
       "</style>\n",
       "<table border=\"1\" class=\"dataframe\">\n",
       "  <thead>\n",
       "    <tr style=\"text-align: right;\">\n",
       "      <th></th>\n",
       "      <th>count</th>\n",
       "      <th>max</th>\n",
       "    </tr>\n",
       "    <tr>\n",
       "      <th>submission_title</th>\n",
       "      <th></th>\n",
       "      <th></th>\n",
       "    </tr>\n",
       "  </thead>\n",
       "  <tbody>\n",
       "    <tr>\n",
       "      <th>Game Thread: Denver Broncos (3-3) at Kansas City Chiefs (5-2)</th>\n",
       "      <td>10675</td>\n",
       "      <td>2017-10-31 03:37:09</td>\n",
       "    </tr>\n",
       "    <tr>\n",
       "      <th>Game Thread: Green Bay Packers (7-6) at Carolina Panthers (9-4)</th>\n",
       "      <td>11132</td>\n",
       "      <td>2017-12-17 21:27:20</td>\n",
       "    </tr>\n",
       "    <tr>\n",
       "      <th>Game Thread: Minnesota Vikings (10-2) at Carolina Panthers (8-4)</th>\n",
       "      <td>11188</td>\n",
       "      <td>2017-12-10 21:08:11</td>\n",
       "    </tr>\n",
       "    <tr>\n",
       "      <th>Game Thread: Pittsburgh Steelers (5-2) at Detroit Lions (3-3)</th>\n",
       "      <td>11519</td>\n",
       "      <td>2017-10-30 03:34:05</td>\n",
       "    </tr>\n",
       "    <tr>\n",
       "      <th>Game Thread: Oakland Raiders (2-0) at Washington Redskins (1-1)</th>\n",
       "      <td>11611</td>\n",
       "      <td>2017-09-25 03:32:06</td>\n",
       "    </tr>\n",
       "    <tr>\n",
       "      <th>Game Thread: Minnesota Vikings (11-3) at Green Bay Packers (7-7)</th>\n",
       "      <td>11723</td>\n",
       "      <td>2017-12-24 04:29:04</td>\n",
       "    </tr>\n",
       "    <tr>\n",
       "      <th>Game Thread: Green Bay Packers (4-1) at Minnesota Vikings (3-2)</th>\n",
       "      <td>12109</td>\n",
       "      <td>2017-10-15 20:19:11</td>\n",
       "    </tr>\n",
       "    <tr>\n",
       "      <th>Game Thread: Washington Redskins (5-6) at Dallas Cowboys (5-6)</th>\n",
       "      <td>12153</td>\n",
       "      <td>2017-12-01 04:22:05</td>\n",
       "    </tr>\n",
       "    <tr>\n",
       "      <th>Game Thread: Oakland Raiders (6-8) at Philadelphia Eagles (12-2)</th>\n",
       "      <td>12251</td>\n",
       "      <td>2017-12-26 04:48:07</td>\n",
       "    </tr>\n",
       "    <tr>\n",
       "      <th>Game Thread: Detroit Lions (3-4) at Green Bay Packers (4-3)</th>\n",
       "      <td>12357</td>\n",
       "      <td>2017-11-07 04:13:05</td>\n",
       "    </tr>\n",
       "    <tr>\n",
       "      <th>Game Thread: Los Angeles Chargers (4-6) at Dallas Cowboys (5-5)</th>\n",
       "      <td>12933</td>\n",
       "      <td>2017-11-24 00:26:04</td>\n",
       "    </tr>\n",
       "    <tr>\n",
       "      <th>Game Thread: Atlanta Falcons (8-5) at Tampa Bay Buccaneers (4-9)</th>\n",
       "      <td>13002</td>\n",
       "      <td>2017-12-19 02:52:03</td>\n",
       "    </tr>\n",
       "    <tr>\n",
       "      <th>Game Thread: Dallas Cowboys (7-6) at Oakland Raiders (6-7)</th>\n",
       "      <td>13443</td>\n",
       "      <td>2017-12-18 04:49:05</td>\n",
       "    </tr>\n",
       "    <tr>\n",
       "      <th>Game Thread: New York Giants (0-0) at Dallas Cowboys (0-0)</th>\n",
       "      <td>14297</td>\n",
       "      <td>2017-09-11 03:27:07</td>\n",
       "    </tr>\n",
       "    <tr>\n",
       "      <th>Game Thread: New Orleans Saints (0-0) at Minnesota Vikings (0-0)</th>\n",
       "      <td>14752</td>\n",
       "      <td>2017-09-12 02:09:02</td>\n",
       "    </tr>\n",
       "    <tr>\n",
       "      <th>Game Thread: Seattle Seahawks (5-3) at Arizona Cardinals (4-4)</th>\n",
       "      <td>15343</td>\n",
       "      <td>2017-11-10 04:56:05</td>\n",
       "    </tr>\n",
       "    <tr>\n",
       "      <th>Game Thread: Los Angeles Rams (1-1) at San Francisco 49ers (0-2)</th>\n",
       "      <td>15464</td>\n",
       "      <td>2017-09-22 03:56:05</td>\n",
       "    </tr>\n",
       "    <tr>\n",
       "      <th>Game Thread: Atlanta Falcons (5-4) at Seattle Seahawks (6-3)</th>\n",
       "      <td>16276</td>\n",
       "      <td>2017-11-21 04:50:06</td>\n",
       "    </tr>\n",
       "    <tr>\n",
       "      <th>Game Thread: Washington Redskins (2-1) at Kansas City Chiefs (3-0)</th>\n",
       "      <td>17112</td>\n",
       "      <td>2017-10-03 03:26:03</td>\n",
       "    </tr>\n",
       "    <tr>\n",
       "      <th>Game Thread: Dallas Cowboys (1-1) at Arizona Cardinals (1-1)</th>\n",
       "      <td>17228</td>\n",
       "      <td>2017-09-26 03:47:06</td>\n",
       "    </tr>\n",
       "    <tr>\n",
       "      <th>Game Thread: New Orleans Saints (9-3) at Atlanta Falcons (7-5)</th>\n",
       "      <td>17594</td>\n",
       "      <td>2017-12-08 04:25:07</td>\n",
       "    </tr>\n",
       "    <tr>\n",
       "      <th>Game Thread: Houston Texans (0-1) at Cincinnati Bengals (0-1)</th>\n",
       "      <td>17647</td>\n",
       "      <td>2017-09-15 03:35:03</td>\n",
       "    </tr>\n",
       "    <tr>\n",
       "      <th>Game Thread: Detroit Lions (1-0) at New York Giants (0-1)</th>\n",
       "      <td>17656</td>\n",
       "      <td>2017-09-19 02:33:03</td>\n",
       "    </tr>\n",
       "    <tr>\n",
       "      <th>Game Thread: Washington Redskins (3-2) at Philadelphia Eagles (5-1)</th>\n",
       "      <td>17843</td>\n",
       "      <td>2017-10-24 03:41:06</td>\n",
       "    </tr>\n",
       "    <tr>\n",
       "      <th>Game Thread: New England Patriots (10-2) at Miami Dolphins (5-7)</th>\n",
       "      <td>19065</td>\n",
       "      <td>2017-12-12 04:48:05</td>\n",
       "    </tr>\n",
       "    <tr>\n",
       "      <th>Game Thread: Atlanta Falcons (3-2) at New England Patriots (4-2)</th>\n",
       "      <td>19786</td>\n",
       "      <td>2017-10-23 03:26:03</td>\n",
       "    </tr>\n",
       "    <tr>\n",
       "      <th>Game Thread: Kansas City Chiefs (5-1) at Oakland Raiders (2-4)</th>\n",
       "      <td>23186</td>\n",
       "      <td>2017-10-20 03:50:07</td>\n",
       "    </tr>\n",
       "    <tr>\n",
       "      <th>Game Thread: Philadelphia Eagles (4-1) at Carolina Panthers (4-1)</th>\n",
       "      <td>23617</td>\n",
       "      <td>2017-10-13 03:47:06</td>\n",
       "    </tr>\n",
       "    <tr>\n",
       "      <th>Game Thread: Pittsburgh Steelers (9-2) at Cincinnati Bengals (5-6)</th>\n",
       "      <td>24354</td>\n",
       "      <td>2017-12-05 04:53:04</td>\n",
       "    </tr>\n",
       "    <tr>\n",
       "      <th>Game Thread: Chicago Bears (1-2) at Green Bay Packers (2-1)</th>\n",
       "      <td>32602</td>\n",
       "      <td>2017-09-29 03:59:04</td>\n",
       "    </tr>\n",
       "    <tr>\n",
       "      <th>Game Thread: Kansas City Chiefs (0-0) at New England Patriots (0-0)</th>\n",
       "      <td>42054</td>\n",
       "      <td>2017-09-08 03:57:03</td>\n",
       "    </tr>\n",
       "    <tr>\n",
       "      <th>Game Thread: Jacksonville Jaguars (12-6) at New England Patriots (14-3)</th>\n",
       "      <td>66406</td>\n",
       "      <td>2018-01-21 23:17:07</td>\n",
       "    </tr>\n",
       "  </tbody>\n",
       "</table>\n",
       "</div>"
      ],
      "text/plain": [
       "                                                    count                 max\n",
       "submission_title                                                             \n",
       "Game Thread: Denver Broncos (3-3) at Kansas Cit...  10675 2017-10-31 03:37:09\n",
       "Game Thread: Green Bay Packers (7-6) at Carolin...  11132 2017-12-17 21:27:20\n",
       "Game Thread: Minnesota Vikings (10-2) at Caroli...  11188 2017-12-10 21:08:11\n",
       "Game Thread: Pittsburgh Steelers (5-2) at Detro...  11519 2017-10-30 03:34:05\n",
       "Game Thread: Oakland Raiders (2-0) at Washingto...  11611 2017-09-25 03:32:06\n",
       "Game Thread: Minnesota Vikings (11-3) at Green ...  11723 2017-12-24 04:29:04\n",
       "Game Thread: Green Bay Packers (4-1) at Minneso...  12109 2017-10-15 20:19:11\n",
       "Game Thread: Washington Redskins (5-6) at Dalla...  12153 2017-12-01 04:22:05\n",
       "Game Thread: Oakland Raiders (6-8) at Philadelp...  12251 2017-12-26 04:48:07\n",
       "Game Thread: Detroit Lions (3-4) at Green Bay P...  12357 2017-11-07 04:13:05\n",
       "Game Thread: Los Angeles Chargers (4-6) at Dall...  12933 2017-11-24 00:26:04\n",
       "Game Thread: Atlanta Falcons (8-5) at Tampa Bay...  13002 2017-12-19 02:52:03\n",
       "Game Thread: Dallas Cowboys (7-6) at Oakland Ra...  13443 2017-12-18 04:49:05\n",
       "Game Thread: New York Giants (0-0) at Dallas Co...  14297 2017-09-11 03:27:07\n",
       "Game Thread: New Orleans Saints (0-0) at Minnes...  14752 2017-09-12 02:09:02\n",
       "Game Thread: Seattle Seahawks (5-3) at Arizona ...  15343 2017-11-10 04:56:05\n",
       "Game Thread: Los Angeles Rams (1-1) at San Fran...  15464 2017-09-22 03:56:05\n",
       "Game Thread: Atlanta Falcons (5-4) at Seattle S...  16276 2017-11-21 04:50:06\n",
       "Game Thread: Washington Redskins (2-1) at Kansa...  17112 2017-10-03 03:26:03\n",
       "Game Thread: Dallas Cowboys (1-1) at Arizona Ca...  17228 2017-09-26 03:47:06\n",
       "Game Thread: New Orleans Saints (9-3) at Atlant...  17594 2017-12-08 04:25:07\n",
       "Game Thread: Houston Texans (0-1) at Cincinnati...  17647 2017-09-15 03:35:03\n",
       "Game Thread: Detroit Lions (1-0) at New York Gi...  17656 2017-09-19 02:33:03\n",
       "Game Thread: Washington Redskins (3-2) at Phila...  17843 2017-10-24 03:41:06\n",
       "Game Thread: New England Patriots (10-2) at Mia...  19065 2017-12-12 04:48:05\n",
       "Game Thread: Atlanta Falcons (3-2) at New Engla...  19786 2017-10-23 03:26:03\n",
       "Game Thread: Kansas City Chiefs (5-1) at Oaklan...  23186 2017-10-20 03:50:07\n",
       "Game Thread: Philadelphia Eagles (4-1) at Carol...  23617 2017-10-13 03:47:06\n",
       "Game Thread: Pittsburgh Steelers (9-2) at Cinci...  24354 2017-12-05 04:53:04\n",
       "Game Thread: Chicago Bears (1-2) at Green Bay P...  32602 2017-09-29 03:59:04\n",
       "Game Thread: Kansas City Chiefs (0-0) at New En...  42054 2017-09-08 03:57:03\n",
       "Game Thread: Jacksonville Jaguars (12-6) at New...  66406 2018-01-21 23:17:07"
      ]
     },
     "execution_count": 51,
     "metadata": {},
     "output_type": "execute_result"
    }
   ],
   "source": [
    "pd.DataFrame(data.groupby(\"submission_title\").matched_play_by_play_utc.agg(['count','max'])) \\\n",
    "    .sort_values(by=['count'])\n"
   ]
  },
  {
   "cell_type": "code",
   "execution_count": 65,
   "metadata": {},
   "outputs": [],
   "source": [
    "data['fan_type'] = np.where(data.author_flair==data.home_team, \n",
    "                            'home', \n",
    "                            np.where(data.author_flair==data.away_team, \n",
    "                                     'away','other'))"
   ]
  },
  {
   "cell_type": "code",
   "execution_count": 114,
   "metadata": {},
   "outputs": [],
   "source": [
    "# data_cnt_by_gamefan = pd.DataFrame(data[data.fan_type != 'other'].groupby([\"submission_title\",\"home_team\",\"away_team\",\"fan_type\"]).matched_play_by_play_utc.agg(['count'])).reset_index()\n",
    "# data_cnt_by_game = pd.DataFrame(data[data.fan_type != 'other'].groupby([\"submission_title\"]).matched_play_by_play_utc.agg(['count','max'])).reset_index()\n",
    "data_cnt_by_gamefan = pd.DataFrame(data.groupby([\"submission_title\",\"home_team\",\"away_team\",\"fan_type\"]).matched_play_by_play_utc.agg(['count'])).reset_index()\n",
    "data_cnt_by_game = pd.DataFrame(data.groupby([\"submission_title\"]).matched_play_by_play_utc.agg(['count','max'])).reset_index()"
   ]
  },
  {
   "cell_type": "code",
   "execution_count": 115,
   "metadata": {},
   "outputs": [
    {
     "data": {
      "text/html": [
       "<div>\n",
       "<style>\n",
       "    .dataframe thead tr:only-child th {\n",
       "        text-align: right;\n",
       "    }\n",
       "\n",
       "    .dataframe thead th {\n",
       "        text-align: left;\n",
       "    }\n",
       "\n",
       "    .dataframe tbody tr th {\n",
       "        vertical-align: top;\n",
       "    }\n",
       "</style>\n",
       "<table border=\"1\" class=\"dataframe\">\n",
       "  <thead>\n",
       "    <tr style=\"text-align: right;\">\n",
       "      <th></th>\n",
       "      <th>submission_title</th>\n",
       "      <th>home_team</th>\n",
       "      <th>away_team</th>\n",
       "      <th>fan_type</th>\n",
       "      <th>count</th>\n",
       "    </tr>\n",
       "  </thead>\n",
       "  <tbody>\n",
       "    <tr>\n",
       "      <th>0</th>\n",
       "      <td>Game Thread: Atlanta Falcons (3-2) at New Engl...</td>\n",
       "      <td>Patriots</td>\n",
       "      <td>Falcons</td>\n",
       "      <td>away</td>\n",
       "      <td>2675</td>\n",
       "    </tr>\n",
       "    <tr>\n",
       "      <th>1</th>\n",
       "      <td>Game Thread: Atlanta Falcons (3-2) at New Engl...</td>\n",
       "      <td>Patriots</td>\n",
       "      <td>Falcons</td>\n",
       "      <td>home</td>\n",
       "      <td>7719</td>\n",
       "    </tr>\n",
       "    <tr>\n",
       "      <th>2</th>\n",
       "      <td>Game Thread: Atlanta Falcons (3-2) at New Engl...</td>\n",
       "      <td>Patriots</td>\n",
       "      <td>Falcons</td>\n",
       "      <td>other</td>\n",
       "      <td>9392</td>\n",
       "    </tr>\n",
       "    <tr>\n",
       "      <th>3</th>\n",
       "      <td>Game Thread: Atlanta Falcons (5-4) at Seattle ...</td>\n",
       "      <td>Seahawks</td>\n",
       "      <td>Falcons</td>\n",
       "      <td>away</td>\n",
       "      <td>3205</td>\n",
       "    </tr>\n",
       "    <tr>\n",
       "      <th>4</th>\n",
       "      <td>Game Thread: Atlanta Falcons (5-4) at Seattle ...</td>\n",
       "      <td>Seahawks</td>\n",
       "      <td>Falcons</td>\n",
       "      <td>home</td>\n",
       "      <td>4183</td>\n",
       "    </tr>\n",
       "  </tbody>\n",
       "</table>\n",
       "</div>"
      ],
      "text/plain": [
       "                                    submission_title home_team away_team  \\\n",
       "0  Game Thread: Atlanta Falcons (3-2) at New Engl...  Patriots   Falcons   \n",
       "1  Game Thread: Atlanta Falcons (3-2) at New Engl...  Patriots   Falcons   \n",
       "2  Game Thread: Atlanta Falcons (3-2) at New Engl...  Patriots   Falcons   \n",
       "3  Game Thread: Atlanta Falcons (5-4) at Seattle ...  Seahawks   Falcons   \n",
       "4  Game Thread: Atlanta Falcons (5-4) at Seattle ...  Seahawks   Falcons   \n",
       "\n",
       "  fan_type  count  \n",
       "0     away   2675  \n",
       "1     home   7719  \n",
       "2    other   9392  \n",
       "3     away   3205  \n",
       "4     home   4183  "
      ]
     },
     "execution_count": 115,
     "metadata": {},
     "output_type": "execute_result"
    }
   ],
   "source": [
    "data_cnt_by_gamefan.head()"
   ]
  },
  {
   "cell_type": "code",
   "execution_count": 116,
   "metadata": {},
   "outputs": [],
   "source": [
    "result = pd.merge(data_cnt_by_gamefan, data_cnt_by_game, how='inner', on=['submission_title'])\n",
    "result['ratio'] = result.count_x/result.count_y\n",
    "result['referenced_team'] = np.where(result.fan_type=='away', \n",
    "                                        result.away_team,\n",
    "                                        result.home_team)\n",
    "result.to_csv(\"temp.csv\")"
   ]
  },
  {
   "cell_type": "code",
   "execution_count": null,
   "metadata": {},
   "outputs": [],
   "source": [
    "Things I know\n",
    "1. The majority of people have less than 20 comments in the dataset\n"
   ]
  },
  {
   "cell_type": "code",
   "execution_count": 208,
   "metadata": {},
   "outputs": [
    {
     "data": {
      "image/png": "[encoded data removed]",
      "text/plain": [
       "<matplotlib.figure.Figure at 0x1997c5a90>"
      ]
     },
     "metadata": {},
     "output_type": "display_data"
    }
   ],
   "source": [
    "# X_data = data.comment_body\n",
    "plt.hist(data.homeWinPercentage, bins=50, rwidth=.9)\n",
    "# plt.hist(data, bins=100, normed=False)\n",
    "plt.title(\"Histogram of Win Percentages\")\n",
    "plt.xlabel(\"Win Percentage Bin\")\n",
    "plt.ylabel(\"Number of Comments\")\n",
    "plt.show()"
   ]
  },
  {
   "cell_type": "code",
   "execution_count": 230,
   "metadata": {},
   "outputs": [
    {
     "data": {
      "image/png": "[encoded data removed]",
      "text/plain": [
       "<matplotlib.figure.Figure at 0x1a326ddd8>"
      ]
     },
     "metadata": {},
     "output_type": "display_data"
    }
   ],
   "source": [
    "combined_data = list(data[data.fan_type == 'home'].homeWinPercentage) + list(data[data.fan_type == 'away'].awayWinPercentage)\n",
    "# X_data = data.comment_body\n",
    "plt.hist(combined_data, bins=3, rwidth=.9)\n",
    "# plt.hist(data, bins=100, normed=False)\n",
    "plt.title(\"Histogram of Win Percentages For Fans Only\")\n",
    "plt.xlabel(\"Win Percentage Bin\")\n",
    "plt.ylabel(\"Number of Comments\")\n",
    "plt.show()"
   ]
  },
  {
   "cell_type": "code",
   "execution_count": 252,
   "metadata": {},
   "outputs": [],
   "source": [
    "data['game_type'] = np.where((data.fan_type=='away') & \n",
    "                         (data.awayWinPercentage < .4), \n",
    "                        'High Chance Lose', \n",
    "                        np.where((data.fan_type=='away') & \n",
    "                             (data.awayWinPercentage > .6), \n",
    "                            'High Chance Win', \n",
    "                                 np.where(data.homeWinPercentage < .4, \n",
    "                                    'High Chance Lose', \n",
    "                                        np.where(data.homeWinPercentage > .6, \n",
    "                                            'High Chance Win',\n",
    "                                             'Close Game'))))"
   ]
  },
  {
   "cell_type": "code",
   "execution_count": 265,
   "metadata": {},
   "outputs": [
    {
     "data": {
      "image/png": "[encoded data removed]",
      "text/plain": [
       "<matplotlib.figure.Figure at 0x2444d9080>"
      ]
     },
     "metadata": {},
     "output_type": "display_data"
    }
   ],
   "source": [
    "from collections import Counter\n",
    "import numpy as np\n",
    "import matplotlib.pyplot as plt\n",
    "\n",
    "\n",
    "labels, values = zip(*Counter(data['game_type']).items())\n",
    "\n",
    "indexes = np.arange(len(labels))\n",
    "\n",
    "plt.bar(indexes, values, .9)\n",
    "plt.xticks(indexes, labels)\n",
    "plt.show()"
   ]
  },
  {
   "cell_type": "code",
   "execution_count": 267,
   "metadata": {},
   "outputs": [],
   "source": [
    "X_data = data['comment_body']\n",
    "Y_data = data['game_type']"
   ]
  },
  {
   "cell_type": "code",
   "execution_count": 268,
   "metadata": {},
   "outputs": [],
   "source": [
    "# Tokenize the comments\n",
    "from nltk.tokenize.treebank import TreebankWordTokenizer\n",
    "tokenizer = TreebankWordTokenizer()\n",
    "x_tokens = [tokenizer.tokenize(str(i)) for i in X_data]"
   ]
  },
  {
   "cell_type": "code",
   "execution_count": 269,
   "metadata": {},
   "outputs": [],
   "source": [
    "from sklearn.feature_extraction.text import CountVectorizer\n",
    "vectorizer = CountVectorizer()\n",
    "X_data_csr = vectorizer.fit_transform(X_data)"
   ]
  },
  {
   "cell_type": "code",
   "execution_count": 271,
   "metadata": {},
   "outputs": [],
   "source": [
    "from sklearn.model_selection import train_test_split\n",
    "# Split data into 90% train and 10% test\n",
    "X_train, X_test, y_train, y_test = train_test_split(\n",
    "    X_data_csr, Y_data, test_size=0.10, random_state=42)"
   ]
  },
  {
   "cell_type": "code",
   "execution_count": 279,
   "metadata": {},
   "outputs": [
    {
     "name": "stdout",
     "output_type": "stream",
     "text": [
      "Accuracy on test set: 48.31%\n"
     ]
    }
   ],
   "source": [
    "from sklearn.naive_bayes import MultinomialNB\n",
    "from sklearn.metrics import accuracy_score\n",
    "nb = MultinomialNB()\n",
    "nb.fit(X_train, y_train)\n",
    "y_pred = nb.predict(X_test)\n",
    "\n",
    "acc = accuracy_score(y_test, y_pred)\n",
    "print(\"Accuracy on test set: {:.02%}\".format(acc))"
   ]
  },
  {
   "cell_type": "code",
   "execution_count": 276,
   "metadata": {},
   "outputs": [
    {
     "data": {
      "text/plain": [
       "0.45821278845790686"
      ]
     },
     "execution_count": 276,
     "metadata": {},
     "output_type": "execute_result"
    }
   ],
   "source": [
    "# Most common percent\n",
    "from collections import Counter\n",
    "list_cnts = Counter(y_train)\n",
    "highest = sorted(list_cnts, key = list_cnts.get, reverse = True)[:1]\n",
    "highest_percent = list_cnts[highest[0]]/len(y_train)\n",
    "highest_percent"
   ]
  },
  {
   "cell_type": "code",
   "execution_count": 277,
   "metadata": {},
   "outputs": [
    {
     "data": {
      "text/plain": [
       "0.4574764607906455"
      ]
     },
     "execution_count": 277,
     "metadata": {},
     "output_type": "execute_result"
    }
   ],
   "source": [
    "# Accuracy for test data\n",
    "list_cnts = Counter(y_test)\n",
    "highest = sorted(list_cnts, key = list_cnts.get, reverse = True)[:1]\n",
    "highest_percent = list_cnts[highest[0]]/len(y_test)\n",
    "highest_percent"
   ]
  },
  {
   "cell_type": "code",
   "execution_count": 327,
   "metadata": {},
   "outputs": [
    {
     "data": {
      "text/plain": [
       "array([105221., 181677., 242642.])"
      ]
     },
     "execution_count": 327,
     "metadata": {},
     "output_type": "execute_result"
    }
   ],
   "source": [
    "nb.class_count_"
   ]
  },
  {
   "cell_type": "code",
   "execution_count": 315,
   "metadata": {},
   "outputs": [
    {
     "data": {
      "text/plain": [
       "[66855, 30024, 30025, 67821, 30027, 30028, 53678, 30030, 53677, 30032]"
      ]
     },
     "execution_count": 315,
     "metadata": {},
     "output_type": "execute_result"
    }
   ],
   "source": [
    "import numpy as np\n",
    "\n",
    "# Top 10 \n",
    "[i for i in np.argsort(nb.coef_[0])[:10]]\n",
    "# [nb.coef_[0][i] for i in np.argsort(nb.coef_[0])[-10:]]"
   ]
  },
  {
   "cell_type": "code",
   "execution_count": 334,
   "metadata": {},
   "outputs": [
    {
     "name": "stdout",
     "output_type": "stream",
     "text": [
      "Close Game: he, in, of, you, and, it, is, that, to, the\n",
      "High Chance Lose: in, this, of, you, and, is, it, that, to, the\n",
      "High Chance Win: this, in, of, you, and, it, is, that, to, the\n"
     ]
    }
   ],
   "source": [
    "feature_names = vectorizer.get_feature_names()\n",
    "for i, class_label in enumerate(['Close Game','High Chance Lose','High Chance Win']):\n",
    "    top10 = np.argsort(nb.coef_[i])[-10:]\n",
    "    print(\"%s: %s\" % (class_label,\n",
    "          \", \".join(feature_names[j] for j in top10)))"
   ]
  },
  {
   "cell_type": "code",
   "execution_count": null,
   "metadata": {},
   "outputs": [],
   "source": []
  }
 ],
 "metadata": {
  "anaconda-cloud": {},
  "kernelspec": {
   "display_name": "Python [conda env:python36]",
   "language": "python",
   "name": "conda-env-python36-py"
  },
  "language_info": {
   "codemirror_mode": {
    "name": "ipython",
    "version": 3
   },
   "file_extension": ".py",
   "mimetype": "text/x-python",
   "name": "python",
   "nbconvert_exporter": "python",
   "pygments_lexer": "ipython3",
   "version": "3.6.1"
  }
 },
 "nbformat": 4,
 "nbformat_minor": 2
}
