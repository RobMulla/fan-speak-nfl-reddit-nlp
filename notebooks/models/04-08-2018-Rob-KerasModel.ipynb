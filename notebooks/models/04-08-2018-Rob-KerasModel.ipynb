{
 "cells": [
  {
   "cell_type": "markdown",
   "metadata": {},
   "source": [
    "# Keras Model CNN for Classification\n",
    "## April 8, 2018"
   ]
  },
  {
   "cell_type": "code",
   "execution_count": 123,
   "metadata": {},
   "outputs": [],
   "source": [
    "import tensorflow\n",
    "import keras\n",
    "import numpy as np\n",
    "import pandas as pd\n",
    "\n",
    "from numpy import array\n",
    "from keras.preprocessing.text import one_hot\n",
    "from keras.preprocessing.sequence import pad_sequences\n",
    "\n",
    "from keras.layers import Conv1D, MaxPooling1D , Dense, Dropout, Activation\n",
    "from keras.layers.embeddings import Embedding\n",
    "from keras.layers.core import Flatten\n",
    "from keras.models import Sequential\n",
    "from keras.optimizers import Adam\n",
    "\n",
    "from keras.callbacks import ModelCheckpoint\n",
    "\n",
    "from keras.utils import to_categorical\n",
    "\n",
    "%matplotlib inline"
   ]
  },
  {
   "cell_type": "markdown",
   "metadata": {},
   "source": [
    "## Data Preprocessing"
   ]
  },
  {
   "cell_type": "code",
   "execution_count": 3,
   "metadata": {},
   "outputs": [],
   "source": [
    "data = pd.read_csv('../../../Comments_FanofGame_data_bandwagon.csv')"
   ]
  },
  {
   "cell_type": "code",
   "execution_count": 4,
   "metadata": {},
   "outputs": [],
   "source": [
    "# pd.options.display.max_colwidth = 10000\n",
    "data = data[data.comment_body.notnull()]\n",
    "data = data[data.comment_body!='[removed]']\n",
    "data = data[data.comment_body!='[deleted]']\n",
    "data = data[~data.comment_body.str.contains(\"\\^This \\^message \\^was \\^created \\^by \\^a \\^bot\")]\n",
    "data = data[~data.comment_body.str.contains(\"\\*\\*Please review the rules for\")]\n",
    "\n",
    "# Remove Superbowl Threads\n",
    "data = data[\n",
    "(data.submission_title!='Super Bowl LII Game Thread: Philadelphia Eagles (15-3) at New England Patriots (15-3)') &\n",
    "(data.submission_title!='Super Bowl LII Game Thread: Philadelphia Eagles (15-3) at New England Patriots (15-3) (Second Half)') &\n",
    "(data.submission_title!='Super Bowl 51 Pre Game Thread: New England Patriots (14-2) at Atlanta Falcons (11-5)') &\n",
    "(data.submission_title!='Super Bowl 51 Post Game Thread: New England Patriots (14-2) at Atlanta Falcons (11-5)')\n",
    "]"
   ]
  },
  {
   "cell_type": "code",
   "execution_count": 127,
   "metadata": {},
   "outputs": [],
   "source": [
    "labels = data['fan_of_team_playing'].values\n",
    "docs = data['comment_body'].values\n",
    "\n",
    "vocab_size = 100000\n",
    "encoded_docs = [one_hot(str(d), vocab_size) for d in docs]"
   ]
  },
  {
   "cell_type": "code",
   "execution_count": 128,
   "metadata": {},
   "outputs": [
    {
     "data": {
      "text/plain": [
       "0.4743333871689441"
      ]
     },
     "execution_count": 128,
     "metadata": {},
     "output_type": "execute_result"
    }
   ],
   "source": [
    "np.mean(labels)"
   ]
  },
  {
   "cell_type": "code",
   "execution_count": 129,
   "metadata": {},
   "outputs": [],
   "source": [
    "# pad documents to a max length of 500 words\n",
    "max_length = 100\n",
    "padded_docs = pad_sequences(encoded_docs, maxlen=max_length, padding='post')"
   ]
  },
  {
   "cell_type": "markdown",
   "metadata": {},
   "source": [
    "## Create Model"
   ]
  },
  {
   "cell_type": "code",
   "execution_count": 130,
   "metadata": {},
   "outputs": [
    {
     "name": "stdout",
     "output_type": "stream",
     "text": [
      "_________________________________________________________________\n",
      "Layer (type)                 Output Shape              Param #   \n",
      "=================================================================\n",
      "embedding_12 (Embedding)     (None, 100, 8)            800000    \n",
      "_________________________________________________________________\n",
      "conv1d_23 (Conv1D)           (None, 100, 5)            45        \n",
      "_________________________________________________________________\n",
      "max_pooling1d_23 (MaxPooling (None, 98, 5)             0         \n",
      "_________________________________________________________________\n",
      "dropout_34 (Dropout)         (None, 98, 5)             0         \n",
      "_________________________________________________________________\n",
      "conv1d_24 (Conv1D)           (None, 97, 10)            110       \n",
      "_________________________________________________________________\n",
      "max_pooling1d_24 (MaxPooling (None, 96, 10)            0         \n",
      "_________________________________________________________________\n",
      "dropout_35 (Dropout)         (None, 96, 10)            0         \n",
      "_________________________________________________________________\n",
      "flatten_13 (Flatten)         (None, 960)               0         \n",
      "_________________________________________________________________\n",
      "dense_30 (Dense)             (None, 256)               246016    \n",
      "_________________________________________________________________\n",
      "dropout_36 (Dropout)         (None, 256)               0         \n",
      "_________________________________________________________________\n",
      "dense_31 (Dense)             (None, 128)               32896     \n",
      "_________________________________________________________________\n",
      "dense_32 (Dense)             (None, 2)                 258       \n",
      "=================================================================\n",
      "Total params: 1,079,325\n",
      "Trainable params: 1,079,325\n",
      "Non-trainable params: 0\n",
      "_________________________________________________________________\n",
      "None\n"
     ]
    }
   ],
   "source": [
    "num_filters = 5\n",
    "dropout=0.5\n",
    "model = Sequential()\n",
    "model.add(Embedding(vocab_size, 8, input_length=max_length))\n",
    "model.add(Conv1D(num_filters,1,activation='tanh'))\n",
    "model.add(MaxPooling1D(pool_size=(3,),strides=1))\n",
    "model.add(Dropout(dropout))\n",
    "model.add(Conv1D(num_filters*2,2,activation='relu'))\n",
    "model.add(MaxPooling1D(pool_size=(2,),strides=1))\n",
    "model.add(Dropout(dropout))\n",
    "model.add(Flatten())\n",
    "model.add(Dense(256,activation='tanh'))\n",
    "model.add(Dropout(dropout))\n",
    "model.add(Dense(128,activation='tanh'))\n",
    "model.add(Dense(2,activation='softmax'))\n",
    "#model.add(Activation('softmax'))\n",
    "#model.compile(loss=keras.losses.categorical_crossentropy,optimzer=keras.optimizers.SGD(),metrics=['accuracy'])\n",
    "adam = Adam(lr=0.0001, decay=1e-5)\n",
    "model.compile(loss='binary_crossentropy',optimizer=adam,metrics=['mse', 'acc'])\n",
    "print(model.summary())"
   ]
  },
  {
   "cell_type": "code",
   "execution_count": 131,
   "metadata": {
    "scrolled": false
   },
   "outputs": [
    {
     "name": "stdout",
     "output_type": "stream",
     "text": [
      "Train on 1605195 samples, validate on 283270 samples\n",
      "Epoch 1/25\n",
      "1605195/1605195 [==============================] - 558s 348us/step - loss: 0.6683 - mean_squared_error: 0.2378 - acc: 0.5841 - val_loss: 0.6708 - val_mean_squared_error: 0.2391 - val_acc: 0.5762\n",
      "\n",
      "Epoch 00001: saving model to weights-improvement-april8-01-0.58.hdf5\n",
      "Epoch 2/25\n",
      "1605195/1605195 [==============================] - 579s 361us/step - loss: 0.6558 - mean_squared_error: 0.2320 - acc: 0.6061 - val_loss: 0.6678 - val_mean_squared_error: 0.2377 - val_acc: 0.5816\n",
      "\n",
      "Epoch 00002: saving model to weights-improvement-april8-02-0.58.hdf5\n",
      "Epoch 3/25\n",
      "1605195/1605195 [==============================] - 565s 352us/step - loss: 0.6522 - mean_squared_error: 0.2303 - acc: 0.6117 - val_loss: 0.6676 - val_mean_squared_error: 0.2376 - val_acc: 0.5868\n",
      "\n",
      "Epoch 00003: saving model to weights-improvement-april8-03-0.59.hdf5\n",
      "Epoch 4/25\n",
      "1605195/1605195 [==============================] - 562s 350us/step - loss: 0.6501 - mean_squared_error: 0.2293 - acc: 0.6150 - val_loss: 0.6671 - val_mean_squared_error: 0.2374 - val_acc: 0.5879\n",
      "\n",
      "Epoch 00004: saving model to weights-improvement-april8-04-0.59.hdf5\n",
      "Epoch 5/25\n",
      "1605195/1605195 [==============================] - 586s 365us/step - loss: 0.6485 - mean_squared_error: 0.2286 - acc: 0.6171 - val_loss: 0.6668 - val_mean_squared_error: 0.2373 - val_acc: 0.5891\n",
      "\n",
      "Epoch 00005: saving model to weights-improvement-april8-05-0.59.hdf5\n",
      "Epoch 6/25\n",
      "1605195/1605195 [==============================] - 581s 362us/step - loss: 0.6475 - mean_squared_error: 0.2281 - acc: 0.6187 - val_loss: 0.6664 - val_mean_squared_error: 0.2371 - val_acc: 0.5894\n",
      "\n",
      "Epoch 00006: saving model to weights-improvement-april8-06-0.59.hdf5\n",
      "Epoch 7/25\n",
      "1605195/1605195 [==============================] - 586s 365us/step - loss: 0.6466 - mean_squared_error: 0.2277 - acc: 0.6197 - val_loss: 0.6670 - val_mean_squared_error: 0.2373 - val_acc: 0.5886\n",
      "\n",
      "Epoch 00007: saving model to weights-improvement-april8-07-0.59.hdf5\n",
      "Epoch 8/25\n",
      "1605195/1605195 [==============================] - 566s 353us/step - loss: 0.6461 - mean_squared_error: 0.2274 - acc: 0.6200 - val_loss: 0.6674 - val_mean_squared_error: 0.2375 - val_acc: 0.5896\n",
      "\n",
      "Epoch 00008: saving model to weights-improvement-april8-08-0.59.hdf5\n",
      "Epoch 9/25\n",
      "1605195/1605195 [==============================] - 598s 373us/step - loss: 0.6453 - mean_squared_error: 0.2271 - acc: 0.6213 - val_loss: 0.6679 - val_mean_squared_error: 0.2377 - val_acc: 0.5892\n",
      "\n",
      "Epoch 00009: saving model to weights-improvement-april8-09-0.59.hdf5\n",
      "Epoch 10/25\n",
      "1605195/1605195 [==============================] - 615s 383us/step - loss: 0.6450 - mean_squared_error: 0.2270 - acc: 0.6222 - val_loss: 0.6677 - val_mean_squared_error: 0.2377 - val_acc: 0.5888\n",
      "\n",
      "Epoch 00010: saving model to weights-improvement-april8-10-0.59.hdf5\n",
      "Epoch 11/25\n",
      "1605195/1605195 [==============================] - 616s 384us/step - loss: 0.6445 - mean_squared_error: 0.2267 - acc: 0.6228 - val_loss: 0.6675 - val_mean_squared_error: 0.2376 - val_acc: 0.5888\n",
      "\n",
      "Epoch 00011: saving model to weights-improvement-april8-11-0.59.hdf5\n",
      "Epoch 12/25\n",
      "1605195/1605195 [==============================] - 608s 379us/step - loss: 0.6440 - mean_squared_error: 0.2265 - acc: 0.6231 - val_loss: 0.6681 - val_mean_squared_error: 0.2378 - val_acc: 0.5892\n",
      "\n",
      "Epoch 00012: saving model to weights-improvement-april8-12-0.59.hdf5\n",
      "Epoch 13/25\n",
      "1605195/1605195 [==============================] - 571s 356us/step - loss: 0.6439 - mean_squared_error: 0.2264 - acc: 0.6234 - val_loss: 0.6678 - val_mean_squared_error: 0.2377 - val_acc: 0.5890\n",
      "\n",
      "Epoch 00013: saving model to weights-improvement-april8-13-0.59.hdf5\n",
      "Epoch 14/25\n",
      "1605195/1605195 [==============================] - 573s 357us/step - loss: 0.6435 - mean_squared_error: 0.2262 - acc: 0.6237 - val_loss: 0.6679 - val_mean_squared_error: 0.2378 - val_acc: 0.5882\n",
      "\n",
      "Epoch 00014: saving model to weights-improvement-april8-14-0.59.hdf5\n",
      "Epoch 15/25\n",
      "1605195/1605195 [==============================] - 574s 357us/step - loss: 0.6434 - mean_squared_error: 0.2262 - acc: 0.6242 - val_loss: 0.6686 - val_mean_squared_error: 0.2381 - val_acc: 0.5885\n",
      "\n",
      "Epoch 00015: saving model to weights-improvement-april8-15-0.59.hdf5\n",
      "Epoch 16/25\n",
      "1605195/1605195 [==============================] - 566s 353us/step - loss: 0.6430 - mean_squared_error: 0.2260 - acc: 0.6246 - val_loss: 0.6681 - val_mean_squared_error: 0.2378 - val_acc: 0.5885\n",
      "\n",
      "Epoch 00016: saving model to weights-improvement-april8-16-0.59.hdf5\n",
      "Epoch 17/25\n",
      "1605195/1605195 [==============================] - 576s 359us/step - loss: 0.6429 - mean_squared_error: 0.2260 - acc: 0.6249 - val_loss: 0.6685 - val_mean_squared_error: 0.2380 - val_acc: 0.5882\n",
      "\n",
      "Epoch 00017: saving model to weights-improvement-april8-17-0.59.hdf5\n",
      "Epoch 18/25\n",
      "1605195/1605195 [==============================] - 576s 359us/step - loss: 0.6426 - mean_squared_error: 0.2258 - acc: 0.6254 - val_loss: 0.6677 - val_mean_squared_error: 0.2377 - val_acc: 0.5891\n",
      "\n",
      "Epoch 00018: saving model to weights-improvement-april8-18-0.59.hdf5\n",
      "Epoch 19/25\n",
      "1605195/1605195 [==============================] - 578s 360us/step - loss: 0.6424 - mean_squared_error: 0.2257 - acc: 0.6253 - val_loss: 0.6687 - val_mean_squared_error: 0.2381 - val_acc: 0.5886\n",
      "\n",
      "Epoch 00019: saving model to weights-improvement-april8-19-0.59.hdf5\n",
      "Epoch 20/25\n",
      "1605195/1605195 [==============================] - 580s 361us/step - loss: 0.6423 - mean_squared_error: 0.2257 - acc: 0.6255 - val_loss: 0.6686 - val_mean_squared_error: 0.2381 - val_acc: 0.5883\n",
      "\n",
      "Epoch 00020: saving model to weights-improvement-april8-20-0.59.hdf5\n",
      "Epoch 21/25\n",
      "1605195/1605195 [==============================] - 614s 382us/step - loss: 0.6422 - mean_squared_error: 0.2256 - acc: 0.6261 - val_loss: 0.6688 - val_mean_squared_error: 0.2382 - val_acc: 0.5890\n",
      "\n",
      "Epoch 00021: saving model to weights-improvement-april8-21-0.59.hdf5\n",
      "Epoch 22/25\n",
      "1605195/1605195 [==============================] - 589s 367us/step - loss: 0.6419 - mean_squared_error: 0.2255 - acc: 0.6260 - val_loss: 0.6686 - val_mean_squared_error: 0.2381 - val_acc: 0.5881\n",
      "\n",
      "Epoch 00022: saving model to weights-improvement-april8-22-0.59.hdf5\n",
      "Epoch 23/25\n",
      "1605195/1605195 [==============================] - 589s 367us/step - loss: 0.6420 - mean_squared_error: 0.2255 - acc: 0.6260 - val_loss: 0.6690 - val_mean_squared_error: 0.2382 - val_acc: 0.5884\n",
      "\n",
      "Epoch 00023: saving model to weights-improvement-april8-23-0.59.hdf5\n",
      "Epoch 24/25\n",
      "1605195/1605195 [==============================] - 589s 367us/step - loss: 0.6419 - mean_squared_error: 0.2255 - acc: 0.6265 - val_loss: 0.6686 - val_mean_squared_error: 0.2381 - val_acc: 0.5884\n",
      "\n",
      "Epoch 00024: saving model to weights-improvement-april8-24-0.59.hdf5\n",
      "Epoch 25/25\n",
      "1605195/1605195 [==============================] - 588s 366us/step - loss: 0.6416 - mean_squared_error: 0.2254 - acc: 0.6263 - val_loss: 0.6688 - val_mean_squared_error: 0.2382 - val_acc: 0.5885\n",
      "\n",
      "Epoch 00025: saving model to weights-improvement-april8-25-0.59.hdf5\n"
     ]
    },
    {
     "data": {
      "text/plain": [
       "<keras.callbacks.History at 0x7f6ccb801630>"
      ]
     },
     "execution_count": 131,
     "metadata": {},
     "output_type": "execute_result"
    }
   ],
   "source": [
    "# checkpoint for periodically saving model\n",
    "filepath=\"weights-improvement-april8-{epoch:02d}-{val_acc:.2f}.hdf5\"\n",
    "checkpoint = ModelCheckpoint(filepath, monitor='val_acc', verbose=1, save_best_only=False, mode='max')\n",
    "callbacks_list = [checkpoint]\n",
    "\n",
    "y_binary = to_categorical(labels)\n",
    "\n",
    "# fit the model\n",
    "model.fit(padded_docs, y_binary, epochs=25, verbose=1, validation_split=0.15, callbacks=callbacks_list)"
   ]
  },
  {
   "cell_type": "markdown",
   "metadata": {},
   "source": [
    "# Predict On Dataset using Model\n",
    "- Identify Documents it predicted well and poorly"
   ]
  },
  {
   "cell_type": "code",
   "execution_count": 132,
   "metadata": {},
   "outputs": [],
   "source": [
    "# Make predictions on the same dataset\n",
    "predict_prob = model.predict(padded_docs)\n",
    "predictions = model.predict(padded_docs)"
   ]
  },
  {
   "cell_type": "code",
   "execution_count": 183,
   "metadata": {},
   "outputs": [],
   "source": [
    "# Save the predictions alongside the comments in a dataframe\n",
    "model_preds = pd.DataFrame(index=docs)\n",
    "model_preds['predicted_class'] = 0\n",
    "model_preds['predicted_class'] = predictions\n",
    "# Predicted class is actually the inverse (I think)\n",
    "model_preds['predicted_class'] = 1 - model_preds['predicted_class']\n",
    "model_preds['actual_class'] = labels\n",
    "model_preds['prob_off'] = abs(model_preds['predicted_class'] - model_preds['actual_class'])"
   ]
  },
  {
   "cell_type": "code",
   "execution_count": 188,
   "metadata": {},
   "outputs": [
    {
     "data": {
      "text/plain": [
       "array([[<matplotlib.axes._subplots.AxesSubplot object at 0x7f6d1580ab38>,\n",
       "        <matplotlib.axes._subplots.AxesSubplot object at 0x7f6d22900470>],\n",
       "       [<matplotlib.axes._subplots.AxesSubplot object at 0x7f6d228a6780>,\n",
       "        <matplotlib.axes._subplots.AxesSubplot object at 0x7f6d228cca90>]],\n",
       "      dtype=object)"
      ]
     },
     "execution_count": 188,
     "metadata": {},
     "output_type": "execute_result"
    },
    {
     "data": {
      "image/png": "[encoded data removed]",
      "text/plain": [
       "<Figure size 432x288 with 4 Axes>"
      ]
     },
     "metadata": {},
     "output_type": "display_data"
    }
   ],
   "source": [
    "# Plot to see the distribution of the errors\n",
    "model_preds.hist()"
   ]
  },
  {
   "cell_type": "code",
   "execution_count": 191,
   "metadata": {},
   "outputs": [
    {
     "name": "stdout",
     "output_type": "stream",
     "text": [
      "-------------------------\n",
      "----predicted as: 0.06995964050292969\n",
      "----actually: 0---(1 = fan, 0 = not fan --------\n",
      "-------comment-----------\n",
      "**Fencing response**\n",
      "\n",
      "The fencing response is a peculiar position of the arms following a concussion. Immediately after moderate forces have been applied to the brainstem, the forearms are held flexed or extended (typically into the air) for a period lasting up to several seconds after the impact. The fencing response is often observed during athletic competition involving contact, such as American football, hockey, rugby and martial arts. It is used as an overt indicator of injury force magnitude and midbrain localization to aid in injury identification and classification for events including, but not limited to, on-field and/or bystander observations of sports-related head injuries.\n",
      "\n",
      "***\n",
      "\n",
      "^[ [^PM](https://www.reddit.com/message/compose?to=kittens_from_space) ^| [^Exclude ^me](https://reddit.com/message/compose?to=WikiTextBot&message=Excludeme&subject=Excludeme) ^| [^Exclude ^from ^subreddit](https://np.reddit.com/r/nfl/about/banned) ^| [^FAQ ^/ ^Information](https://np.reddit.com/r/WikiTextBot/wiki/index) ^| [^Source](https://github.com/kittenswolf/WikiTextBot)   ^]\n",
      "^Downvote ^to ^remove ^| ^v0.24\n"
     ]
    }
   ],
   "source": [
    "# Example of a well predicted comment of a non-fan\n",
    "print('-------------------------')\n",
    "print('----predicted as: {}'.format(model_preds.sort_values('prob_off')['predicted_class'][0]))\n",
    "print('----actually: {}---(1 = fan, 0 = not fan --------'.format(model_preds.sort_values('prob_off')['actual_class'][0]))\n",
    "print('-------comment-----------')\n",
    "print(model_preds.sort_values('prob_off').index[0])"
   ]
  },
  {
   "cell_type": "code",
   "execution_count": 206,
   "metadata": {},
   "outputs": [
    {
     "name": "stdout",
     "output_type": "stream",
     "text": [
      "-------------------------\n",
      "----predicted as: 0.9008954763412476\n",
      "----actually: 1---(1 = fan, 0 = not fan --------\n",
      "-------comment-----------\n",
      "Our only starting OL is our LT. Our ILB medically retired, we don't have our 1st, 2nd, 3rd, WR, our three starting RBs and our breakout CB last year in Tavon Young. Our other CB Hill who showed out in preseason is hurt. Our 2nd and 3rd TE are out. We have 20 on IR. \n",
      "\n",
      "We are 3-3, tied 6-6 with Sota and one game out of 1st in our division with 2 division wins. \n"
     ]
    }
   ],
   "source": [
    "# Example of a well predicted comment of a fan\n",
    "\n",
    "\n",
    "\n",
    "print('-------------------------')\n",
    "print('----predicted as: {}'.format(model_preds.loc[model_preds['actual_class'] == 1].sort_values('prob_off')['predicted_class'][2]))\n",
    "print('----actually: {}---(1 = fan, 0 = not fan --------'.format(model_preds.loc[model_preds['actual_class'] == 1].sort_values('prob_off')['actual_class'][2]))\n",
    "print('-------comment-----------')\n",
    "print(model_preds.loc[model_preds['actual_class'] == 1].sort_values('prob_off').index[2])"
   ]
  },
  {
   "cell_type": "code",
   "execution_count": 211,
   "metadata": {},
   "outputs": [
    {
     "name": "stdout",
     "output_type": "stream",
     "text": [
      "-------------------------\n",
      "----predicted as: 0.0809553861618042\n",
      "----actually: 1---(1 = fan, 0 = not fan --------\n",
      "-------comment-----------\n",
      "What...what do you mean?  \n",
      "\n",
      "Edit:  I'll attempt to answer.\n",
      "\n",
      "> *How* is New England the 1 seed in the AFC?\n",
      "\n",
      "New England is the 1 seed because they beat the Pittsburgh Steelers to take first seed, due to tiebreaker going to the Pats due to the win.  \n",
      "\n",
      "> How is *New England* the 1 seed in the AFC?\n",
      "\n",
      "They went 4-2 in their first 6 games of the season, arguably the hardest games on the schedule.  They finish off the season with mostly divisional matchups, for which they are currently 4-1 in.  \n",
      "\n",
      "> How is New England the *1* seed in the AFC?\n",
      "\n",
      "Tiebreaker over Pittsburgh.  \n",
      "\n",
      "> How is New England the 1 seed in the *AFC*?\n",
      "\n",
      "The Patriots play in the AFC.  \n"
     ]
    }
   ],
   "source": [
    "# Example of a poorly predicted comment of a non-fan\n",
    "print('-------------------------')\n",
    "print('----predicted as: {}'.format(model_preds.sort_values('prob_off')['predicted_class'][-1]))\n",
    "print('----actually: {}---(1 = fan, 0 = not fan --------'.format(model_preds.sort_values('prob_off')['actual_class'][-1]))\n",
    "print('-------comment-----------')\n",
    "print(model_preds.sort_values('prob_off').index[-1])"
   ]
  },
  {
   "cell_type": "code",
   "execution_count": 217,
   "metadata": {},
   "outputs": [
    {
     "name": "stdout",
     "output_type": "stream",
     "text": [
      "-------------------------\n",
      "----predicted as: 0.0934571623802185\n",
      "----actually: 1---(1 = fan, 0 = not fan --------\n",
      "-------comment-----------\n",
      "In the lead-up to the eclipse, I read a lot about the damage you could do to your eyes by looking at it without the proper protective glasses on. They said optomotrists would be able to tell you looked at the sun, because the outline of the eclipse would be burned into the cornea. For the rest of your life, that image is literally burned into your eye. It never goes away. It never heals. The damage is permanent.\n",
      "\n",
      "If you look into my eyes, you can see the outline of the David Tyree helmet catch. It never goes away. It never heals. The damage is permanent.\n",
      "\n",
      "I wish you the best this season, my friend.\n"
     ]
    }
   ],
   "source": [
    "# Example of a poorly predicted comment of a fan\n",
    "print('-------------------------')\n",
    "print('----predicted as: {}'.format(model_preds.sort_values('prob_off')['predicted_class'][-10]))\n",
    "print('----actually: {}---(1 = fan, 0 = not fan --------'.format(model_preds.sort_values('prob_off')['actual_class'][-10]))\n",
    "print('-------comment-----------')\n",
    "print(model_preds.sort_values('prob_off').index[-10])"
   ]
  },
  {
   "cell_type": "code",
   "execution_count": 233,
   "metadata": {},
   "outputs": [
    {
     "name": "stdout",
     "output_type": "stream",
     "text": [
      "-------------------------\n",
      "----predicted as: 0.8980789184570312\n",
      "----actually: 0---(1 = fan, 0 = not fan --------\n",
      "-------comment-----------\n",
      "the biggest problem is injuries and in a close second our pass blocking. if we were healthy and our pass blocking was competent our pass heavy offense would work but eli has had 2 seconds to throw the ball and has made bad throws with players wide open. you can definitely say our defense has still been good regardless of the shit show our offense has been and that is without our best coverage LB and last game without our MLB and Jackrabbit.  \n"
     ]
    }
   ],
   "source": [
    "# Example of a poorly predicted comment of a non-fan\n",
    "# They actually sound like a fan - probably mislabeled\n",
    "print('-------------------------')\n",
    "print('----predicted as: {}'.format(model_preds.sort_values('prob_off')['predicted_class'][-21]))\n",
    "print('----actually: {}---(1 = fan, 0 = not fan --------'.format(model_preds.sort_values('prob_off')['actual_class'][-21]))\n",
    "print('-------comment-----------')\n",
    "print(model_preds.sort_values('prob_off').index[-21])"
   ]
  },
  {
   "cell_type": "code",
   "execution_count": 237,
   "metadata": {},
   "outputs": [
    {
     "name": "stdout",
     "output_type": "stream",
     "text": [
      "-------------------------\n",
      "----predicted as: 0.8941841125488281\n",
      "----actually: 0---(1 = fan, 0 = not fan --------\n",
      "-------comment-----------\n",
      "There defense has only allowed one team to score 20 points and in the 4th quarter the offense tends to get their head out of their asses. Our offense is 32nd in the league and the defense has the ability to be top 10. Our oline is killing us. Our LT is hurt and we are missing both of our starting guards. It's bad\n"
     ]
    }
   ],
   "source": [
    "# Example of a poorly predicted comment of a non-fan\n",
    "# They actually sound like a fan too! Probably mislabeled\n",
    "print('-------------------------')\n",
    "print('----predicted as: {}'.format(model_preds.sort_values('prob_off')['predicted_class'][-29]))\n",
    "print('----actually: {}---(1 = fan, 0 = not fan --------'.format(model_preds.sort_values('prob_off')['actual_class'][-29]))\n",
    "print('-------comment-----------')\n",
    "print(model_preds.sort_values('prob_off').index[-29])"
   ]
  },
  {
   "cell_type": "markdown",
   "metadata": {},
   "source": [
    "# Use the model to predict some test cases"
   ]
  },
  {
   "cell_type": "code",
   "execution_count": 243,
   "metadata": {},
   "outputs": [],
   "source": [
    "tests = ['we are awesome',\n",
    "         'our team is awesome',\n",
    "         'jags suck',\n",
    "         'when will we win',\n",
    "         'we are so dumb',\n",
    "         'they suck',\n",
    "         'why arent we winning',\n",
    "        'this is hilarious',\n",
    "        'just tuned in',\n",
    "        'rigged refs',\n",
    "        'i hate football',\n",
    "        'i love football',\n",
    "        'that was a horrible call',\n",
    "        'we are so good',\n",
    "        'they',\n",
    "        'we',\n",
    "        'tom brady is so good that they dont know what to do with him',\n",
    "        'I love Lions fans cause we can drink bleach together this christmas eve']\n",
    "encoded_test = [one_hot(str(d), vocab_size) for d in tests]\n",
    "padded_test = pad_sequences(encoded_test, maxlen=max_length, padding='post')\n",
    "preds_test = model.predict(padded_test)"
   ]
  },
  {
   "cell_type": "code",
   "execution_count": 244,
   "metadata": {},
   "outputs": [
    {
     "data": {
      "text/html": [
       "<div>\n",
       "<style scoped>\n",
       "    .dataframe tbody tr th:only-of-type {\n",
       "        vertical-align: middle;\n",
       "    }\n",
       "\n",
       "    .dataframe tbody tr th {\n",
       "        vertical-align: top;\n",
       "    }\n",
       "\n",
       "    .dataframe thead th {\n",
       "        text-align: right;\n",
       "    }\n",
       "</style>\n",
       "<table border=\"1\" class=\"dataframe\">\n",
       "  <thead>\n",
       "    <tr style=\"text-align: right;\">\n",
       "      <th></th>\n",
       "      <th>prediction</th>\n",
       "    </tr>\n",
       "  </thead>\n",
       "  <tbody>\n",
       "    <tr>\n",
       "      <th>we are awesome</th>\n",
       "      <td>0.647458</td>\n",
       "    </tr>\n",
       "    <tr>\n",
       "      <th>our team is awesome</th>\n",
       "      <td>0.767350</td>\n",
       "    </tr>\n",
       "    <tr>\n",
       "      <th>jags suck</th>\n",
       "      <td>0.232012</td>\n",
       "    </tr>\n",
       "    <tr>\n",
       "      <th>when will we win</th>\n",
       "      <td>0.749833</td>\n",
       "    </tr>\n",
       "    <tr>\n",
       "      <th>we are so dumb</th>\n",
       "      <td>0.714126</td>\n",
       "    </tr>\n",
       "    <tr>\n",
       "      <th>they suck</th>\n",
       "      <td>0.451200</td>\n",
       "    </tr>\n",
       "    <tr>\n",
       "      <th>why arent we winning</th>\n",
       "      <td>0.752060</td>\n",
       "    </tr>\n",
       "    <tr>\n",
       "      <th>this is hilarious</th>\n",
       "      <td>0.378172</td>\n",
       "    </tr>\n",
       "    <tr>\n",
       "      <th>just tuned in</th>\n",
       "      <td>0.209693</td>\n",
       "    </tr>\n",
       "    <tr>\n",
       "      <th>rigged refs</th>\n",
       "      <td>0.468423</td>\n",
       "    </tr>\n",
       "    <tr>\n",
       "      <th>i hate football</th>\n",
       "      <td>0.424831</td>\n",
       "    </tr>\n",
       "    <tr>\n",
       "      <th>i love football</th>\n",
       "      <td>0.424482</td>\n",
       "    </tr>\n",
       "    <tr>\n",
       "      <th>that was a horrible call</th>\n",
       "      <td>0.439760</td>\n",
       "    </tr>\n",
       "    <tr>\n",
       "      <th>we are so good</th>\n",
       "      <td>0.724073</td>\n",
       "    </tr>\n",
       "    <tr>\n",
       "      <th>they</th>\n",
       "      <td>0.451200</td>\n",
       "    </tr>\n",
       "    <tr>\n",
       "      <th>we</th>\n",
       "      <td>0.715281</td>\n",
       "    </tr>\n",
       "    <tr>\n",
       "      <th>tom brady is so good that they dont know what to do with him</th>\n",
       "      <td>0.317711</td>\n",
       "    </tr>\n",
       "    <tr>\n",
       "      <th>I love Lions fans cause we can drink bleach together this christmas eve</th>\n",
       "      <td>0.813379</td>\n",
       "    </tr>\n",
       "  </tbody>\n",
       "</table>\n",
       "</div>"
      ],
      "text/plain": [
       "                                                    prediction\n",
       "we are awesome                                        0.647458\n",
       "our team is awesome                                   0.767350\n",
       "jags suck                                             0.232012\n",
       "when will we win                                      0.749833\n",
       "we are so dumb                                        0.714126\n",
       "they suck                                             0.451200\n",
       "why arent we winning                                  0.752060\n",
       "this is hilarious                                     0.378172\n",
       "just tuned in                                         0.209693\n",
       "rigged refs                                           0.468423\n",
       "i hate football                                       0.424831\n",
       "i love football                                       0.424482\n",
       "that was a horrible call                              0.439760\n",
       "we are so good                                        0.724073\n",
       "they                                                  0.451200\n",
       "we                                                    0.715281\n",
       "tom brady is so good that they dont know what t...    0.317711\n",
       "I love Lions fans cause we can drink bleach tog...    0.813379"
      ]
     },
     "execution_count": 244,
     "metadata": {},
     "output_type": "execute_result"
    }
   ],
   "source": [
    "test_results = pd.DataFrame(index=tests)\n",
    "test_results['prediction'] = 0\n",
    "test_results['prediction'] = preds_test\n",
    "# Predicted class is actually the inverse (I think)\n",
    "test_results['prediction'] = 1 - test_results['prediction']\n",
    "test_results"
   ]
  },
  {
   "cell_type": "code",
   "execution_count": null,
   "metadata": {},
   "outputs": [],
   "source": []
  }
 ],
 "metadata": {
  "kernelspec": {
   "display_name": "Python 3",
   "language": "python",
   "name": "python3"
  },
  "language_info": {
   "codemirror_mode": {
    "name": "ipython",
    "version": 3
   },
   "file_extension": ".py",
   "mimetype": "text/x-python",
   "name": "python",
   "nbconvert_exporter": "python",
   "pygments_lexer": "ipython3",
   "version": "3.6.4"
  }
 },
 "nbformat": 4,
 "nbformat_minor": 2
}
