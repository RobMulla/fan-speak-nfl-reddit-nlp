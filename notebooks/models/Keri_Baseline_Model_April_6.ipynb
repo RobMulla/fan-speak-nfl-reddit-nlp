{
 "cells": [
  {
   "cell_type": "markdown",
   "metadata": {},
   "source": [
    "### Language modeling is the task of predicting the next word, given the preceding history.\n",
    "\n",
    "### Sentiment detection is just a special case of classification\n",
    "\n",
    "**Data sets with fields:**\n",
    "\n",
    "*Combined_Comments* := comment_id, author, author_flair, score, comment_name, comment_fullname, comment_is_root, comment_parent, comment_created, comment_created_utc, comment_created_utc_datetime, comment_created_utc_date, comment_created_utc_time, comment_depth, comment_body, submission_id, submission_title, submission_created_utc**\n",
    "\n",
    "*Clean_Game_Data* := index, unnamed: 0, playnum, playid, 'Game Title Date', text, homeWinPercentage, matched_play_by_play_text, matched_play_by_play_index, matched_play_by_play_utc, matched_play_by_play_tweetid, home_team, away_team, awayWinPercentage\n",
    "\n",
    "*Pickle files in Clean_Game_Data* := author, author_flair, score, comment_id, comment_name, comment_fullname, comment_is_root, comment_parent, comment_approved_at_utc, comment_approved_by, matched_play_by_play_utc, matched_play_by_play_tweetid, home_team, away_team, awayWinPercentage, vader_ss, vader_neg, vader_neu, vader_pos, vader_compound\n",
    "\n",
    "*Comments_FanOfGame* := comment_body (from Reddit), fan_of_team_playing\n",
    "\n",
    "\n",
    "**Ideas for data to model**\n",
    "\n",
    "*-------------1-------------*\n",
    "\n",
    "*Dependent var* := game state\n",
    "\n",
    "*Independent vars* := comment_body, fan_of_team_playing\n",
    "\n",
    "*-------------2-------------*\n",
    "\n",
    "*Dependent var* := fan_of_team_playing\n",
    "\n",
    "*Independent vars* := comment_body, game_state\n",
    "\n",
    "*-------------3-------------*\n",
    "\n",
    "*Dependent var* := author_flair\n",
    "\n",
    "*Independent vars* := comment_body, game_fan_state (fan_team_prob_win, fan_team_prob_lose, fan_no_team)\n",
    "\n",
    "*-------------4-------------*\n",
    "\n",
    "*Dependent var* := author_game_state or game_fan_state (fan_team_prob_win, fan_team_prob_lose, fan_no_team)\n",
    "\n",
    "*Independent vars* := comment_body\n",
    "\n",
    "*-------------5-------------*\n",
    "\n",
    "*Dependent var* := next word\n",
    "\n",
    "*Independent vars* := previous word\n",
    "\n",
    "\n",
    "*--------------------------*\n",
    "\n",
    "*Next step* := apply language model to each game and examine by game_state, fan_of_team_playing\n",
    "\n",
    "**Possible comment label combinations (author_game_state)**\n",
    "\n",
    "*fan/close*\n",
    "\n",
    "*fan/blowout*\n",
    "\n",
    "*notfan/close*\n",
    "\n",
    "*notfan/blowout*\n",
    "\n",
    "*fan/lose*\n",
    "\n",
    "*fan/win*"
   ]
  },
  {
   "cell_type": "code",
   "execution_count": 1,
   "metadata": {},
   "outputs": [],
   "source": [
    "import numpy as np\n",
    "import pandas as pd\n",
    "import re\n",
    "import pickle\n",
    "import itertools\n",
    "from __future__ import print_function\n",
    "from __future__ import division\n",
    "import matplotlib.pyplot as plt\n",
    "\n",
    "# SK-learn libraries for learning.\n",
    "#from sklearn.pipeline import Pipeline\n",
    "#from sklearn.grid_search import GridSearchCV\n",
    "from sklearn.naive_bayes import MultinomialNB\n",
    "from sklearn.linear_model import LogisticRegression\n",
    "from sklearn.linear_model import LinearRegression\n",
    "from sklearn.linear_model import Ridge\n",
    "from sklearn.linear_model import Lasso\n",
    "from sklearn.linear_model import ElasticNet\n",
    "\n",
    "# SK-learn libraries for evaluation.\n",
    "from sklearn.metrics import confusion_matrix\n",
    "from sklearn import metrics\n",
    "from sklearn.metrics import classification_report\n",
    "from sklearn.model_selection import train_test_split\n",
    "\n",
    "# SK-learn libraries for feature extraction from text.\n",
    "from sklearn.feature_extraction.text import *\n",
    "\n",
    "# NLTK libs\n",
    "from nltk.tokenize import TweetTokenizer"
   ]
  },
  {
   "cell_type": "markdown",
   "metadata": {},
   "source": [
    "## Data Processing"
   ]
  },
  {
   "cell_type": "code",
   "execution_count": 3,
   "metadata": {},
   "outputs": [],
   "source": [
    "## Load combined comments\n",
    "data_path = \"/Users/kwheatley/Desktop/w266_nfl/\"\n",
    "lookup_path = \"/Users/kwheatley/w266_final_project_merged/data/\"\n",
    "combined_comments = 'Combined_Comments.csv'\n",
    "flair_lookup = 'flair_lookup_table.csv'\n",
    "game_stats = 'game_stats.csv'\n",
    "\n",
    "data = pd.read_csv(data_path+combined_comments)\n",
    "flair_lookup_table = pd.read_csv(lookup_path+flair_lookup)\n",
    "game_stats = pd.read_csv(lookup_path+game_stats)\n",
    "data = data.set_index('submission_title')\n",
    "game_stats = game_stats.set_index('submission_title')\n",
    "data = data.join(game_stats, how='outer')\n",
    "data = data.set_index('author_flair')\n",
    "flair_lookup_table = flair_lookup_table.set_index('author_flair')\n",
    "data = data.join(flair_lookup_table, how='outer')"
   ]
  },
  {
   "cell_type": "markdown",
   "metadata": {},
   "source": [
    "### Create features for model"
   ]
  },
  {
   "cell_type": "code",
   "execution_count": 35,
   "metadata": {},
   "outputs": [],
   "source": [
    "# Creating targets for testing\n",
    "\n",
    "# 1. Fan of winning or losing team or other\n",
    "data['win_lost_fan_type'] = np.where(data.author_team_name == data.winner, 'win',\n",
    "                            np.where(data.author_team_name == data.loser, 'lose', 'nofan'))\n",
    "\n",
    "# 2. Score differential\n",
    "data['score_differential'] = data.ptsw - data.ptsl\n",
    "\n",
    "# 3. Yards differential (absolute value)\n",
    "data['yards_differential'] = abs(data.ydsw - data.ydsl)\n",
    "\n",
    "# 4. Total turnovers in game\n",
    "data['turn_over_differential'] = data.tol + data.tol\n",
    "\n",
    "# 5. Watching close game or not (within 7 points)\n",
    "data['close_game'] = np.where(data.score_differential <= 7, 'close','not close')\n",
    "\n",
    "# 6. Fan lost/won close game or not (within 7 points)\n",
    "data['fan_close_game'] = data.win_lost_fan_type + ' ' + data.is_close_game\n"
   ]
  },
  {
   "cell_type": "code",
   "execution_count": 34,
   "metadata": {},
   "outputs": [
    {
     "data": {
      "text/html": [
       "<div>\n",
       "<style>\n",
       "    .dataframe thead tr:only-child th {\n",
       "        text-align: right;\n",
       "    }\n",
       "\n",
       "    .dataframe thead th {\n",
       "        text-align: left;\n",
       "    }\n",
       "\n",
       "    .dataframe tbody tr th {\n",
       "        vertical-align: top;\n",
       "    }\n",
       "</style>\n",
       "<table border=\"1\" class=\"dataframe\">\n",
       "  <thead>\n",
       "    <tr style=\"text-align: right;\">\n",
       "      <th></th>\n",
       "      <th>submission_title</th>\n",
       "      <th>comment_id</th>\n",
       "      <th>author</th>\n",
       "      <th>score</th>\n",
       "      <th>comment_name</th>\n",
       "      <th>comment_fullname</th>\n",
       "      <th>comment_is_root</th>\n",
       "      <th>comment_parent</th>\n",
       "      <th>comment_created</th>\n",
       "      <th>comment_created_utc</th>\n",
       "      <th>...</th>\n",
       "      <th>tol</th>\n",
       "      <th>home_team.1</th>\n",
       "      <th>away_team.1</th>\n",
       "      <th>author_team_name</th>\n",
       "      <th>fan_type</th>\n",
       "      <th>home_away_fan_type</th>\n",
       "      <th>win_lost_fan_type</th>\n",
       "      <th>score_differential</th>\n",
       "      <th>yards_differential</th>\n",
       "      <th>is_close_game</th>\n",
       "    </tr>\n",
       "    <tr>\n",
       "      <th>author_flair</th>\n",
       "      <th></th>\n",
       "      <th></th>\n",
       "      <th></th>\n",
       "      <th></th>\n",
       "      <th></th>\n",
       "      <th></th>\n",
       "      <th></th>\n",
       "      <th></th>\n",
       "      <th></th>\n",
       "      <th></th>\n",
       "      <th></th>\n",
       "      <th></th>\n",
       "      <th></th>\n",
       "      <th></th>\n",
       "      <th></th>\n",
       "      <th></th>\n",
       "      <th></th>\n",
       "      <th></th>\n",
       "      <th></th>\n",
       "      <th></th>\n",
       "      <th></th>\n",
       "    </tr>\n",
       "  </thead>\n",
       "  <tbody>\n",
       "    <tr>\n",
       "      <th>49ers</th>\n",
       "      <td>Game Thread: Atlanta Falcons (10-6) at Los Ang...</td>\n",
       "      <td>dsau5nl</td>\n",
       "      <td>TonyDHFC</td>\n",
       "      <td>57</td>\n",
       "      <td>t1_dsau5nl</td>\n",
       "      <td>t1_dsau5nl</td>\n",
       "      <td>True</td>\n",
       "      <td>7onb6d</td>\n",
       "      <td>1.515318e+09</td>\n",
       "      <td>1.515289e+09</td>\n",
       "      <td>...</td>\n",
       "      <td>2.0</td>\n",
       "      <td>Los Angeles Rams</td>\n",
       "      <td>Atlanta Falcons</td>\n",
       "      <td>San Francisco 49ers</td>\n",
       "      <td>nofan</td>\n",
       "      <td>nofan</td>\n",
       "      <td>nofan</td>\n",
       "      <td>13.0</td>\n",
       "      <td>4.0</td>\n",
       "      <td>nofan not close</td>\n",
       "    </tr>\n",
       "    <tr>\n",
       "      <th>49ers</th>\n",
       "      <td>Game Thread: Atlanta Falcons (10-6) at Los Ang...</td>\n",
       "      <td>dsaxh3a</td>\n",
       "      <td>The_Collector4</td>\n",
       "      <td>27</td>\n",
       "      <td>t1_dsaxh3a</td>\n",
       "      <td>t1_dsaxh3a</td>\n",
       "      <td>True</td>\n",
       "      <td>7onb6d</td>\n",
       "      <td>1.515322e+09</td>\n",
       "      <td>1.515293e+09</td>\n",
       "      <td>...</td>\n",
       "      <td>2.0</td>\n",
       "      <td>Los Angeles Rams</td>\n",
       "      <td>Atlanta Falcons</td>\n",
       "      <td>San Francisco 49ers</td>\n",
       "      <td>nofan</td>\n",
       "      <td>nofan</td>\n",
       "      <td>nofan</td>\n",
       "      <td>13.0</td>\n",
       "      <td>4.0</td>\n",
       "      <td>nofan not close</td>\n",
       "    </tr>\n",
       "    <tr>\n",
       "      <th>49ers</th>\n",
       "      <td>Game Thread: Atlanta Falcons (10-6) at Los Ang...</td>\n",
       "      <td>dsavilr</td>\n",
       "      <td>philphan25</td>\n",
       "      <td>21</td>\n",
       "      <td>t1_dsavilr</td>\n",
       "      <td>t1_dsavilr</td>\n",
       "      <td>True</td>\n",
       "      <td>7onb6d</td>\n",
       "      <td>1.515319e+09</td>\n",
       "      <td>1.515291e+09</td>\n",
       "      <td>...</td>\n",
       "      <td>2.0</td>\n",
       "      <td>Los Angeles Rams</td>\n",
       "      <td>Atlanta Falcons</td>\n",
       "      <td>San Francisco 49ers</td>\n",
       "      <td>nofan</td>\n",
       "      <td>nofan</td>\n",
       "      <td>nofan</td>\n",
       "      <td>13.0</td>\n",
       "      <td>4.0</td>\n",
       "      <td>nofan not close</td>\n",
       "    </tr>\n",
       "    <tr>\n",
       "      <th>49ers</th>\n",
       "      <td>Game Thread: Atlanta Falcons (10-6) at Los Ang...</td>\n",
       "      <td>dsawdu3</td>\n",
       "      <td>WigglestonTheFourth</td>\n",
       "      <td>23</td>\n",
       "      <td>t1_dsawdu3</td>\n",
       "      <td>t1_dsawdu3</td>\n",
       "      <td>True</td>\n",
       "      <td>7onb6d</td>\n",
       "      <td>1.515320e+09</td>\n",
       "      <td>1.515292e+09</td>\n",
       "      <td>...</td>\n",
       "      <td>2.0</td>\n",
       "      <td>Los Angeles Rams</td>\n",
       "      <td>Atlanta Falcons</td>\n",
       "      <td>San Francisco 49ers</td>\n",
       "      <td>nofan</td>\n",
       "      <td>nofan</td>\n",
       "      <td>nofan</td>\n",
       "      <td>13.0</td>\n",
       "      <td>4.0</td>\n",
       "      <td>nofan not close</td>\n",
       "    </tr>\n",
       "    <tr>\n",
       "      <th>49ers</th>\n",
       "      <td>Game Thread: Atlanta Falcons (10-6) at Los Ang...</td>\n",
       "      <td>dsatn4f</td>\n",
       "      <td>-generic_user-</td>\n",
       "      <td>21</td>\n",
       "      <td>t1_dsatn4f</td>\n",
       "      <td>t1_dsatn4f</td>\n",
       "      <td>True</td>\n",
       "      <td>7onb6d</td>\n",
       "      <td>1.515317e+09</td>\n",
       "      <td>1.515288e+09</td>\n",
       "      <td>...</td>\n",
       "      <td>2.0</td>\n",
       "      <td>Los Angeles Rams</td>\n",
       "      <td>Atlanta Falcons</td>\n",
       "      <td>San Francisco 49ers</td>\n",
       "      <td>nofan</td>\n",
       "      <td>nofan</td>\n",
       "      <td>nofan</td>\n",
       "      <td>13.0</td>\n",
       "      <td>4.0</td>\n",
       "      <td>nofan not close</td>\n",
       "    </tr>\n",
       "  </tbody>\n",
       "</table>\n",
       "<p>5 rows × 44 columns</p>\n",
       "</div>"
      ],
      "text/plain": [
       "                                               submission_title comment_id  \\\n",
       "author_flair                                                                 \n",
       "49ers         Game Thread: Atlanta Falcons (10-6) at Los Ang...    dsau5nl   \n",
       "49ers         Game Thread: Atlanta Falcons (10-6) at Los Ang...    dsaxh3a   \n",
       "49ers         Game Thread: Atlanta Falcons (10-6) at Los Ang...    dsavilr   \n",
       "49ers         Game Thread: Atlanta Falcons (10-6) at Los Ang...    dsawdu3   \n",
       "49ers         Game Thread: Atlanta Falcons (10-6) at Los Ang...    dsatn4f   \n",
       "\n",
       "                           author  score comment_name comment_fullname  \\\n",
       "author_flair                                                             \n",
       "49ers                    TonyDHFC     57   t1_dsau5nl       t1_dsau5nl   \n",
       "49ers              The_Collector4     27   t1_dsaxh3a       t1_dsaxh3a   \n",
       "49ers                  philphan25     21   t1_dsavilr       t1_dsavilr   \n",
       "49ers         WigglestonTheFourth     23   t1_dsawdu3       t1_dsawdu3   \n",
       "49ers              -generic_user-     21   t1_dsatn4f       t1_dsatn4f   \n",
       "\n",
       "              comment_is_root comment_parent  comment_created  \\\n",
       "author_flair                                                    \n",
       "49ers                    True         7onb6d     1.515318e+09   \n",
       "49ers                    True         7onb6d     1.515322e+09   \n",
       "49ers                    True         7onb6d     1.515319e+09   \n",
       "49ers                    True         7onb6d     1.515320e+09   \n",
       "49ers                    True         7onb6d     1.515317e+09   \n",
       "\n",
       "              comment_created_utc       ...         tol       home_team.1  \\\n",
       "author_flair                            ...                                 \n",
       "49ers                1.515289e+09       ...         2.0  Los Angeles Rams   \n",
       "49ers                1.515293e+09       ...         2.0  Los Angeles Rams   \n",
       "49ers                1.515291e+09       ...         2.0  Los Angeles Rams   \n",
       "49ers                1.515292e+09       ...         2.0  Los Angeles Rams   \n",
       "49ers                1.515288e+09       ...         2.0  Los Angeles Rams   \n",
       "\n",
       "                  away_team.1     author_team_name fan_type  \\\n",
       "author_flair                                                  \n",
       "49ers         Atlanta Falcons  San Francisco 49ers    nofan   \n",
       "49ers         Atlanta Falcons  San Francisco 49ers    nofan   \n",
       "49ers         Atlanta Falcons  San Francisco 49ers    nofan   \n",
       "49ers         Atlanta Falcons  San Francisco 49ers    nofan   \n",
       "49ers         Atlanta Falcons  San Francisco 49ers    nofan   \n",
       "\n",
       "             home_away_fan_type  win_lost_fan_type score_differential  \\\n",
       "author_flair                                                            \n",
       "49ers                     nofan              nofan               13.0   \n",
       "49ers                     nofan              nofan               13.0   \n",
       "49ers                     nofan              nofan               13.0   \n",
       "49ers                     nofan              nofan               13.0   \n",
       "49ers                     nofan              nofan               13.0   \n",
       "\n",
       "             yards_differential    is_close_game  \n",
       "author_flair                                      \n",
       "49ers                       4.0  nofan not close  \n",
       "49ers                       4.0  nofan not close  \n",
       "49ers                       4.0  nofan not close  \n",
       "49ers                       4.0  nofan not close  \n",
       "49ers                       4.0  nofan not close  \n",
       "\n",
       "[5 rows x 44 columns]"
      ]
     },
     "execution_count": 34,
     "metadata": {},
     "output_type": "execute_result"
    }
   ],
   "source": [
    "data[data.submission_title == 'Game Thread: Atlanta Falcons (10-6) at Los Angeles Rams (11-5)'].head()"
   ]
  },
  {
   "cell_type": "code",
   "execution_count": 29,
   "metadata": {},
   "outputs": [
    {
     "data": {
      "image/png": "[encoded data removed]",
      "text/plain": [
       "<matplotlib.figure.Figure at 0x1675d75f8>"
      ]
     },
     "metadata": {},
     "output_type": "display_data"
    }
   ],
   "source": [
    "# This histogram shows us the point differentials between all the games we \n",
    "# have on record. There are a large number of close games. \n",
    "hist_data = data[data.score_differential.notnull()].groupby('submission_title')\\\n",
    "    ['score_differential'].min().reset_index()\n",
    "plt.hist(hist_data.score_differential,)\n",
    "plt.show()"
   ]
  },
  {
   "cell_type": "markdown",
   "metadata": {},
   "source": [
    "### Define helper functions"
   ]
  },
  {
   "cell_type": "code",
   "execution_count": 36,
   "metadata": {},
   "outputs": [],
   "source": [
    "# Borrowed some functions from the w266 utils.py file\n",
    "# Miscellaneous helpers\n",
    "def flatten(list_of_lists):\n",
    "    \"\"\"Flatten a list-of-lists into a single list.\"\"\"\n",
    "    return list(itertools.chain.from_iterable(list_of_lists))\n",
    "\n",
    "\n",
    "# Word processing functions\n",
    "def canonicalize_digits(word):\n",
    "    if any([c.isalpha() for c in word]): return word\n",
    "    word = re.sub(\"\\d\", \"DG\", word)\n",
    "    if word.startswith(\"DG\"):\n",
    "        word = word.replace(\",\", \"\") # remove thousands separator\n",
    "    return word\n",
    "\n",
    "def canonicalize_word(word, wordset=None, digits=True):\n",
    "    word = re.sub(r\"(https?:\\/\\/)?([\\da-z\\.-]+)\\.([a-z\\.]{2,6})([\\/\\w\\.-]*)*\\/?\\S*\", \"postedhyperlinkvalue\", word)\n",
    "    word = re.sub(r\"(postedhyperlinkvalue)+\", \"postedhyperlinkvalue\", word)\n",
    "    #if not word.isupper():\n",
    "    word = word.lower()\n",
    "    if digits:\n",
    "        if (wordset != None) and (word in wordset): return word\n",
    "        word = canonicalize_digits(word) # try to canonicalize numbers\n",
    "    if (wordset == None) or (word in wordset):\n",
    "        return word\n",
    "    else:\n",
    "        return constants.UNK_TOKEN\n",
    "\n",
    "def canonicalize_words(words, **kw):\n",
    "    return [canonicalize_word(word, **kw) for word in words]"
   ]
  },
  {
   "cell_type": "code",
   "execution_count": 37,
   "metadata": {},
   "outputs": [],
   "source": [
    "def make_data(data, \n",
    "              only_fans=False, \n",
    "              no_empty=True, \n",
    "              tail_win_diffs=False, tokenizer=TweetTokenizer(), canonize=True):\n",
    "    use_data = data\n",
    "    \n",
    "    if only_fans:\n",
    "        # Get rid of non-fans\n",
    "        use_data = use_data[use_data['fan_type']!='nofan']\n",
    "    \n",
    "    if no_empty:\n",
    "        # Eliminate data with empty comments\n",
    "        use_data = use_data[pd.notnull(use_data['comment_body'])]\n",
    "        \n",
    "    if tail_win_diffs:\n",
    "        # Eliminate data for games in which the outcome is neither very close nor very clear\n",
    "        use_data = use_data[(use_data['win_differential'] <= 0.2) | (use_data['win_differential'] >= 0.9)]\n",
    "\n",
    "    # Separate comments\n",
    "    comments = use_data.loc[:, 'comment_body']\n",
    "    \n",
    "    # Convert to list\n",
    "    comment_list = comments.values.tolist()\n",
    "    \n",
    "    # Tokenize comments\n",
    "    tokenizer = tokenizer\n",
    "    x_tokens = [tokenizer.tokenize(sentence) for sentence in comment_list]\n",
    "    \n",
    "    if canonize:\n",
    "        comments_canon = []\n",
    "        for token in x_tokens:\n",
    "            x_tokens_canon = canonicalize_words(token)\n",
    "            comments_canon.append(x_tokens_canon)\n",
    "        x_tokens = comments_canon\n",
    "    \n",
    "    return use_data, comments, comment_list, x_tokens\n",
    "\n",
    "def most_informative_features_top_and_bottom(vectorizer, classifier, binary=True, n=10):\n",
    "    \n",
    "    feature_names = vectorizer.get_feature_names()\n",
    "    \n",
    "    '''classifier.coef_[0],''' \n",
    "    if binary:\n",
    "        class_labels = classifier.classes_\n",
    "        topn_class1 = sorted(zip(classifier.coef_[0], feature_names))[:n]\n",
    "        topn_class2 = sorted(zip(classifier.coef_[0], feature_names))[-n:]\n",
    "        for coef, feat in topn_class1:\n",
    "            print (class_labels[0], coef, feat)\n",
    "\n",
    "        print()\n",
    "\n",
    "        for coef, feat in reversed(topn_class2):\n",
    "            print (class_labels[1], coef, feat)\n",
    "    \n",
    "    else:\n",
    "        notclose_feats = sorted(zip(classifier.coef_, feature_names))[-n:]\n",
    "        close_feats = sorted(zip(classifier.coef_, feature_names))[:n]\n",
    "        \n",
    "        for coef, feat in close_feats:\n",
    "            print (\"Close\", coef, feat)\n",
    "        \n",
    "        print()\n",
    "        \n",
    "        for coef, feat in reversed(notclose_feats):\n",
    "            print (\"Not close\", coef, feat)"
   ]
  },
  {
   "cell_type": "markdown",
   "metadata": {},
   "source": [
    "### Prepare the data for modeling"
   ]
  },
  {
   "cell_type": "code",
   "execution_count": null,
   "metadata": {},
   "outputs": [],
   "source": [
    "# 1. win_lost_fan_type : Fan of winning or losing team or other\n",
    "# 2. score_differential : Score differential\n",
    "# 3. yards_differential : Yards differential (absolute value)\n",
    "# 4. turn_over_differential : Total turnovers in game\n",
    "# 5. close_game : Watching close game or not (within 7 points)\n",
    "# 6. fan_close_game : Fan lost/won close game or not (within 7 points)"
   ]
  },
  {
   "cell_type": "code",
   "execution_count": 55,
   "metadata": {},
   "outputs": [
    {
     "data": {
      "text/plain": [
       "win_lost_fan_type\n",
       "lose      350883\n",
       "nofan    1142474\n",
       "win       524654\n",
       "Name: comment_body, dtype: int64"
      ]
     },
     "execution_count": 55,
     "metadata": {},
     "output_type": "execute_result"
    }
   ],
   "source": [
    "use_data.groupby('win_lost_fan_type')['comment_body'].count()"
   ]
  },
  {
   "cell_type": "code",
   "execution_count": 56,
   "metadata": {},
   "outputs": [
    {
     "data": {
      "text/plain": [
       "win_lost_fan_type\n",
       "lose      350883\n",
       "nofan    1142474\n",
       "win       524654\n",
       "Name: comment_body, dtype: int64"
      ]
     },
     "execution_count": 56,
     "metadata": {},
     "output_type": "execute_result"
    }
   ],
   "source": [
    "data.groupby('win_lost_fan_type')['comment_body'].count()"
   ]
  },
  {
   "cell_type": "markdown",
   "metadata": {},
   "source": [
    "### Set dependent variable"
   ]
  },
  {
   "cell_type": "code",
   "execution_count": 54,
   "metadata": {},
   "outputs": [],
   "source": [
    "use_data, comments, comment_list, x_tokens = make_data(data, only_fans=False, tail_win_diffs=False)"
   ]
  },
  {
   "cell_type": "code",
   "execution_count": 57,
   "metadata": {},
   "outputs": [
    {
     "name": "stdout",
     "output_type": "stream",
     "text": [
      "Class counts:\n",
      "{'lose': 350883, 'nofan': 1142474, 'win': 524654}\n"
     ]
    }
   ],
   "source": [
    "# Isolate the labels\n",
    "target_var = 'win_lost_fan_type'\n",
    "\n",
    "labels = use_data.loc[:, target_var]\n",
    "\n",
    "counts = {}\n",
    "for label in np.unique(labels):\n",
    "    counts[label] = sum(labels == label)\n",
    "\n",
    "print(\"Class counts:\\n{}\".format(counts))"
   ]
  },
  {
   "cell_type": "markdown",
   "metadata": {},
   "source": [
    "### Multinomial Naive Bayes"
   ]
  },
  {
   "cell_type": "code",
   "execution_count": 59,
   "metadata": {
    "scrolled": true
   },
   "outputs": [
    {
     "name": "stdout",
     "output_type": "stream",
     "text": [
      "<class 'list'>\n",
      "2018011\n",
      "['goff', 'needs', 'his', 'safety', 'blanket', '.']\n"
     ]
    }
   ],
   "source": [
    "print(type(x_tokens))\n",
    "print(len(x_tokens))\n",
    "print(x_tokens[83029])"
   ]
  },
  {
   "cell_type": "code",
   "execution_count": 60,
   "metadata": {},
   "outputs": [
    {
     "name": "stderr",
     "output_type": "stream",
     "text": [
      "/Users/kwheatley/anaconda/envs/python36/lib/python3.6/site-packages/sklearn/feature_extraction/text.py:1059: FutureWarning: Conversion of the second argument of issubdtype from `float` to `np.floating` is deprecated. In future, it will be treated as `np.float64 == np.dtype(float).type`.\n",
      "  if hasattr(X, 'dtype') and np.issubdtype(X.dtype, np.float):\n"
     ]
    }
   ],
   "source": [
    "# Count or TF-IDF vectorize, removing stop words.\n",
    "vectorizer = TfidfVectorizer(analyzer='word', stop_words='english', lowercase=False, \n",
    "                             tokenizer=lambda text: text)\n",
    "                             #tokenizer=lambda text: text, min_df=0.00002, max_df=0.005)\n",
    "spmat = vectorizer.fit_transform(x_tokens)\n",
    "#vectorizer = CountVectorizer(analyzer='word', stop_words='english', lowercase=False, binary=False)\n",
    "#spmat = vectorizer.fit_transform(X_data)"
   ]
  },
  {
   "cell_type": "code",
   "execution_count": 61,
   "metadata": {},
   "outputs": [],
   "source": [
    "# Split into test and train\n",
    "train_data, test_data, train_labels, test_labels = train_test_split(spmat, labels, test_size=0.10, random_state=42)  "
   ]
  },
  {
   "cell_type": "code",
   "execution_count": 62,
   "metadata": {},
   "outputs": [
    {
     "data": {
      "text/plain": [
       "MultinomialNB(alpha=1.0, class_prior=None, fit_prior=True)"
      ]
     },
     "execution_count": 62,
     "metadata": {},
     "output_type": "execute_result"
    }
   ],
   "source": [
    "# Train model\n",
    "#a_values = [x * 0.01 for x in range(1,20)]\n",
    "#gs_mnb = GridSearchCV(MultinomialNB(), {'alpha': a_values}, cv=5,\n",
    "#                       scoring='f1_weighted')\n",
    "clf = MultinomialNB()\n",
    "clf.fit(train_data, train_labels)\n",
    "#print(gs_mnb.best_estimator_)\n",
    "#print(gs_mnb.best_score_)"
   ]
  },
  {
   "cell_type": "code",
   "execution_count": 63,
   "metadata": {},
   "outputs": [
    {
     "name": "stdout",
     "output_type": "stream",
     "text": [
      "[ 315703. 1028128.  472378.]\n"
     ]
    }
   ],
   "source": [
    "print(clf.class_count_)"
   ]
  },
  {
   "cell_type": "code",
   "execution_count": 64,
   "metadata": {},
   "outputs": [
    {
     "name": "stdout",
     "output_type": "stream",
     "text": [
      "['lose' 'nofan' 'win']\n"
     ]
    }
   ],
   "source": [
    "# Get feature names and class labels\n",
    "feature_names = vectorizer.get_feature_names()\n",
    "class_labels = clf.classes_\n",
    "print(class_labels)"
   ]
  },
  {
   "cell_type": "code",
   "execution_count": 65,
   "metadata": {
    "scrolled": false
   },
   "outputs": [
    {
     "name": "stdout",
     "output_type": "stream",
     "text": [
      "Accuracy on test set: 57.02%\n",
      "Test Data:\n",
      "             precision    recall  f1-score   support\n",
      "\n",
      "       lose      0.368     0.010     0.020     35180\n",
      "      nofan      0.574     0.982     0.724    114346\n",
      "        win      0.474     0.046     0.084     52276\n",
      "\n",
      "avg / total      0.512     0.570     0.436    201802\n",
      "\n",
      "Confusion Matrix...\n",
      "[[   360  33837    983]\n",
      " [   364 112285   1697]\n",
      " [   253  49607   2416]]\n"
     ]
    }
   ],
   "source": [
    "# Create predictions and evaluate\n",
    "pred_labels = clf.predict(test_data)\n",
    "acc = metrics.accuracy_score(test_labels, pred_labels)\n",
    "print(\"Accuracy on test set: {:.02%}\".format(acc))\n",
    "print('Test Data:')\n",
    "\n",
    "print(classification_report(test_labels, pred_labels, target_names = class_labels, digits=3))\n",
    "\n",
    "print(\"Confusion Matrix...\")\n",
    "confusionMatrix = metrics.confusion_matrix(test_labels, pred_labels)\n",
    "print(confusionMatrix)"
   ]
  },
  {
   "cell_type": "code",
   "execution_count": 66,
   "metadata": {},
   "outputs": [
    {
     "name": "stdout",
     "output_type": "stream",
     "text": [
      "[-1.74970474 -0.56901169 -1.34672713]\n",
      "###bruh :  ['win']\n",
      "###mods :  ['lose']\n",
      "##mikeshula :  ['win']\n",
      "#analysis :  ['nofan']\n",
      "Van Buren :  ['nofan']\n",
      ". :  ['nofan']\n",
      ", :  ['nofan']\n",
      "fuck :  ['nofan']\n",
      "good :  ['nofan']\n"
     ]
    },
    {
     "name": "stderr",
     "output_type": "stream",
     "text": [
      "/Users/kwheatley/anaconda/envs/python36/lib/python3.6/site-packages/sklearn/feature_extraction/text.py:1059: FutureWarning: Conversion of the second argument of issubdtype from `float` to `np.floating` is deprecated. In future, it will be treated as `np.float64 == np.dtype(float).type`.\n",
      "  if hasattr(X, 'dtype') and np.issubdtype(X.dtype, np.float):\n"
     ]
    }
   ],
   "source": [
    "# Which is the \"default\" class, i.e. that class predicted against no features? Let's test it.\n",
    "#print(spmat)\n",
    "#print(pred)\n",
    "print(clf.intercept_)\n",
    "for word in ['###bruh','###mods','##mikeshula','#analysis','Van Buren','.',',','fuck','good']:\n",
    "    test_word = vectorizer.transform([[word]])\n",
    "    pred = clf.predict(test_word)\n",
    "    print(word, \": \", pred)\n",
    "# It's 'notclose' because that is the default prediction."
   ]
  },
  {
   "cell_type": "code",
   "execution_count": 67,
   "metadata": {},
   "outputs": [
    {
     "name": "stdout",
     "output_type": "stream",
     "text": [
      "lose -13.658624786564527 ###adam\n",
      "lose -13.658624786564527 ###ahh\n",
      "lose -13.658624786564527 ###alert\n",
      "lose -13.658624786564527 ###all\n",
      "lose -13.658624786564527 ###almichaelsshakeyabooty\n",
      "lose -13.658624786564527 ###and\n",
      "lose -13.658624786564527 ###another\n",
      "lose -13.658624786564527 ###at\n",
      "lose -13.658624786564527 ###bersin\n",
      "lose -13.658624786564527 ###big\n",
      "lose -13.658624786564527 ###blew\n",
      "lose -13.658624786564527 ###block\n",
      "lose -13.658624786564527 ###boobiessssssss\n",
      "lose -13.658624786564527 ###brock\n",
      "lose -13.658624786564527 ###broncos\n",
      "\n",
      "nofan -3.683993892061711 .\n",
      "nofan -4.4631088527274265 ,\n",
      "nofan -4.555669968170468 ?\n",
      "nofan -4.9446285190062955 !\n",
      "nofan -5.087757103587803 fuck\n",
      "nofan -5.153722910707264 game\n",
      "nofan -5.2991215958049676 ...\n",
      "nofan -5.349687943159118 fucking\n",
      "nofan -5.359995492035001 just\n",
      "nofan -5.410017269851206 DG\n",
      "nofan -5.438553954837262 like\n",
      "nofan -5.474018179893259 lol\n",
      "nofan -5.563917654941019 good\n",
      "nofan -5.600317137204122 ’\n",
      "nofan -5.686292776473958 \"\n"
     ]
    }
   ],
   "source": [
    "# Get most informative features\n",
    "most_informative_features_top_and_bottom(vectorizer=vectorizer, classifier=clf, binary=True, n=15)"
   ]
  },
  {
   "cell_type": "markdown",
   "metadata": {},
   "source": [
    "### Logistic Regression"
   ]
  },
  {
   "cell_type": "markdown",
   "metadata": {},
   "source": [
    "### Vectorize data and split into train and test"
   ]
  },
  {
   "cell_type": "markdown",
   "metadata": {},
   "source": [
    "Reuse data prep, vectorization, and train/test split from Naive Bayes "
   ]
  },
  {
   "cell_type": "code",
   "execution_count": 74,
   "metadata": {},
   "outputs": [
    {
     "data": {
      "text/plain": [
       "LogisticRegression(C=1.0, class_weight=None, dual=False, fit_intercept=True,\n",
       "          intercept_scaling=1, max_iter=100, multi_class='ovr', n_jobs=1,\n",
       "          penalty='l2', random_state=None, solver='liblinear', tol=0.0001,\n",
       "          verbose=0, warm_start=False)"
      ]
     },
     "execution_count": 74,
     "metadata": {},
     "output_type": "execute_result"
    }
   ],
   "source": [
    "# Train model\n",
    "lgreg = LogisticRegression()\n",
    "lgreg.fit(train_data, train_labels)"
   ]
  },
  {
   "cell_type": "code",
   "execution_count": 75,
   "metadata": {
    "scrolled": false
   },
   "outputs": [
    {
     "name": "stdout",
     "output_type": "stream",
     "text": [
      "Accuracy on test set: 57.61%\n",
      "Test Data:\n",
      "             precision    recall  f1-score   support\n",
      "\n",
      "       lose      0.421     0.044     0.079     35180\n",
      "      nofan      0.589     0.953     0.728    114346\n",
      "        win      0.438     0.109     0.175     52276\n",
      "\n",
      "avg / total      0.521     0.576     0.472    201802\n",
      "\n",
      "Confusion Matrix...\n",
      "[[  1531  30599   3050]\n",
      " [  1040 109018   4288]\n",
      " [  1062  45497   5717]]\n"
     ]
    }
   ],
   "source": [
    "#Create predictions and evaluate\n",
    "pred_labels = lgreg.predict(test_data)\n",
    "acc = metrics.accuracy_score(test_labels, pred_labels)\n",
    "print(\"Accuracy on test set: {:.02%}\".format(acc))\n",
    "print('Test Data:')\n",
    "\n",
    "print(classification_report(test_labels, pred_labels, target_names = class_labels, digits=3))\n",
    "#print(classification_report(test_labels, pred_labels, target_names = ['fan_lose_close', 'fan_lose_notclose', 'fan_win_close', 'fan_win_notclose'], digits=3))\n",
    "\n",
    "print(\"Confusion Matrix...\")\n",
    "confusionMatrix = metrics.confusion_matrix(test_labels, pred_labels)\n",
    "print(confusionMatrix)"
   ]
  },
  {
   "cell_type": "code",
   "execution_count": 76,
   "metadata": {},
   "outputs": [
    {
     "name": "stdout",
     "output_type": "stream",
     "text": [
      "[-1.63750709  0.18752951 -0.96315531]\n",
      "vernon :  ['nofan']\n",
      "foles :  ['nofan']\n",
      "bersin :  ['win']\n",
      "mills :  ['win']\n",
      "Van Buren :  ['nofan']\n",
      "glennon :  ['nofan']\n",
      "fog :  ['win']\n",
      "onside :  ['nofan']\n",
      "achilles :  ['nofan']\n"
     ]
    },
    {
     "name": "stderr",
     "output_type": "stream",
     "text": [
      "/Users/kwheatley/anaconda/envs/python36/lib/python3.6/site-packages/sklearn/feature_extraction/text.py:1059: FutureWarning: Conversion of the second argument of issubdtype from `float` to `np.floating` is deprecated. In future, it will be treated as `np.float64 == np.dtype(float).type`.\n",
      "  if hasattr(X, 'dtype') and np.issubdtype(X.dtype, np.float):\n"
     ]
    }
   ],
   "source": [
    "# Which is the \"default\" class, i.e. that class predicted against no features? Let's test it.\n",
    "#print(spmat)\n",
    "#print(pred)\n",
    "print(lgreg.intercept_)\n",
    "for word in ['vernon','foles','bersin','mills','Van Buren','glennon','fog','onside','achilles']:\n",
    "    test_word = vectorizer.transform([[word]])\n",
    "    pred = lgreg.predict(test_word)\n",
    "    print(word, \": \", pred)\n",
    "# It's 'close' because that is the default prediction."
   ]
  },
  {
   "cell_type": "code",
   "execution_count": 79,
   "metadata": {
    "scrolled": false
   },
   "outputs": [
    {
     "ename": "ValueError",
     "evalue": "The truth value of an array with more than one element is ambiguous. Use a.any() or a.all()",
     "output_type": "error",
     "traceback": [
      "\u001b[0;31m---------------------------------------------------------------------------\u001b[0m",
      "\u001b[0;31mValueError\u001b[0m                                Traceback (most recent call last)",
      "\u001b[0;32m<ipython-input-79-0c116dc3bc5f>\u001b[0m in \u001b[0;36m<module>\u001b[0;34m()\u001b[0m\n\u001b[1;32m      1\u001b[0m \u001b[0;31m# Get most informative features\u001b[0m\u001b[0;34m\u001b[0m\u001b[0;34m\u001b[0m\u001b[0m\n\u001b[0;32m----> 2\u001b[0;31m \u001b[0mmost_informative_features_top_and_bottom\u001b[0m\u001b[0;34m(\u001b[0m\u001b[0mvectorizer\u001b[0m\u001b[0;34m=\u001b[0m\u001b[0mvectorizer\u001b[0m\u001b[0;34m,\u001b[0m \u001b[0mclassifier\u001b[0m\u001b[0;34m=\u001b[0m\u001b[0mlgreg\u001b[0m\u001b[0;34m,\u001b[0m \u001b[0mbinary\u001b[0m\u001b[0;34m=\u001b[0m\u001b[0;32mFalse\u001b[0m\u001b[0;34m,\u001b[0m \u001b[0mn\u001b[0m\u001b[0;34m=\u001b[0m\u001b[0;36m15\u001b[0m\u001b[0;34m)\u001b[0m\u001b[0;34m\u001b[0m\u001b[0m\n\u001b[0m",
      "\u001b[0;32m<ipython-input-37-399a07b93e76>\u001b[0m in \u001b[0;36mmost_informative_features_top_and_bottom\u001b[0;34m(vectorizer, classifier, binary, n)\u001b[0m\n\u001b[1;32m     51\u001b[0m \u001b[0;34m\u001b[0m\u001b[0m\n\u001b[1;32m     52\u001b[0m     \u001b[0;32melse\u001b[0m\u001b[0;34m:\u001b[0m\u001b[0;34m\u001b[0m\u001b[0m\n\u001b[0;32m---> 53\u001b[0;31m         \u001b[0mnotclose_feats\u001b[0m \u001b[0;34m=\u001b[0m \u001b[0msorted\u001b[0m\u001b[0;34m(\u001b[0m\u001b[0mzip\u001b[0m\u001b[0;34m(\u001b[0m\u001b[0mclassifier\u001b[0m\u001b[0;34m.\u001b[0m\u001b[0mcoef_\u001b[0m\u001b[0;34m,\u001b[0m \u001b[0mfeature_names\u001b[0m\u001b[0;34m)\u001b[0m\u001b[0;34m)\u001b[0m\u001b[0;34m[\u001b[0m\u001b[0;34m-\u001b[0m\u001b[0mn\u001b[0m\u001b[0;34m:\u001b[0m\u001b[0;34m]\u001b[0m\u001b[0;34m\u001b[0m\u001b[0m\n\u001b[0m\u001b[1;32m     54\u001b[0m         \u001b[0mclose_feats\u001b[0m \u001b[0;34m=\u001b[0m \u001b[0msorted\u001b[0m\u001b[0;34m(\u001b[0m\u001b[0mzip\u001b[0m\u001b[0;34m(\u001b[0m\u001b[0mclassifier\u001b[0m\u001b[0;34m.\u001b[0m\u001b[0mcoef_\u001b[0m\u001b[0;34m,\u001b[0m \u001b[0mfeature_names\u001b[0m\u001b[0;34m)\u001b[0m\u001b[0;34m)\u001b[0m\u001b[0;34m[\u001b[0m\u001b[0;34m:\u001b[0m\u001b[0mn\u001b[0m\u001b[0;34m]\u001b[0m\u001b[0;34m\u001b[0m\u001b[0m\n\u001b[1;32m     55\u001b[0m \u001b[0;34m\u001b[0m\u001b[0m\n",
      "\u001b[0;31mValueError\u001b[0m: The truth value of an array with more than one element is ambiguous. Use a.any() or a.all()"
     ]
    }
   ],
   "source": [
    "# Get most informative features\n",
    "most_informative_features_top_and_bottom(vectorizer=vectorizer, classifier=lgreg, binary=False, n=15)"
   ]
  },
  {
   "cell_type": "markdown",
   "metadata": {},
   "source": [
    "### Formulate the problem as a regression problem"
   ]
  },
  {
   "cell_type": "markdown",
   "metadata": {},
   "source": [
    "### Prepare the data for modeling"
   ]
  },
  {
   "cell_type": "markdown",
   "metadata": {},
   "source": [
    "We will begin by using the same data that we used for classification. We will later model all of the tweets in our corpus. In both cases, our target variable will be win_differential, a continuous variable."
   ]
  },
  {
   "cell_type": "code",
   "execution_count": 73,
   "metadata": {},
   "outputs": [],
   "source": [
    "use_data, comments, comment_list, x_tokens = make_data(data, only_fans=False, tail_win_diffs=False)"
   ]
  },
  {
   "cell_type": "markdown",
   "metadata": {},
   "source": [
    "### Set dependent variable"
   ]
  },
  {
   "cell_type": "code",
   "execution_count": 78,
   "metadata": {},
   "outputs": [],
   "source": [
    "target_var = 'win_lost_fan_type'\n",
    "y_data = use_data.loc[:, target_var]"
   ]
  },
  {
   "cell_type": "markdown",
   "metadata": {},
   "source": [
    "### Vectorize data and split into train and test"
   ]
  },
  {
   "cell_type": "markdown",
   "metadata": {},
   "source": [
    "We will vectorize a bit differently for regression. We will use binary variables to indicate the presence or absence of a word, rather than model counts or tf-idf, as we did for classification."
   ]
  },
  {
   "cell_type": "code",
   "execution_count": 350,
   "metadata": {},
   "outputs": [],
   "source": [
    "vectorizer = CountVectorizer(analyzer='word', stop_words='english', tokenizer=lambda text: text, \n",
    "                             lowercase=False, binary=True)#, min_df=10)\n",
    "spmat = vectorizer.fit_transform(x_tokens)"
   ]
  },
  {
   "cell_type": "code",
   "execution_count": 351,
   "metadata": {},
   "outputs": [],
   "source": [
    "# Split into test and train\n",
    "train_data, test_data, train_labels, test_labels = train_test_split(spmat, y_data, test_size=0.10, random_state=42)  "
   ]
  },
  {
   "cell_type": "code",
   "execution_count": 352,
   "metadata": {
    "scrolled": true
   },
   "outputs": [
    {
     "name": "stdout",
     "output_type": "stream",
     "text": [
      "83030\n"
     ]
    }
   ],
   "source": [
    "print(len(x_tokens))"
   ]
  },
  {
   "cell_type": "markdown",
   "metadata": {},
   "source": [
    "### Linear Regression"
   ]
  },
  {
   "cell_type": "code",
   "execution_count": 355,
   "metadata": {
    "scrolled": true
   },
   "outputs": [
    {
     "data": {
      "text/plain": [
       "LinearRegression(copy_X=True, fit_intercept=True, n_jobs=1, normalize=False)"
      ]
     },
     "execution_count": 355,
     "metadata": {},
     "output_type": "execute_result"
    }
   ],
   "source": [
    "# Train model\n",
    "lr = LinearRegression()\n",
    "lr.fit(train_data, train_labels)"
   ]
  },
  {
   "cell_type": "code",
   "execution_count": 356,
   "metadata": {
    "scrolled": false
   },
   "outputs": [
    {
     "name": "stdout",
     "output_type": "stream",
     "text": [
      "Training set score: 0.39\n",
      "Test set score: -0.19\n"
     ]
    }
   ],
   "source": [
    "#Create predictions and evaluate\n",
    "pred_labels = lr.predict(test_data)\n",
    "print(\"Training set score: {:.2f}\".format(lr.score(train_data, train_labels)))\n",
    "print(\"Test set score: {:.2f}\".format(lr.score(test_data, test_labels)))"
   ]
  },
  {
   "cell_type": "code",
   "execution_count": 361,
   "metadata": {},
   "outputs": [
    {
     "name": "stdout",
     "output_type": "stream",
     "text": [
      "Close -2.301957306899027 namath's\n",
      "Close -2.1877138727182457 richardwashington\n",
      "Close -1.9732911747672395 toothpaste\n",
      "Close -1.963828160231887 taunts\n",
      "Close -1.9101269513392856 syrup\n",
      "Close -1.908013352218731 compulsively\n",
      "Close -1.9058120694474192 preference\n",
      "Close -1.852787000670881 exhange\n",
      "Close -1.7886163110315205 described\n",
      "Close -1.7797319522554074 skeletons\n",
      "Close -1.7127994796526567 nord\n",
      "Close -1.6951090696767224 septum\n",
      "Close -1.6668677396222211 virgil\n",
      "Close -1.662375903737923 needy\n",
      "Close -1.6219303976219441 hahahahahahahahahahahahahahahahahahahahahahahahahahahahahhahahahajahahajhahajajajajajjahahahahhahahahahahahahhahahahahhahahahahajhajajajhahahhahah\n",
      "\n",
      "Not close 2.5271981827317336 urinatingtree\n",
      "Not close 2.2475460065967634 comings\n",
      "Not close 2.2344195914329417 sported\n",
      "Not close 2.096146291596809 baaaaaad\n",
      "Not close 2.083090275841373 pleaseee\n",
      "Not close 1.9456278595420349 chamionship\n",
      "Not close 1.9368067779277969 va\n",
      "Not close 1.9268929341089498 nintendo\n",
      "Not close 1.9236111584623041 kalifa\n",
      "Not close 1.878875123903421 yrs\n",
      "Not close 1.8773971052600618 tri-state\n",
      "Not close 1.8217777431144528 sleuths\n",
      "Not close 1.812460095694285 physifally\n",
      "Not close 1.7740262730192133 cursory\n",
      "Not close 1.731495033616223 okayish\n"
     ]
    }
   ],
   "source": [
    "# Get most informative features\n",
    "most_informative_features_top_and_bottom(vectorizer=vectorizer, classifier=lr, binary=False, n=15)"
   ]
  },
  {
   "cell_type": "markdown",
   "metadata": {},
   "source": [
    "### Lasso Regression"
   ]
  },
  {
   "cell_type": "code",
   "execution_count": 139,
   "metadata": {},
   "outputs": [
    {
     "data": {
      "text/plain": [
       "Lasso(alpha=0.0002, copy_X=True, fit_intercept=True, max_iter=1000,\n",
       "   normalize=False, positive=False, precompute=False, random_state=None,\n",
       "   selection='cyclic', tol=0.0001, warm_start=False)"
      ]
     },
     "execution_count": 139,
     "metadata": {},
     "output_type": "execute_result"
    }
   ],
   "source": [
    "lasso = Lasso(alpha=0.0002)\n",
    "lasso.fit(train_data, train_labels)"
   ]
  },
  {
   "cell_type": "code",
   "execution_count": 140,
   "metadata": {
    "scrolled": true
   },
   "outputs": [
    {
     "name": "stdout",
     "output_type": "stream",
     "text": [
      "Training set score: 0.06\n",
      "Test set score: 0.05\n",
      "Number of features used: 239\n"
     ]
    }
   ],
   "source": [
    "#Create predictions and evaluate\n",
    "pred_labels = lasso.predict(test_data)\n",
    "print(\"Training set score: {:.2f}\".format(lasso.score(train_data, train_labels)))\n",
    "print(\"Test set score: {:.2f}\".format(lasso.score(test_data, test_labels)))\n",
    "print(\"Number of features used: {}\".format(np.sum(lasso.coef_ != 0)))"
   ]
  },
  {
   "cell_type": "code",
   "execution_count": 362,
   "metadata": {},
   "outputs": [
    {
     "name": "stdout",
     "output_type": "stream",
     "text": [
      "Close -0.1637421717990017 foles\n",
      "Close -0.1581467866956226 ebron\n",
      "Close -0.14852478955757265 shazier\n",
      "Close -0.1267352788009385 bounds\n",
      "Close -0.12101580068333978 penalty\n",
      "Close -0.11625071424487275 penalties\n",
      "Close -0.11154985669594393 tackle\n",
      "Close -0.10665208565190892 kamara\n",
      "Close -0.09018074264763473 ab\n",
      "Close -0.08698765710318315 gronk\n",
      "Close -0.08640963325996047 ben\n",
      "Close -0.0804754389359069 drive\n",
      "Close -0.0788042281287264 eagles\n",
      "Close -0.07497130441441537 weak\n",
      "Close -0.07423865843002164 gruden\n",
      "\n",
      "Not close 0.3508173499098539 fog\n",
      "Not close 0.32338060317444955 gg\n",
      "Not close 0.30864989421356875 glennon\n",
      "Not close 0.27611114955949473 bears\n",
      "Not close 0.2504264555094252 trevathan\n",
      "Not close 0.19970469311750266 adams\n",
      "Not close 0.18013604448015075 mcadoo\n",
      "Not close 0.17551875308471257 obj\n",
      "Not close 0.1660806503818626 siemian\n",
      "Not close 0.16490772884150776 capers\n",
      "Not close 0.16345146448162082 onside\n",
      "Not close 0.15842325520283113 packers\n",
      "Not close 0.149615659685727 fox\n",
      "Not close 0.13986722855251074 ap\n",
      "Not close 0.1325245907918319 jordy\n"
     ]
    }
   ],
   "source": [
    "# Get most informative features\n",
    "most_informative_features_top_and_bottom(vectorizer=vectorizer, classifier=lasso, binary=False, n=15)"
   ]
  },
  {
   "cell_type": "markdown",
   "metadata": {},
   "source": [
    "### Ridge Regression"
   ]
  },
  {
   "cell_type": "code",
   "execution_count": 136,
   "metadata": {},
   "outputs": [
    {
     "data": {
      "text/plain": [
       "Ridge(alpha=5, copy_X=True, fit_intercept=True, max_iter=None,\n",
       "   normalize=False, random_state=None, solver='auto', tol=0.001)"
      ]
     },
     "execution_count": 136,
     "metadata": {},
     "output_type": "execute_result"
    }
   ],
   "source": [
    "rdg = Ridge(alpha=5)\n",
    "rdg.fit(train_data, train_labels)"
   ]
  },
  {
   "cell_type": "code",
   "execution_count": 137,
   "metadata": {},
   "outputs": [
    {
     "name": "stdout",
     "output_type": "stream",
     "text": [
      "Training set score: 0.25\n",
      "Test set score: 0.09\n"
     ]
    }
   ],
   "source": [
    "#Create predictions and evaluate\n",
    "pred_labels = rdg.predict(test_data)\n",
    "print(\"Training set score: {:.2f}\".format(rdg.score(train_data, train_labels)))\n",
    "print(\"Test set score: {:.2f}\".format(rdg.score(test_data, test_labels)))\n",
    "#print(\"Number of features used: {}\".format(np.sum(clf.coef_ != 0)))"
   ]
  },
  {
   "cell_type": "code",
   "execution_count": 138,
   "metadata": {},
   "outputs": [
    {
     "name": "stdout",
     "output_type": "stream",
     "text": [
      "(25649,)\n",
      "Top Feats\n",
      "pouncey semen naz mcadoo hyde marshall touchback legion achilles doink siemian shutout trevathan callahan glennon jordy onside gg colt fog\n",
      "Bottom feats:\n",
      "vernon kalil mccourty quin hightower pagano roberts bersin foles cart foreman remmers morelli dupree week's strief trufant barry tree jameis\n"
     ]
    }
   ],
   "source": [
    "# Look at top scoring words\n",
    "n = 20\n",
    "print(rdg.coef_.shape)\n",
    "feature_names = vectorizer.get_feature_names()\n",
    "top_feats = np.argsort(rdg.coef_)[-n:]\n",
    "print(\"Top Feats:\")\n",
    "print(\" \".join(feature_names[j] for j in top_feats))\n",
    "\n",
    "bottom_feats = np.argsort(rdg.coef_)[:n]\n",
    "print(\"Bottom feats:\")\n",
    "print(\" \".join(feature_names[j] for j in bottom_feats))"
   ]
  },
  {
   "cell_type": "code",
   "execution_count": 363,
   "metadata": {},
   "outputs": [
    {
     "name": "stdout",
     "output_type": "stream",
     "text": [
      "Close -0.37089561368148444 vernon\n",
      "Close -0.3705410714883797 kalil\n",
      "Close -0.366058386686205 mccourty\n",
      "Close -0.34349630756545807 quin\n",
      "Close -0.3269397831598419 hightower\n",
      "Close -0.2951402671672529 pagano\n",
      "Close -0.2936702152555754 roberts\n",
      "Close -0.293312067455661 bersin\n",
      "Close -0.2911020761305688 foles\n",
      "Close -0.2830976737857898 cart\n",
      "Close -0.2790687785902987 foreman\n",
      "Close -0.27894208442918456 remmers\n",
      "Close -0.2761260702074843 morelli\n",
      "Close -0.2750799921285882 dupree\n",
      "Close -0.27415810563194515 week's\n",
      "\n",
      "Not close 0.3870118227815891 fog\n",
      "Not close 0.3488107110816733 colt\n",
      "Not close 0.34809381861857464 gg\n",
      "Not close 0.3378369357798525 onside\n",
      "Not close 0.3331272705315328 jordy\n",
      "Not close 0.3271165479385764 glennon\n",
      "Not close 0.32286493690954166 callahan\n",
      "Not close 0.31772959994818584 trevathan\n",
      "Not close 0.3112715472382765 shutout\n",
      "Not close 0.30460266590220025 siemian\n",
      "Not close 0.28955949885272886 doink\n",
      "Not close 0.2887701078910159 achilles\n",
      "Not close 0.2865772299529646 legion\n",
      "Not close 0.28541657205583476 touchback\n",
      "Not close 0.28367131531654066 marshall\n"
     ]
    }
   ],
   "source": [
    "# Get most informative features\n",
    "most_informative_features_top_and_bottom(vectorizer=vectorizer, classifier=rdg, binary=False, n=15)"
   ]
  },
  {
   "cell_type": "markdown",
   "metadata": {},
   "source": [
    "### ElasticNet Regression"
   ]
  },
  {
   "cell_type": "code",
   "execution_count": 364,
   "metadata": {
    "scrolled": true
   },
   "outputs": [
    {
     "data": {
      "text/plain": [
       "ElasticNet(alpha=0.0001, copy_X=True, fit_intercept=True, l1_ratio=0.25,\n",
       "      max_iter=1000, normalize=False, positive=False, precompute=False,\n",
       "      random_state=None, selection='cyclic', tol=0.0001, warm_start=False)"
      ]
     },
     "execution_count": 364,
     "metadata": {},
     "output_type": "execute_result"
    }
   ],
   "source": [
    "elnet = ElasticNet(alpha=0.0001, l1_ratio=0.25)\n",
    "elnet.fit(train_data, train_labels)"
   ]
  },
  {
   "cell_type": "code",
   "execution_count": 365,
   "metadata": {
    "scrolled": true
   },
   "outputs": [
    {
     "name": "stdout",
     "output_type": "stream",
     "text": [
      "Training set score: 0.13\n",
      "Test set score: 0.09\n",
      "Number of features used: 2537\n"
     ]
    }
   ],
   "source": [
    "#Create predictions and evaluate\n",
    "pred_labels = elnet.predict(test_data)\n",
    "print(\"Training set score: {:.2f}\".format(elnet.score(train_data, train_labels)))\n",
    "print(\"Test set score: {:.2f}\".format(elnet.score(test_data, test_labels)))\n",
    "print(\"Number of features used: {}\".format(np.sum(elnet.coef_ != 0)))"
   ]
  },
  {
   "cell_type": "code",
   "execution_count": 367,
   "metadata": {
    "scrolled": false
   },
   "outputs": [
    {
     "name": "stdout",
     "output_type": "stream",
     "text": [
      "Close -0.324841966737298 kalil\n",
      "Close -0.3146510801148604 vernon\n",
      "Close -0.2838590936084882 quin\n",
      "Close -0.2813916141390773 hightower\n",
      "Close -0.27632289179523634 foles\n",
      "Close -0.2613953794039104 roberts\n",
      "Close -0.24014317180145764 lattimore\n",
      "Close -0.23842951744757415 ebron\n",
      "Close -0.235139838229948 shazier\n",
      "Close -0.21848218713247713 mccourty\n",
      "Close -0.2172652142529246 anthem\n",
      "Close -0.21607765388885264 pagano\n",
      "Close -0.21562798692136326 runoff\n",
      "Close -0.21538195151350967 ab\n",
      "Close -0.21369460966003695 bersin\n",
      "\n",
      "Not close 0.3870039726414069 fog\n",
      "Not close 0.3453605426586392 gg\n",
      "Not close 0.3275875380138656 glennon\n",
      "Not close 0.31437742763067766 onside\n",
      "Not close 0.31060685929617404 jordy\n",
      "Not close 0.2976617029931883 trevathan\n",
      "Not close 0.28969766100465266 achilles\n",
      "Not close 0.28741106657263643 siemian\n",
      "Not close 0.27876994777062925 colt\n",
      "Not close 0.274823164042374 mcadoo\n",
      "Not close 0.2712215477393702 shutout\n",
      "Not close 0.2696461025226082 bears\n",
      "Not close 0.2618729971057421 ap\n",
      "Not close 0.250878211572743 van\n",
      "Not close 0.24916960262633436 marshall\n"
     ]
    }
   ],
   "source": [
    "# Get most informative features\n",
    "most_informative_features_top_and_bottom(vectorizer=vectorizer, classifier=elnet, binary=False, n=15)"
   ]
  },
  {
   "cell_type": "markdown",
   "metadata": {},
   "source": [
    "### Rerun regressions against the full corpus of tweets"
   ]
  },
  {
   "cell_type": "code",
   "execution_count": 368,
   "metadata": {},
   "outputs": [],
   "source": [
    "use_data, comments, comment_list, x_tokens = make_data(data)"
   ]
  },
  {
   "cell_type": "code",
   "execution_count": 369,
   "metadata": {
    "scrolled": true
   },
   "outputs": [
    {
     "name": "stdout",
     "output_type": "stream",
     "text": [
      "588378\n"
     ]
    }
   ],
   "source": [
    "print(len(x_tokens))"
   ]
  },
  {
   "cell_type": "markdown",
   "metadata": {},
   "source": [
    "### Set dependent variable"
   ]
  },
  {
   "cell_type": "code",
   "execution_count": 370,
   "metadata": {},
   "outputs": [],
   "source": [
    "target_var = 'win_differential'\n",
    "y_data = use_data.loc[:, target_var]"
   ]
  },
  {
   "cell_type": "markdown",
   "metadata": {},
   "source": [
    "### Vectorize data and split into train and test"
   ]
  },
  {
   "cell_type": "markdown",
   "metadata": {},
   "source": [
    "We will require that each word appear in at least five posts, in order to make the problem a bit more tractable. The full vocabulary is ~73,000 words."
   ]
  },
  {
   "cell_type": "code",
   "execution_count": 371,
   "metadata": {},
   "outputs": [],
   "source": [
    "vectorizer = CountVectorizer(analyzer='word', stop_words='english', tokenizer=lambda text: text, \n",
    "                             lowercase=False, binary=True, min_df=5)\n",
    "spmat = vectorizer.fit_transform(x_tokens)"
   ]
  },
  {
   "cell_type": "code",
   "execution_count": 372,
   "metadata": {},
   "outputs": [
    {
     "name": "stdout",
     "output_type": "stream",
     "text": [
      "(588378, 20271)\n"
     ]
    }
   ],
   "source": [
    "print(spmat.shape)"
   ]
  },
  {
   "cell_type": "code",
   "execution_count": 373,
   "metadata": {},
   "outputs": [],
   "source": [
    "# Split into test and train\n",
    "train_data, test_data, train_labels, test_labels = train_test_split(spmat, y_data, test_size=0.10, random_state=42)  "
   ]
  },
  {
   "cell_type": "markdown",
   "metadata": {},
   "source": [
    "### Linear Regression"
   ]
  },
  {
   "cell_type": "code",
   "execution_count": 374,
   "metadata": {
    "scrolled": true
   },
   "outputs": [
    {
     "data": {
      "text/plain": [
       "LinearRegression(copy_X=True, fit_intercept=True, n_jobs=1, normalize=False)"
      ]
     },
     "execution_count": 374,
     "metadata": {},
     "output_type": "execute_result"
    }
   ],
   "source": [
    "# Train model\n",
    "lr2 = LinearRegression()\n",
    "lr2.fit(train_data, train_labels)"
   ]
  },
  {
   "cell_type": "code",
   "execution_count": 375,
   "metadata": {
    "scrolled": true
   },
   "outputs": [
    {
     "name": "stdout",
     "output_type": "stream",
     "text": [
      "Training set score: 0.11\n",
      "Test set score: 0.04\n"
     ]
    }
   ],
   "source": [
    "#Create predictions and evaluate\n",
    "pred_labels = lr2.predict(test_data)\n",
    "print(\"Training set score: {:.2f}\".format(lr2.score(train_data, train_labels)))\n",
    "print(\"Test set score: {:.2f}\".format(lr2.score(test_data, test_labels)))"
   ]
  },
  {
   "cell_type": "code",
   "execution_count": 385,
   "metadata": {
    "scrolled": false
   },
   "outputs": [
    {
     "name": "stdout",
     "output_type": "stream",
     "text": [
      "Close -0.7366365776764944 proverbs\n",
      "Close -0.614864818464966 addlepated\n",
      "Close -0.5911869096868527 septum\n",
      "Close -0.5459193059956473 ヽ\n",
      "Close -0.538375631212161 pagano's\n",
      "Close -0.5225480071446668 ʖ\n",
      "Close -0.5206434806763558 kat\n",
      "Close -0.5171707112241234 dissonance\n",
      "Close -0.4888377564302402 fortnight\n",
      "Close -0.4732244681743223 lisa's\n",
      "Close -0.4716387420594738 ving\n",
      "Close -0.4600918957868638 truf\n",
      "Close -0.4541646346885054 gano's\n",
      "Close -0.45134385673988614 alualu\n",
      "Close -0.445996111603729 wendell\n",
      "\n",
      "Not close 0.9332597276422983 suckle\n",
      "Not close 0.5798348489428313 cbssports\n",
      "Not close 0.5741131387170613 blossoms\n",
      "Not close 0.5324130041259257 mcaddo\n",
      "Not close 0.5309113250049071 plagued\n",
      "Not close 0.503585671806284 mcfucked\n",
      "Not close 0.489717435230355 selena\n",
      "Not close 0.47978378401792204 recruits\n",
      "Not close 0.47950918613171506 try-hard\n",
      "Not close 0.47247821562318587 wilfs\n",
      "Not close 0.4616409902542392 panting\n",
      "Not close 0.4549402007637534 mmmphmmgofgpsngfjg\n",
      "Not close 0.44897514957153245 smithfest\n",
      "Not close 0.44682729179213404 sorrow\n",
      "Not close 0.44587513960426867 unified\n"
     ]
    }
   ],
   "source": [
    "# Get most informative features\n",
    "most_informative_features_top_and_bottom(vectorizer=vectorizer, classifier=lr2, binary=False, n=15)"
   ]
  },
  {
   "cell_type": "markdown",
   "metadata": {},
   "source": [
    "### Lasso Regression"
   ]
  },
  {
   "cell_type": "code",
   "execution_count": 377,
   "metadata": {
    "scrolled": true
   },
   "outputs": [
    {
     "data": {
      "text/plain": [
       "Lasso(alpha=0.0002, copy_X=True, fit_intercept=True, max_iter=1000,\n",
       "   normalize=False, positive=False, precompute=False, random_state=None,\n",
       "   selection='cyclic', tol=0.0001, warm_start=False)"
      ]
     },
     "execution_count": 377,
     "metadata": {},
     "output_type": "execute_result"
    }
   ],
   "source": [
    "lasso2 = Lasso(alpha=0.0002)\n",
    "lasso2.fit(train_data, train_labels)"
   ]
  },
  {
   "cell_type": "code",
   "execution_count": 378,
   "metadata": {
    "scrolled": true
   },
   "outputs": [
    {
     "name": "stdout",
     "output_type": "stream",
     "text": [
      "Training set score: 0.02\n",
      "Test set score: 0.02\n",
      "Number of features used: 84\n"
     ]
    }
   ],
   "source": [
    "#Create predictions and evaluate\n",
    "pred_labels = lasso2.predict(test_data)\n",
    "print(\"Training set score: {:.2f}\".format(lasso2.score(train_data, train_labels)))\n",
    "print(\"Test set score: {:.2f}\".format(lasso2.score(test_data, test_labels)))\n",
    "print(\"Number of features used: {}\".format(np.sum(lasso2.coef_ != 0)))"
   ]
  },
  {
   "cell_type": "code",
   "execution_count": 380,
   "metadata": {
    "scrolled": false
   },
   "outputs": [
    {
     "name": "stdout",
     "output_type": "stream",
     "text": [
      "Close -0.06674596344399168 jags\n",
      "Close -0.04973600300560194 watson\n",
      "Close -0.04252400099732609 penalties\n",
      "Close -0.038285407070360454 bortles\n",
      "Close -0.0331451635148278 penalty\n",
      "Close -0.033133304649292705 gronk\n",
      "Close -0.02724073141586378 shazier\n",
      "Close -0.023198475552050065 flag\n",
      "Close -0.021524735007958106 bengals\n",
      "Close -0.020814819589663643 smith\n",
      "Close -0.01903731116145075 refs\n",
      "Close -0.015621098236632045 tackle\n",
      "Close -0.014798256861607169 drive\n",
      "Close -0.01300520317597305 commercial\n",
      "Close -0.012922063891162138 flags\n",
      "\n",
      "Not close 0.25772776639078987 glennon\n",
      "Not close 0.22660532698518207 fog\n",
      "Not close 0.22053361404586766 bears\n",
      "Not close 0.11358554126934853 gg\n",
      "Not close 0.09640465547550058 packers\n",
      "Not close 0.0765417807928123 adams\n",
      "Not close 0.07027087730101018 fumble\n",
      "Not close 0.05628949890659012 trevathan\n",
      "Not close 0.0429045972172904 giants\n",
      "Not close 0.03403063132963827 mcadoo\n",
      "Not close 0.03178761742048484 broncos\n",
      "Not close 0.030474281283239906 rodgers\n",
      "Not close 0.02772933146181787 team\n",
      "Not close 0.02750728097902267 angle\n",
      "Not close 0.024570735800580532 game\n"
     ]
    }
   ],
   "source": [
    "# Get most informative features\n",
    "most_informative_features_top_and_bottom(vectorizer=vectorizer, classifier=lasso2, binary=False, n=15)"
   ]
  },
  {
   "cell_type": "markdown",
   "metadata": {},
   "source": [
    "### Ridge Regression"
   ]
  },
  {
   "cell_type": "code",
   "execution_count": 381,
   "metadata": {},
   "outputs": [
    {
     "data": {
      "text/plain": [
       "Ridge(alpha=5, copy_X=True, fit_intercept=True, max_iter=None,\n",
       "   normalize=False, random_state=None, solver='auto', tol=0.001)"
      ]
     },
     "execution_count": 381,
     "metadata": {},
     "output_type": "execute_result"
    }
   ],
   "source": [
    "rdg2 = Ridge(alpha=5)\n",
    "rdg2.fit(train_data, train_labels)"
   ]
  },
  {
   "cell_type": "code",
   "execution_count": 382,
   "metadata": {
    "scrolled": true
   },
   "outputs": [
    {
     "name": "stdout",
     "output_type": "stream",
     "text": [
      "Training set score: 0.11\n",
      "Test set score: 0.06\n"
     ]
    }
   ],
   "source": [
    "#Create predictions and evaluate\n",
    "pred_labels = rdg2.predict(test_data)\n",
    "print(\"Training set score: {:.2f}\".format(rdg2.score(train_data, train_labels)))\n",
    "print(\"Test set score: {:.2f}\".format(rdg2.score(test_data, test_labels)))"
   ]
  },
  {
   "cell_type": "code",
   "execution_count": 383,
   "metadata": {
    "scrolled": false
   },
   "outputs": [
    {
     "name": "stdout",
     "output_type": "stream",
     "text": [
      "Close -0.3341167494480762 clowney\n",
      "Close -0.33140581288740717 jurassic\n",
      "Close -0.3083753478676579 jeter\n",
      "Close -0.2889167086397757 mathieu\n",
      "Close -0.27949676093862186 devey\n",
      "Close -0.27526790450294114 usain\n",
      "Close -0.2746238409376355 edp\n",
      "Close -0.2707520313300666 bersin\n",
      "Close -0.26949341370534247 veldheer\n",
      "Close -0.2692300694737256 goldblum\n",
      "Close -0.26899796103714735 ving\n",
      "Close -0.2670117153388828 ldt\n",
      "Close -0.26562120432521164 starz\n",
      "Close -0.2605673264945358 eifert\n",
      "Close -0.2594601713360077 morrow\n",
      "\n",
      "Not close 0.33960576417701027 fog\n",
      "Not close 0.328571699447289 paxton\n",
      "Not close 0.32750834280102536 trevathan\n",
      "Not close 0.3190048143851692 pouncey\n",
      "Not close 0.3058202724304288 shutouts\n",
      "Not close 0.30378279395387053 semen\n",
      "Not close 0.3014319009686111 gamblers\n",
      "Not close 0.29704882022425944 shutout\n",
      "Not close 0.29595901330127494 travathan\n",
      "Not close 0.2854799527746833 glennon\n",
      "Not close 0.2833101852699645 bellamy\n",
      "Not close 0.2791215291909904 siemian\n",
      "Not close 0.2784716481623642 trevethan\n",
      "Not close 0.2757958518730627 joystick\n",
      "Not close 0.2731498091999121 laterals\n"
     ]
    }
   ],
   "source": [
    "# Get most informative features\n",
    "most_informative_features_top_and_bottom(vectorizer=vectorizer, classifier=rdg2, binary=False, n=15)"
   ]
  },
  {
   "cell_type": "markdown",
   "metadata": {},
   "source": [
    "### ElasticNet Regression"
   ]
  },
  {
   "cell_type": "code",
   "execution_count": 384,
   "metadata": {
    "scrolled": false
   },
   "outputs": [
    {
     "data": {
      "text/plain": [
       "ElasticNet(alpha=0.0001, copy_X=True, fit_intercept=True, l1_ratio=0.25,\n",
       "      max_iter=1000, normalize=False, positive=False, precompute=False,\n",
       "      random_state=None, selection='cyclic', tol=0.0001, warm_start=False)"
      ]
     },
     "execution_count": 384,
     "metadata": {},
     "output_type": "execute_result"
    }
   ],
   "source": [
    "elnet2 = ElasticNet(alpha=0.0001, l1_ratio=0.25)\n",
    "elnet2.fit(train_data, train_labels)"
   ]
  },
  {
   "cell_type": "code",
   "execution_count": 386,
   "metadata": {
    "scrolled": false
   },
   "outputs": [
    {
     "name": "stdout",
     "output_type": "stream",
     "text": [
      "Training set score: 0.05\n",
      "Test set score: 0.05\n",
      "Number of features used: 1020\n"
     ]
    }
   ],
   "source": [
    "#Create predictions and evaluate\n",
    "pred_labels = elnet2.predict(test_data)\n",
    "print(\"Training set score: {:.2f}\".format(elnet2.score(train_data, train_labels)))\n",
    "print(\"Test set score: {:.2f}\".format(elnet2.score(test_data, test_labels)))\n",
    "print(\"Number of features used: {}\".format(np.sum(elnet2.coef_ != 0)))"
   ]
  },
  {
   "cell_type": "code",
   "execution_count": 388,
   "metadata": {
    "scrolled": false
   },
   "outputs": [
    {
     "name": "stdout",
     "output_type": "stream",
     "text": [
      "Close -0.18979554861383502 ebron\n",
      "Close -0.18629209234691022 vernon\n",
      "Close -0.17537641871499493 clowney\n",
      "Close -0.16389916615075623 kamara\n",
      "Close -0.15190543687109095 watson\n",
      "Close -0.1420085719023058 lattimore\n",
      "Close -0.13344412881758297 larry\n",
      "Close -0.13082635907461526 shazier\n",
      "Close -0.128307898715521 foles\n",
      "Close -0.12609283939487415 intro\n",
      "Close -0.12390320499273695 carrie\n",
      "Close -0.1168952546123918 legs\n",
      "Close -0.11248513106204548 deuce\n",
      "Close -0.10470155206766742 computer\n",
      "Close -0.10306873347352419 texans\n",
      "\n",
      "Not close 0.3200363972504439 fog\n",
      "Not close 0.2888201484358086 glennon\n",
      "Not close 0.2787606782216231 trevathan\n",
      "Not close 0.2395484474181883 siemian\n",
      "Not close 0.22729796566245736 bears\n",
      "Not close 0.2074052216930885 achilles\n",
      "Not close 0.20241284659580414 gg\n",
      "Not close 0.18913033440652097 onside\n",
      "Not close 0.17930686718319125 lightning\n",
      "Not close 0.17702003217967155 trubisky\n",
      "Not close 0.16691590432879885 thumbs\n",
      "Not close 0.16369004359667322 adams\n",
      "Not close 0.1579198513780052 shutout\n",
      "Not close 0.15300226786166177 marshall\n",
      "Not close 0.15253443050171947 semen\n"
     ]
    }
   ],
   "source": [
    "# Get most informative features\n",
    "most_informative_features_top_and_bottom(vectorizer=vectorizer, classifier=elnet2, binary=False, n=15)"
   ]
  },
  {
   "cell_type": "code",
   "execution_count": 394,
   "metadata": {},
   "outputs": [
    {
     "name": "stdout",
     "output_type": "stream",
     "text": [
      "[jersey goals](https://i.ebayimg.com/images/g/9ncAAOxyGqZSWoeL/s-l300.jpg)\n",
      "['[', 'jersey', 'goals', ']', '(', 'postedhyperlinkvalue', ')']\n"
     ]
    }
   ],
   "source": [
    "print(comment_list[0])\n",
    "print(x_tokens[0])"
   ]
  },
  {
   "cell_type": "code",
   "execution_count": 409,
   "metadata": {
    "scrolled": true
   },
   "outputs": [
    {
     "name": "stdout",
     "output_type": "stream",
     "text": [
      "48330 :  Yep that's why Nick Foles is the best QB ever\n",
      "\n",
      "And awards aren't perfect... otherwise Bill Belichick would win coach of the year every single year. People vote for the hot shiny new object.\n",
      "51732 :  Wentz\n",
      "Kirk\n",
      "Eli\n",
      "Foles\n",
      "Dak\n",
      "\n",
      "did i get this right?\n",
      "51737 :  Foles > Dak\n",
      "51768 :  Wentz, Cousins, Eli, Foles, Dak.\n",
      "\n",
      "NFC East QBs in order\n",
      "51866 :  7TD in a game Foles\n",
      "53573 :  ...Nick Foles is 4th, right?\n",
      "53588 :  Time to stop cherry picking stats Cowboys fans. Your quarterback is a mediocre game manager who can't win games without an elite cast. At least Foles still took shots down the field in his decline. He's not quite an Alex Smith ceiling, but not quite an Osweiler floor.\n",
      "53687 :  Seriously Cowboys should give us a 3rd for Foles at the end of the season.  He's absolutely better than Dak.\n",
      "53696 :  I was thinking Tress way, the redskins punter who has a 100% career completion rating, but with Rush and Foles it’s safe to say Dak is 7th \n",
      "53848 :  Let me put it like this, I wouldn't take Dak to replace Nick Foles as our backup.\n",
      "54064 :  The thoughts of Foles in a boys jersey makes me sad. Whyd you make me sad?\n",
      "54171 :  Who else remembers when we all said Dak failed the eye test even more than Foles did and got shit on for it? Dude is a fucking terrible QB\n",
      "54175 :  Dak or Foles for second best QB in the NFCE?\n",
      "54393 :  Cold blooded to ignore Kirk like that, but foles is a solid #3\n",
      "54448 :  Foles is a starting quality QB in this league.  The league will find out next year, wherever he ends up.\n",
      "\n",
      "A qb looking bad  with Jeff Fisher doesn't mean he's bad.\n",
      "54773 :  It's also hard to evaluate any QB when they have the best weapons, o-line, and run game in football. The league saw that with Foles, so I was pretty confused as to why Dallas bought in so quickly on Dak. He needed to face more adversity\n",
      "55422 :  That would be funny but let's face it, Foles is better\n",
      "55810 :  They quickly forget about the Foles hype \n",
      "110133 :  Thats what they call a Nick Foles touchdown.\n",
      "110317 :  lol Smith already matched his 2016 TD total.\n",
      "\n",
      "Goddamn, 15. And in the meantime, Nick Foles is a backup (somehow) with a higher QBR.\n",
      "123815 :  Fuck it would be so great if Dak went the way of Nick Foles. \n",
      "123918 :  Nick Foles after his record-setting year bad\n",
      "126021 :  Well I guess the argument of wentz vs dak will shift to wentz vs goff the way this season is going.\n",
      "\n",
      "It's not that Dak is bad, he's just not special at all. Foles went 27-2, got figured out, and he's a backup now... \n",
      "126993 :  Foles 2.0\n",
      "138692 :  Nick Foles > Dak Prescott\n",
      "138700 :  Nick Foles is up next for you guys, plenty of time for blowouts\n",
      "\n",
      "Crush Dallas' playoff hopes is the Raiders job now\n",
      "138712 :  Has Dak ever thrown 7 TDs against the Raiders?\n",
      "\n",
      "If he doesnt tonight, well, Foles is clearly better\n",
      "138729 :  No. \n",
      "\n",
      "\n",
      "Nick Foles > Dak Prescott\n",
      "138789 :  keep tuggin it to probowl accolades. Nick 'Inevitable Pick' Foles will soon show his face\n",
      "139457 :  Foles > Dak\n",
      "139501 :  Foles > Dak?\n",
      "139550 :  Foles > Prescott \n",
      "\n",
      "\n",
      "\n",
      "140016 :  I'd be nervous too...shoulda gone with Saint Nick Foles\n",
      "140114 :  Should have started Foles.\n",
      "140721 :  And we have to do it again against the Eagles next Monday night. Foles is going to put 8 TDs up on us and get the record. \n",
      "143052 :  I'm not ready for Nick Foles to get 7 touchdowns against us again next Monday on Christmas\n",
      "143914 :  Foles>Dak\n",
      "144003 :  Foles low key better than Dak\n",
      "144023 :  Nick Foles > Dak Prescott \n",
      "144113 :  Foles throws 4TD/0INT, Dak goes 0TD/4INT?\n",
      "144218 :  Foles \n",
      "145085 :  Carson Wentz loses an ACL, scores TD pass 4 plays later.\n",
      "\n",
      "The Eagles Lose Carson Wentz, Nick Foles throws 3 TD passes in the first half of his first start.\n",
      "\n",
      "Dak Prescott loses Zeke, doesn’t throw a TD pass in 3 games.\n",
      "145559 :  Foles > Dak\n",
      "145623 :  Last time Foles played the Raiders he had 7 TDs by this point\n",
      "146102 :  With how the Eagles played today and the fact that Foles is in now, I would not be surprised if the Raiders sneaked in.  \n",
      "I don't think it'll happen, but I think it's possible.\n",
      "146133 :  \"Now that Foles is in\" do you not know the legend.\n",
      "146143 :  It's possible.  Just like people who say the Eagles can win the superbowl with Foles.  Its possible.  \n",
      "146360 :  It's kinda interesting how the Eagles lost Wentz, and yet Nick Foles threw 4 TD's. Hmmm....\n",
      "146447 :  Maybe Nick Foles isn't a bad QB 🤔\n",
      "146760 :  People comparing Foles performance against the Giants to this from Dak.\n",
      "\n",
      "Against the Giants, Foles went --24-38, 237 Yds, 4 TD, 115.8 QB rating\n",
      "\n",
      "Dak against the Giants went - 20-30, 332 yds, 3 TD, 137.1 QB rating\n",
      "\n",
      "Basically the Giants are really bad. Let's maybe wait a week to crown Foles.\n",
      "\n",
      "\n",
      "146760 :  People comparing Foles performance against the Giants to this from Dak.\n",
      "\n",
      "Against the Giants, Foles went --24-38, 237 Yds, 4 TD, 115.8 QB rating\n",
      "\n",
      "Dak against the Giants went - 20-30, 332 yds, 3 TD, 137.1 QB rating\n",
      "\n",
      "Basically the Giants are really bad. Let's maybe wait a week to crown Foles.\n",
      "\n",
      "\n",
      "146760 :  People comparing Foles performance against the Giants to this from Dak.\n",
      "\n",
      "Against the Giants, Foles went --24-38, 237 Yds, 4 TD, 115.8 QB rating\n",
      "\n",
      "Dak against the Giants went - 20-30, 332 yds, 3 TD, 137.1 QB rating\n",
      "\n",
      "Basically the Giants are really bad. Let's maybe wait a week to crown Foles.\n",
      "\n",
      "\n",
      "146817 :  Nick Foles against the Raiders: 7 TDs and no INTs.  \n",
      "How’s Dak doing?\n",
      "152076 :  Sodium levels at an all time high. By the way, Foles totally outplayed Dak this week. Just like Wentz did all year.\n",
      "159415 :  Forgot Foles is back on the Eagles. Been a lotta retreads in the league recently. \n",
      "159647 :  yup, foles is our backup this year...\n",
      "159708 :  **FOLES IS BACK ON THE EAGLES!!!**\n",
      "163447 :  Morelli should understand and accept it if it was Foles, considering the size of his D\n",
      "167045 :  Was that Nick Foles?\n",
      "167123 :  Yes nick foles is back on the Eagles.\n",
      "167188 :  Was that NFL single game TD record  holder Nick Foles  on  the sideline?\n",
      "167333 :  Nick Foles - the futute Eagles head coach.\n",
      "\n",
      "Just like Pederson was a back up QB for McNabb.\n",
      "167398 :  Me: \"man that looks Nick Foles on the sideline that's weird who is that?\"\n",
      "\n",
      "*Looks it up*\n",
      "\n",
      "\"Oh they brought back Foles to be backup? Lol\"\n",
      "167398 :  Me: \"man that looks Nick Foles on the sideline that's weird who is that?\"\n",
      "\n",
      "*Looks it up*\n",
      "\n",
      "\"Oh they brought back Foles to be backup? Lol\"\n",
      "167611 :  Wentz gets sidelined for 1 game\n",
      "\n",
      "Foles throws for 700 yards and 8 TDs\n",
      "174773 :  foles sighting\n",
      "174898 :  Foles and yup.\n",
      "180183 :  Next Monday night, tune in to watch Nick Foles throw 14 TDs\n",
      "186598 :  I hope Foles tears the Patriots up in the Superbowl\n",
      "241932 :  Gg, Patriots vs Eagles superbowl, god damn Nick foles save us\n",
      "242963 :  Altered Carson - is that a Foles?\n",
      "243050 :  He's gonna shove his thumbs through foles eyesockets\n",
      "243853 :  > the nfc championship is more up in the air.\n",
      "\n",
      "With Foles?  I'd say Eagles have about as good of a chance as Jags do.  \n",
      "244793 :  I get the Bortles and Foles dumping.. but cmon give Keemun some freaking credit\n",
      "245142 :  Blake “Nick “Run Pass Option” Foles” Bortles\n",
      "246774 :  **MEME BOWL MEME BOWL MEME BOWL FOLES VS BORTLES FOLES VS BORTLES FOLES VS BORTLES**\n",
      "246774 :  **MEME BOWL MEME BOWL MEME BOWL FOLES VS BORTLES FOLES VS BORTLES FOLES VS BORTLES**\n",
      "246774 :  **MEME BOWL MEME BOWL MEME BOWL FOLES VS BORTLES FOLES VS BORTLES FOLES VS BORTLES**\n",
      "248399 :  Probably the eagles, The statue known as Nick Foles doesn't inspire a ton of confidence vs the Defense.\n",
      "248607 :  Eagles\n",
      "\n",
      "Foles seems easier to stop than Keenum\n",
      "249281 :  I need a Blake Bortles-Nick Foles super bowl and I need it now god dammit \n",
      "250359 :  Nor would I. My dad was an Eagles fan, would love a Jags/Eagles Bortles vs Foles Super Bowl lol. \n",
      "252231 :  We are very close to a bortles - keenum/foles superbowl. \n",
      "\n",
      "Wtf. \n",
      "252641 :  Those wailing airhorns you hear in the distance are signalling the approach of a **FOLES VS. BORTLES MEME BOWL.**\n",
      "252875 :  Just the thought of a Bortles vs Keenum/Foles Super Bowl is incredible. Pls Jags pls\n",
      "254664 :  They'll have done their duty for the NFL if they win today.\n",
      "\n",
      "That said let's not pretend like their D can't shut down those offenses. I think they'd struggle mightily against Wentz but Foles hasn't racked up the points, and my Packers made the Vikings look awful on offense in week 16.\n",
      "255199 :  Broncos defense in 2015 went from just a pretty good squad to legendary D by winning the Superbowl. Jags need to do that to be remembered as an all-time squad, no one is going to forgive losing to Keenum or Foles (assuming they get there of course). \n",
      "255896 :  It'd be cool for Foles, but Wentz did most of the work this season while Keenum surprised everyone. That's why I'm hoping Bortles/Keenum.\n",
      "256770 :  Ill be down with a Bortles vs Keenum/Foles SB.\n",
      "257420 :  Foles won't play JAX if the Eagles are slapped by the Vikings \n",
      "257451 :  Vikings gonna take Foles home in baggage or something?\n",
      "257592 :  if the vikes beat philly foles won't play jax\n",
      "259233 :  Did you know that Nick Foles once threw 7 touchdowns in 3 quarters of NFL football?\n",
      "264545 :  Honestly, I don’t want to be that guy but Jacksonville has to decisively beat the Patriots and be the better team today, because the refs will do everything they can to make sure NE wins. Last thing the Shield wants is a JAX vs MIN/Nick Foles led Eagles Super Bowl. \n",
      "265631 :  I was talking about the other penalty you salty fuck. Atleast we didn't blow the superbowl then lose to fucking Nick Foles \n",
      "268953 :  Hoyer vs Bortles and Foles vs Keenum, the championship matchups we all saw coming.\n",
      "270988 :  BORTLES, KEENUM, AND FOLES BABY! FUCK LEGACY QBS.\n",
      "271154 :  But then you get a Blake Bortles - Nick Foles Super Bowl, which the NFL does *not* love.\n",
      "271816 :  bortles vs foles? its bad for ratings\n",
      "273688 :  Foles will have to die in the super bowl to beat him \n",
      "275463 :  I mean he's definitely not top 5, nor top 10 I could see him sneaking in above average (Big Ben, Eli, Brady, Rivers, wilson, Brees, Ryan, Keenum, Wentz, smith, flacco garappolo and foles are better in no particular order makes 14, maybe bortles at 15-19 idk) so he's average to below average I'd say.\n",
      "276507 :  Blake Bortles could start a Super Bowl against Case Keenum or Nick Foles. Christ Almighty.\n",
      "277089 :  **MEME BOWL TAKE MY ENEGRY. FOLES VS. BORTLES.**\n",
      "277266 :  This year just gets more and more depressing... had Wentz not gotten hurt, we'd have a shot at winning it all but nope now we have to watch Foles blunder around vs Minnesota \n",
      "282329 :  If Jags make Super Bowl, does that change the way GMs think dramatically? \n",
      "\n",
      "Vikings (Keenum)\n",
      "Jags (Bortles, who has a huge parody account on Twitter about how bad he is)\n",
      "Eagles (Foles)\n",
      "\n",
      "They all have super, dominant defenses\n",
      "286666 :  A Bortles vs. Foles/Keenum SB would have advertisers jumping off bridges. One more reason to root for it\n",
      "287372 :  Bortles v Foles in the SB is truly the memest timeline\n",
      "287977 :  Game was pretty well officiated at the start until Roger called in and realized what kind of ratings he'd get for a Bortles v Foles/Keenum super bowl \n",
      "294274 :  Foles is a hall of famer, thank you very much. \n",
      "295487 :  There was no way they were gonna let foles vs bortles headline the superbowl\n",
      "295541 :  come on jags.\n",
      "\n",
      "do this. \n",
      "\n",
      "make the meme bowl\n",
      "\n",
      "bortles v keenum/foles\n",
      "297315 :  The world rests on... Foles, Keenum, or Bortles against Brady.\n",
      "\n",
      "Jesus fuck...\n",
      "299550 :  Bortles is so bad. Bortles is the worst gb in this playoff, I would rather have Foles or Taylor\n",
      "300251 :  Goddammit it.  Up to you now Keenum/Foles.\n",
      "300485 :  Belichick vs Keenum / Foles? I wonder what will happen. Jags need a real QB \n",
      "300816 :  The NFL let the refs know at half that they can’t have the Super Bowl be Bortles against Keenum/Foles.\n",
      "302395 :  Vikings, yes. Eagles with Wentz, yes. Eagles with Foles, at best, ends similarly to this.\n",
      "\n",
      "Edit: whoa. I'm eating crow.\n",
      "302444 :  I'm terrified of the Vikings, just like how I was with the Jags. The Eagles could go either way depending on how Foles plays\n",
      "304551 :  Eagles. The Vikings would have a home playoff game in the Superbowl and I think their D is better than the Eagles. That and I think Case can put the team on his back and I don't think Foles can. \n",
      "305004 :  > Foles isn’t much better so let’s go Vikings.\n",
      "\n",
      "Right on cue, Case Keenum throws a pick-6\n",
      "305482 :  Hah mine was the other way around... Always assume the pats will scrape it out somehow but nothing could have prepared me for a non-choking god mode Nick Foles lol\n",
      "361373 :  Because Foles is the truth\n",
      "361418 :  Nick Foles is going to be your Jeff Hostetler\n",
      "362005 :  I'm actually sorry though.  I hope Nick Foles can step in and do well.\n",
      "364166 :  Nicky Foles\n",
      "369426 :  It's ok bud. Your team isn't a one player show. You'll do just fine with Foles.\n",
      "370948 :  So you're completely discounting Nick Foles?\n",
      "373766 :  Josh Hamilton won AL MVP in 2011 despite missing a lot of time with a broken arm, could Carson Wentz still win MVP if Wilson and Brady keep playing poorly?\n",
      "\n",
      "It's a dumb question since Wilson and Brady are going to bounce back, and the Eagles have a great O-Line, defense, and running game so they'll probably be a .500 team with Foles, but its fun to think about and I'm bored. \n",
      "375243 :  I don't see it this year. This feels like 2013 did with Seattle and San Fran and I think Green Bay. These teams are legit.\n",
      "\n",
      "And I still think you guys have a shot. Foles is no scrub\n",
      "376767 :  Thanks man, I've been telling myself that he's shown moments of greatness and this may be the best surrounding cast he's had. I've been weirdly optimistic. But still, if Foles some how leads the Eagles to the superbowl and it's against the Pats, holy fuck, I don't think I'll remember watching the game cause I'll be drinking so much cause of nerves. Losing to you guys twice would sting so bad.\n",
      "377635 :  Good day, brother. Can you spare a few moments to talk about our Lord and Savior, Nick Foles? \n",
      "377712 :  I'm going to be annoyed when people place the Vikings ahead of us.  Foles is better than Keenum and we have a good chance vs Vikes if we secure homefield advantage.\n",
      "\n",
      "377738 :  Keenum is better than Foles by a large margin. We should've been ahead of you guys on the power rankings for weeks now.\n",
      "377740 :  Yes clearly, with his worse career win percentage and overall worse career stats.  \n",
      "\n",
      "Keenum: 42 TD's 27 Ints, 84.5 Passer rating, 17-18-0 As starter\n",
      "\n",
      "Foles: 56 TD's 27 Ints, 88.1 Passer Rating, 20-16-0 As a starter\n",
      "\n",
      "\n",
      "How should Minnesota have been above a team that had a better record and frankly looks better?  We beat Carolina in Carolina.  You lost.  Until you beat someone we lose to, or you have a better record.  We are the better team.\n",
      "\n",
      "\n",
      "Sorry friend you're a homer.\n",
      "377755 :  > \n",
      "> How should Minnesota have been above a team that had a better record \n",
      "\n",
      "You guys looked good beating up the Giants and Redskins. Anyone can do that. You had *one* more win than us for most of the season, because we played against teams like the Steelers while you were warming up with the 49ers and Broncos. \n",
      "\n",
      "Carolina is the *only* game you have on us. Our losses are to the Steelers and a strong divisional rival (Lions). Yours are to KC (the team that took a nail-biter 9-6 OT win against the Giants, real all-star squad there) and the Seahawks, who do get spooky in December so that's not points against you. \n",
      "\n",
      "There can be an argument for Eagles being above Vikings in power rankings, I accept that. Power rankings mean nothing, and teams move up above us when we beat them, so whatever. But to try and argue that Foles, right now, is a better QB than Keenum, right now...well, it's hilarious for you to make that argument and call *me* a homer. \n",
      "377759 :  We lost to Kansas on the road back when they looked unstoppable.  \n",
      "\n",
      "You lost a home game to an average Lions team, that would be like me bragging about us beating the Cowboys.\n",
      "We lost no home games.  We're 4-2 against teams with a winning record and every single game has been on the road.  \n",
      "\n",
      "Foles had an amazing nearly MVP season 4 years ago and then got Jeff Fishered just like Case Keenum.  All the stats suggest Foles is a better QB and if you've seen him in the three of four times he's been in this season he's legit.  Doubt him at your peril, because there is a really good chance you have to come to our place and try and beat him in the NFCCG and I don't fancy your chances.\n",
      "377759 :  We lost to Kansas on the road back when they looked unstoppable.  \n",
      "\n",
      "You lost a home game to an average Lions team, that would be like me bragging about us beating the Cowboys.\n",
      "We lost no home games.  We're 4-2 against teams with a winning record and every single game has been on the road.  \n",
      "\n",
      "Foles had an amazing nearly MVP season 4 years ago and then got Jeff Fishered just like Case Keenum.  All the stats suggest Foles is a better QB and if you've seen him in the three of four times he's been in this season he's legit.  Doubt him at your peril, because there is a really good chance you have to come to our place and try and beat him in the NFCCG and I don't fancy your chances.\n",
      "377763 :  > We're 4-2 against teams with a winning record \n",
      "\n",
      "Only because some of the shit teams you beat finally got above .500 this week. That's not something to be bragging about. \n",
      "\n",
      "Keenum has been the NFC Player of the Week not long ago, and with Wentz out he's frankly the best looking QB in the NFC right now. Foles hasn't done anything but warm up the pine for a few years. \n",
      "\n",
      "I really hope you guys don't choke too soon here, the only way to placate people like you would be kicking you out of the playoffs. But I'm just guessing here, when that happens you'll probably blame the refs. \n",
      "377774 :  If you wanna look at something like QBR, then a WR is the best QB in the league. \n",
      "\n",
      "Stats aside, how many times this season has Foles been the NFC Offensive Player of the Week? How many games has Foles won this year? \n",
      "377774 :  If you wanna look at something like QBR, then a WR is the best QB in the league. \n",
      "\n",
      "Stats aside, how many times this season has Foles been the NFC Offensive Player of the Week? How many games has Foles won this year? \n",
      "377775 :  You seem to be ignoring my question.  If you're wrong.  Will you admit it?\n",
      "\n",
      "Foles has won Offensive player of the Week every single game he's started this season.  He's also played in 4 games and won all 4, so he's 100% this season.  Look cherry pick all you want and I'll do the same.  We both have stats that suggest our QB is better.  I'm asking you to wait and see and then have some backbone IF you're wrong and  admit it.\n",
      "377836 :  I'm so glad Foles came home.\n",
      "377852 :  7 TD's by Foles confirmed.\n",
      "377878 :  If Nick Foles plays well, that's a huge credit to Doug's system. \n",
      "377887 :  *Gruden*: Carson Wentz, I'll tell ya what man. I love this guys game. I like to call him Carson Cents because when he's on the field, he's dropping dimes. If you blitz him, he's turning into Carson Rents, because he's making these defenses pay the price\n",
      "\n",
      "*Sean*: Erm, Jon...Wentz's not gonna be playing tonight..\n",
      "\n",
      "*Gruden*: Boy, let me tell you about this Nick Foles guy..\n",
      "377890 :  Where’s the Nick Foles walking through cannons animated gif like the Julio one????\n",
      "377902 :  If Nick Foles plays well, there will be questions raised about Wentz being a system QB\n",
      "377916 :  Foles already went 4 TD 0 INT last game. You tell me.\n",
      "377918 :  Given the last time Foles played the raiders on the Eagles he threw 7 TDs, I don't think so.\n",
      "377925 :  This is most likely going to be the last year I spend Christmas with my family. Tomorrow I have to go down to the courthouse and get some divorce papers. My only hope is that Foles comes to play tonight and throw 8 TDs to break his personal best against the Raiders. Go birds!\n",
      "377927 :  I need 15 points from Foles to win my fantasy league, pls. Go Eagles!\n",
      "377939 :  I just feel lucky to share the same planet with Nick Foles.\n",
      "377964 :  I’m impressed nick foles throwing motion isn’t impeded by his massive penis\n",
      "377976 :  Foles is good enough for the offense but this defense needs to step the fuck up\n",
      "378005 :  I need Foles Ertz Elliot and our D to score 24 points combined\n",
      "\n",
      "Why yes i am a homer, it also worked this year, finally \n",
      "378007 :  Yes unfortunately I need Foles, Ertz, and Elliot to have big games.\n",
      "378011 :  Thought we were already introduced to Nick Foles numerous times.\n",
      "378016 :  If Nick Foles plays well, then I think the Dak vs. Wentz debate can be revisited. Dak is trying to carry his team, while Wentz is a product of his environment.\n",
      "378025 :  Need 25 from foles for the same. Go eagles!\n",
      "378045 :  Or maybe dak is just worse than Foles too.\n",
      "378059 :  Foles about to throw more TDs than Boffa.\n",
      "378060 :  Fisher almost ruined Foles? Color me shocked\n",
      "378063 :  Jeff Fisher killed Foles love for the game.\n",
      "378065 :  show em you can still ball foles\n",
      "378072 :  If Nick Foles plays well I'm willing to debate Dak vs Foles\n",
      "378072 :  If Nick Foles plays well I'm willing to debate Dak vs Foles\n",
      "378075 :  Foles got Fischere'd and we all know it\n",
      "378084 :  Mostly cause my opponent has Jeffery. I have Jake Elliot and am up by 30. But I have a feeling Foles might throw 7\n",
      "378093 :   I have a lot of respect for Foles as a QB after viewing that segment on how he left football but came back to it after 8 months. That takes courage— I wish him well in the games to come\n",
      "378181 :  LARGE POLE FOLES LETS GOOO\n",
      "378189 :  Just for today, can we please call him St Nick Foles? Please?!\n",
      "378194 :  Nick Foles looks like a full sized Mini-Me\n",
      "378205 :  Nick Foles testing the refs on play 1\n",
      "378207 :  Great color correction on that eagles jersey in the nick foles profile guys. \n",
      "378256 :  wew foles\n",
      "378258 :  Foles GOAT\n",
      "378340 :  are you enjoy christmas foles\n",
      "378421 :  Getting Foles some more time with the team before playoffs I'd think.\n",
      "378537 :  I'm excited to watch big dick foles for the first time in years\n",
      "378554 :  Getting homefield advantage would probably help Foles a lot.\n",
      "378569 :  Foles scared the shit out of me with the deep pumpfake \n",
      "378602 :  I'm not trying to shit on the Raiders but it feels like the Eagles could just feed their RB's all game and run a few PA's with Foles and comfortably maintain a lead\n",
      "378611 :  Mack scares me.  Petersen needs to keep Foles alive.\n",
      "378648 :  If only i played jimmy g over foles :(\n",
      "378682 :   We will have to see Foles beat a good team in the playoffs first. I think he can but I also think it's a good bit less likely than if Wentz was still out there.\n",
      "378699 :  The plan is to run the ball to the 10 so Foles can put up 8 TDs on short passes and avoid potential interceptions.\n",
      "378839 :  Fill them holes, Nick Foles? \n",
      "378850 :  Fuck me, Foles look sharp. Better than Keenum looked saturday actually. I hate the post season stress.\n",
      "378887 :  Nick Foles just handed the ball off all drive long but he gets the 1 TD credit lol\n",
      "378910 :  lol, the only throw of the game from foles is a touchdown \n",
      "378935 :  Nick “The Pole” Foles\n",
      "378977 :  i like that we're sticking to the ground game here but how is foles supposed to get 8 TD passes that way?\n",
      "378990 :  Eagles can win through their running game. foles doesn't have to do too much \n",
      "379061 :  Nick Foles is a great franchise QB for the Eagles. Carson Wentz isn't really needed anymore, so I think the smart move for the Eagles is to trade Carson Wentz to the Patriots. Get some value out of him.\n",
      "379198 :  We are running it so fucking much. Probably just to have a quick game and keep Foles healthy but still.\n",
      "379211 :  Foles really stood in there\n",
      "379220 :  Uhm, does Foles know he is supposed to get 8 TDs tonight\n",
      "379232 :  Why does Foles drop back like 10 yards\n",
      "379259 :  do you enjoy christmas foles\n",
      "379262 :  Nick Foles looks like the cashier at Silvercity who asks you if you want to pay 50 cents to add butter on your popcorn.\n",
      "379325 :  for the love of my fantasy team.... THROW THE FUCKING BALL PHILLY! Let Foles get some chemistry with someone other than the fucking running backs. fhiashdfgpioashdpofhaspdoifhapoiwdhfpoiadshpof;a\n",
      "379396 :  Errant throw there, Foles.\n",
      "379397 :  Jesus Christ Foles that was baaaaaaad\n",
      "379398 :  Yeeeesh Foles \n",
      "379419 :  I like that from Foles. Defender should have taken that to the house\n",
      "379425 :  Foles telegraphed that, eye fucked the read the whole way\n",
      "379436 :  Lol Foles threw the exact pass that I get picked off on in madden \n",
      "379439 :  Bad Foles, Bad\n",
      "379446 :  Nick Foles has many interceptable passes. [Here is a compilation of all of them from when he started] (https://www.youtube.com/watch?v=dQw4w9WgXcQ)\n",
      "379447 :  Foles does not look good at all\n",
      "379454 :  Lol Foles didn't care how well Ertz was covered. Just gonna force it in there.\n",
      "379457 :  Foles magic strikes again. Sure INTs become impossible to catch.\n",
      "379473 :  Can Dick Folds catch on as Nick Foles' dickname?\n",
      "379488 :  Foles can keep on throwing, we can’t intercept anyway.\n",
      "379498 :  Hey Foles, don't do that again.\n",
      "379542 :  Eagles Christmas present should be 7-7 Foles getting exposed in playoffs, that ball wont be dropped to often! \n",
      "379567 :  Me five minutes ago: we should start throwing the ball so Foles can develop chemistry with the offense.  \n",
      "\n",
      "Me now: never fucking throw the ball again.\n",
      "379584 :  Well you shouldn’t be, because last time he made the playoffs he beat u guys who had mr Nick Foles starting in the wc round \n",
      "379722 :  InB4 Nick Foles to Zach Ertz\n",
      "379824 :  That santa is a fat foles\n",
      "379856 :  Time for ol swole pole foles\n",
      "379886 :  Sorry but we aint winning shit this year, Foles isn't good enough to win a shootout in the playoffs. If we play the rams again we'll lose by double digits. Foles + our secondary regressing is really bad. If we still had Wentz then I'd still have us as favorites even with a bad seondary\n",
      "379886 :  Sorry but we aint winning shit this year, Foles isn't good enough to win a shootout in the playoffs. If we play the rams again we'll lose by double digits. Foles + our secondary regressing is really bad. If we still had Wentz then I'd still have us as favorites even with a bad seondary\n",
      "379899 :  Foles is making Nelson look like the 2nd coming of revis\n",
      "379909 :  Did Foles just use 'ho ho' in his snap count?\n",
      "379912 :  Foles is shook AF\n",
      "379913 :  I am beginning to think that Foles is not a franchise QB\n",
      "379934 :  You don't watch nick Foles do you lol\n",
      "379948 :  Just get a fucking first down foles fuck. What are you doing \n",
      "379950 :  Foles not even going through progressions\n",
      "379958 :  The NFC looks so badass this year. Unfortunately I dont think Nick Foles is gonna keep the Eagles going deep. Give me Vikings, Saints, or Panthers. \n",
      "379971 :  Even though it was incomplete I am glad to see foles isn't afraid to Chuck it deep. We have had a lot of big plays deep this season and we aren't gonna succeed if we remove them altogether \n",
      "379981 :  Even though it was incomplete, that wasn't a bad throw (3rd and 5) from Foles.  It was where the defender couldn't get it and gives the WR a chance to jet to it, or get a PI. \n",
      "379982 :  Foles not making good decisions tonight. \n",
      "379988 :  Foles overthrew those mountains with that throw. Wentz would have had Rivers levels of kids with those mountains trying to make the same throw.\n",
      "379991 :  Foles is staring down his first look bad right now. And worse, throwing to him too. \n",
      "380009 :  Eagles aren't making the Super Bowl with Foles.\n",
      "380022 :  Foles is cementing that one-and-done in the playoffs. I'm glad he still sucks.\n",
      "380027 :  That doesn't matter for our home game chances at all after next week. In order for us to regret that Carolina game he and Foles both have to win a playoff game.\n",
      "380039 :  This looks an awful lot like a test bed game. Eagles O seem to be trying to get a feel for what works with Foles and what doesn’t. \n",
      "\n",
      "Eagles fans need to chill. They need to figure this out before the playoffs. \n",
      "380092 :  are you guys excited about playoff foles\n",
      "380115 :  Foles is looking terrible against the 32nd DVOA ranked pass defense.\n",
      "380220 :  Nick Foles looks like he'd sell good shit but would never make a profit because he'd always end up smoking half of it.\n",
      "380276 :  Remember that 5 minutes that people tried to believe Foles could take the Eagles anywhere? That was funny.\n",
      "380326 :  Eagles are going to get bounced in the playoffs. They have zero chances with Foles. Not hating, just predicting. \n",
      "380349 :  Nick Foles dick length.\n",
      "380670 :  Saints or Vikings are going to the Super Bowl. Eagles have no chance with Foles, Panthers have no chance as Cam Newton doesn't care (look at his Super Bowl fumble recovery attempt), Falcons have no chance as their offense regressed, Seahawks have no chance as Russel Wilson alone can't beat teams, and Rams have no chance as Goff is bad against good teams. Just my analysis.\n",
      "380694 :  So Nick Foles.\n",
      "380709 :  Why does ESPN think we want to see a close up of Nick Foles instead of a replay of a challenged play?\n",
      "380712 :  Nice play by Foles to hurry it up and force Del Rio to make a bad challenge.\n",
      "380716 :  Foles is inside Del Rios head \n",
      "380722 :  \"Foles has the biggest...shoes to fill.\"\n",
      "380737 :  God I miss Carson. Foles is fine but the excitement is gone from the offense without wentz \n",
      "380739 :  Foles has biggest condom to fill.\n",
      "380771 :  At least you have foles.  Hundley was lucky to have 50 yards in 3 quarters\n",
      "380835 :  Foles has to move a bit more in the pocket. He's too statuesque\n",
      "380839 :  And Foles is shocking!\n",
      "\n",
      "It's similar!\n",
      "380864 :  It would of been nice, yes. Did we really need a close up of Foles?\n",
      "380903 :  Guys, I don't think Foles is throwing 7 TDs tonight.\n",
      "380914 :  Foles just needs to get a few good completions to get comfortable and he'll ball out in the 2nd half.\n",
      "380940 :  Have you watched Foles play?\n",
      "380951 :  A lot of runs and close ups of nick foles face. \n",
      "380967 :  Foles moves with the grace of a 3 legged epileptic giraffe. \n",
      "380978 :  I feel like Foles tries to draw them offsides every down\n",
      "380999 :  Jesus nick foles reminds me of joe Flacco. \n",
      "381078 :  Jesus Foles was born tonight. \n",
      "381084 :  Ok so Nick Foles is undefeated this year and has 0 super bowl losses, Tom Brady has 3 losses this year  to go with his two super bowl losses i can't go against raw statistics like that, that prove without a shadow of a doubt Nick is the better qb.\n",
      "381147 :  Only guy Foles has Chemistry with is ertz from the chip era\n",
      "381166 :  Foles isn't bad exactly just doesn't do anything to elevate the offense.\n",
      "381168 :  I’ve always liked Nick Foles. Not sure why \n",
      "381173 :  Those snaps are fucking foles\n"
     ]
    },
    {
     "name": "stdout",
     "output_type": "stream",
     "text": [
      "381178 :  A dumb football thing, but I always find myself astounded at just how long 15 seconds is. At 15 seconds, they were still in the huddle and I think Foles was still reading the play. That seems like no time at all, and yet they found the time to get the snap off with seconds to spare. \n",
      "381193 :  Foles thought Celek was Ertz\n",
      "381198 :  Foles is loving the tight ends this game. \n",
      "381207 :  Nick Foles earning his paycheck right now\n",
      "381237 :  Foles is Dakking his way up the field\n",
      "381239 :  Foles baby. Cmon bro\n",
      "381256 :  Foles is still more accurate than Dak\n",
      "\n",
      "381260 :  Nick \"Alex \"Checkdown\" Smith\" Foles\n",
      "\n",
      "381269 :  Yeah, not too scared of Nick Foles. \n",
      "381270 :  Too high, Foles throws high a lot\n",
      "381297 :  Wtf foles \n",
      "381298 :  Wtf foles\n",
      "381301 :  Foles what the fuck \n",
      "381304 :  Dammit foles run for it\n",
      "381305 :  Omg fuck you foles, everything was fucking open \n",
      "381308 :  Foles.. couldda had that 1st easy \n",
      "381309 :  Foles, cmon. Run\n",
      "381312 :  Foles scared to run. That was some wimp shit\n",
      "381314 :  Foles easily could have made the first down if he wanted to\n",
      "381324 :  Foles totally could have run on that play.\n",
      "381325 :  Nick \"WT\" Foles\n",
      "381327 :  What the fuck foles\n",
      "381348 :  Foles would have been killed from behind if he ran\n",
      "381349 :  Come the fuck on. Foles, my dude. What’re you doin? \n",
      "381405 :  Foles and Elliot both get coal for that drive\n",
      "381412 :  nothing will get Foles to run for it\n",
      "381417 :  Are the commentators nuts? Foles is the backup, if he gets hurt scrambling are the Eagles starting a practice squad guy? Totally understand throwing there.\n",
      "381422 :  God damn it Foles \n",
      "381471 :  And that's why I roll my eyes when some other Eagles fans tell me Foles can actually lead this team to a SuperBowl.\n",
      "381496 :  Or 2014 Cardinals if Foles goes down. \n",
      "381548 :  The dc for Oakland needs to do something to get Mack involved. Foles is a panicky statue who isn't accurate on the run and your sack specialist isn't doing much sacking.\n",
      "381582 :  Foles is bad.\n",
      "381630 :  Do these announcers have brain damage? Why are they acting like having Foles instead of Wentz doesn't make a difference to the Eagles? Acting surprised that the Raiders are keeping up with a 12-2 team and limiting the best redzone offence in the league\n",
      "381632 :  Foles: \"Ok so where am I fucking up?\"\n",
      "\n",
      "Wentz: \"We really don't have time for that just go back to handing it off\"\n",
      "381665 :  >Right now Philly fans are calling Nick Foles \"Saint Nick\"\n",
      "\n",
      "That's a funny way to say Big Dick Nick\n",
      "381724 :  Thanks for the sensible reasoning. I was annoyed at first but thinking again, and reading your comment, you're right. I want to win, but I will gladly take a loss if it means Foles is still 100%. The current backup is an absolute no name. Like, he barely plays in the pre season.\n",
      "381749 :  D and special teams playing shitty is because of Foles? Come on\n",
      "381769 :  Not too worried, big dick Foles will adjust in 2nd half.\n",
      "381777 :  I think the narrative from his 27-2 run is still strong because its a good storyline for TV. We here know that we have no real chance with Foles, but that isn't interesting for TV.\n",
      "381782 :  Problem for Foles is that handing it off doesn't work now. The Eagles have tightened up their run defense since that 2nd drive. He's got to do it on his own in the passing game. Thing though is that Alshon needs to not be invisible. \n",
      "\n",
      "They come out like this again and they are going to lose. \n",
      "381791 :  To be fair, y'all have been talking up Foles like he was going to be a world beater.\n",
      "381815 :  Nick Foles gonna come out after the half with some Glue on Eyelashes because he doesn't understand what the difference between him and Carr is. \n",
      "381842 :  This is why I hope we don't fully rest starters even if we win tonight. At least have them play the 1st quarter so that Foles can get some meaningful play time with the receiving corps.\n",
      "381861 :  Is foles capable of throwing to anyone other than ertz? I have a fantasy championship on the line and ertz and foles are going to cause me to lose.\n",
      "381861 :  Is foles capable of throwing to anyone other than ertz? I have a fantasy championship on the line and ertz and foles are going to cause me to lose.\n",
      "381876 :  Foles can make things move, he’s a streaky passer and just needs to get hot. It would be so typical for him to start lighting it up at the second half but I get where you’re coming from homie\n",
      "381928 :  Philly won't go anywhere in the post season if Foles doesn't spread the ball around more. Hell he doesn't even look at other receivers. It's gonna be a shame when he ruins a good season with his tunnel vision. RIP Eagle Bros.\n",
      "381943 :  Foles is playing well enough. He just needs to clean a few things up. Missed 2 guys on deep passes, but not by much. Also needs to have a little more confidence in his running ability. He could have run for a first or close to it, that final drive. \n",
      "381961 :  So you expect the Philly crowd to cheer after a missed chip shot field goal? Foles should have handed the ball off on the last play before the field goal. The blocking had a huge hole for him. Then he was open for a pass  or foles could have ran for the first down. The hole was that wide.ahh well lets see what the birds got for the second half. \n",
      "381961 :  So you expect the Philly crowd to cheer after a missed chip shot field goal? Foles should have handed the ball off on the last play before the field goal. The blocking had a huge hole for him. Then he was open for a pass  or foles could have ran for the first down. The hole was that wide.ahh well lets see what the birds got for the second half. \n",
      "381978 :  My wife bought Eagles pacifiers for our twins. \n",
      "Rest easy knowing that Foles ain’t the only one sucking on the Eagles tonight. \n",
      "382039 :  Foles used to be a starting QB as well.\n",
      "\n",
      "But Wentz, he is something else. Watching this game he can run around the pocket or go for a run himself while Foles for the most part stays inside.\n",
      "382039 :  Foles used to be a starting QB as well.\n",
      "\n",
      "But Wentz, he is something else. Watching this game he can run around the pocket or go for a run himself while Foles for the most part stays inside.\n",
      "382064 :  I want to see Foles spread the ball more.  We won't go anywhere in the playoffs if we can't use all our receivers\n",
      "382067 :  Foles has looked a little antsy in the first half. Maybe he'll settle in in the second\n",
      "382078 :  Foles is not Wentz. Confirmed. Can we accept that and move on?\n",
      "\n",
      "Why are people so shocked Foles isn’t playing as well as Wentz. I mean what the hell did people expect. \n",
      "382078 :  Foles is not Wentz. Confirmed. Can we accept that and move on?\n",
      "\n",
      "Why are people so shocked Foles isn’t playing as well as Wentz. I mean what the hell did people expect. \n",
      "382081 :  We are throwing the ball WAY too often. We are literally starting our backup QB in 20 degree weather with wind gusts up to 40 mph and Foles had 24 attempts in the first half.\n",
      "382083 :  I really hope Foles ends up how I was trap shooting yesterday: You miss a lot after the 1st dozen tries, then you sight in and nail every pigeon that comes your way!\n",
      "382084 :  If Foles doesn’t see anyone in the middle he HAS to throw that deep ball\n",
      "382134 :  Uhh besides thebhuge billbaord on I95 with foles mentioning St. Nick\n",
      "382146 :  Have you seen how ass Foles has been? He needs the practice. Ajayi and Blount can run, we know this, gotta get Foles throwing competently if you wanna go anywhere in the post season.\n",
      "382146 :  Have you seen how ass Foles has been? He needs the practice. Ajayi and Blount can run, we know this, gotta get Foles throwing competently if you wanna go anywhere in the post season.\n",
      "382184 :  Birds are #4 for me currently, they have a real chance if Foles is alright enough\n",
      "382188 :  What if I told you that in some places, Santa isn't welcome. What if I told you that having a beard and rocking a stocking cap won't get you any street-cred here? What if I told you that while it may always be Sunny in Philadelphia, Frosty still owns Lincoln Financial.\n",
      "\n",
      " What if I told you that Nick Foles owns the North Pole?\n",
      "\n",
      " ESPN Films presents;\n",
      "\n",
      " 30 for 30: Philly Just Dissed Santa.  \n",
      "382210 :  It's like no one has seen Foles before \n",
      "382299 :  Vikings are looking pretty good for the playoffs. It looks as though losing young GZ will cost us several points a game which will be very hard to overcome, and apparently the Eagles just aren't the same without Foles. Only real competition left is the Saints. \n",
      "382305 :  Fam...RELAX...if we don't come out here and at least get a FG then is time to worry...until then keep calm...Foles needs to practice on running for those 3-4 yard gains and sliding, he seems nervous..#birdgang\n",
      "382385 :  Because we are drunk and hate ourselves and realize that 11 of those wins consisted of fucking voodoo magic by Wentz and that Foles is incapable of replicating that. Sure, we’re going to root for this team to our deaths and we have illogical optimism that this is our year but deep, deep in our hearts we know that our chances of winning it all with Foles under center are slim at best. \n",
      "382385 :  Because we are drunk and hate ourselves and realize that 11 of those wins consisted of fucking voodoo magic by Wentz and that Foles is incapable of replicating that. Sure, we’re going to root for this team to our deaths and we have illogical optimism that this is our year but deep, deep in our hearts we know that our chances of winning it all with Foles under center are slim at best. \n",
      "382466 :  So are we gonna address the elephant in the room of Nick Foles throwing for 5 tds since week 15 and Wentz throwing for 0?\n",
      "382487 :  I’d like to see Foles go up against the Vikings defense \n",
      "382558 :  🤣 bruh Wentz is the MVP but look at Keenum in MIN..it can happen just have faith...loook at last week, D let us down but Foles is more than capable...Oak putting up a fight, no delusion here look at my post history my g\n",
      "382570 :  Who ran this offense better: Foles tonight or Dak last night? Lol.\n",
      "382572 :  My desperate theory is that Pederson wants to hold back his playbook for the playoffs. Foles is gonna have to sling it in January if the team wants a chance to compete. Let him\n",
      "382612 :  I hope we play the Eagles in the playoffs. Foles looks like some prime meat for the Vikings D\n",
      "382635 :  man this thread is so negative I'm hopping off reddit. Give foles a bit to get his reps in with the wideouts then Doug will open up the playbook for the playoffs. R E L A X \n",
      "382656 :  Foles holds the NFL record for TDs in a game against the Raiders.\n",
      "382658 :  > Foles is gonna have to sling it in January if the team wants a chance to compete.\n",
      "\n",
      "So the Eagles have no chance.\n",
      "382667 :  You're right, I should have posted a motivational message for Foles to read on his phone on the sideline. \n",
      "382671 :  Foles is a once in a generation qb\n",
      "382673 :  Vikings D is light years ahead of Eagles D. Foles is playing like dogshite, not as good as Keenum at this momment. Vikings were alwys gonna rely on their defense even if they were healthy at QB. Eagles need Wentz more than the Vikings needed their starting QB... by a lot.\n",
      "382706 :  Well eagles if Foles continues to play poorly you can always get McNabb back, I'm pretty sure he has a lot more free time now since he isn't with NFL network anymore.\n",
      "382737 :  Dear Eagles fans. Remember when we were losing to Rams on the road in the 4th quarter and won the game with Foles. Remember when Foles threw 4 TDS last week with no INT’s? \n",
      "\n",
      "Things change week to week. RELAX\n",
      "\n",
      "382737 :  Dear Eagles fans. Remember when we were losing to Rams on the road in the 4th quarter and won the game with Foles. Remember when Foles threw 4 TDS last week with no INT’s? \n",
      "\n",
      "Things change week to week. RELAX\n",
      "\n",
      "382744 :  Foles has had 2 weeks with the offense call this pre season to the playoffs and relax \n",
      "382892 :  Don't worry. Foles once threw 7 TDs. You're good.\n",
      "382900 :  Now we know why foles is a back up quarterback \n",
      "382906 :  Geez, did he just tackled Foles by the neck?\n",
      "382933 :  Y’all really thought Foles was the best back up in the NFL because he threw 4 TDs against the weak Giants? Put some respeck on Sam Bradford’s name\n",
      "382937 :  Foles is ass \n",
      "382941 :  Will the real Nick Foles please stand up?!\n",
      "382947 :  That *should* have been a flag on Foles, IMO\n",
      "382949 :  Foles has the pocket presence of a drunk statue. \n",
      "382951 :  Foles is fucking pedestrian \n",
      "382952 :  Nick \"Almost Bryce Petty\" Foles\n",
      "382958 :  Nick Foles sucks\n",
      "382967 :  Foles is Bradford confirmed. \n",
      "382971 :  It has to be torture for Wentz watching this. Foles has missed so many throws tonight.\n",
      "382975 :  Foles is moving like his ACL is torn\n",
      "382979 :  Whenever I feel sad about yesterday's result and realising that we won't be winning any play off games this year, I remember that the Nick Foles led Eagles won't be winning any either and the world seems a better place again.\n",
      "383002 :  Nick Foles is just Dak Prescott with a historic season on his resume.\n",
      "383003 :  Why the fuck has Foles not been targeting Jefferies?\n",
      "383019 :  Foles is really struggling. Need to run more.\n",
      "383020 :  Yeah eagles aren’t gonna do shit in the playoffs. The saints/panthers/falcons  hell even the Seahawks are gonna feast on Nick Foles. \n",
      "\n",
      "383021 :  Classic Foles. Plays well one week, then turns into Weeden\n",
      "383022 :  Foles is no back up like Big Balls Keenum\n",
      "383045 :  The safety has given the corner covering him help. However Foles needs to take some shots. \n",
      "383046 :  Foles has to look at him first.\n",
      "383102 :  Foles is solidifying Wentzs MVP case...\n",
      "383109 :  If Trevor Siemian can come in and throw two TDs in three drives on this defense, Foles can too. and that was post Ken Norton Jr getting fired.\n",
      "383136 :  Foles sucks and y’all know it.\n",
      "383210 :  On the bright side, last week it was Foles and the offense carrying a shit defense.\n",
      "\n",
      "So far, it's the Defense carrying a shit offense.\n",
      "383279 :  So I don't know what type of QB Foles is. Does he have an arm?\n",
      "383290 :  Kind of a bad throw by Foles but catchable\n",
      "383369 :  I'm not feeling confident at all about Philadelphia's chances with Foles under center. He doesn't have the awareness, much less the ability to save plays and escape pressure that Wentz mastered this year. They're gonna be exposed in the post-season.\n",
      "383695 :  A Nick Foles interception will make these last few possessions truly comical.\n",
      "383705 :  Now Foles to throw the int to complete the cycle \n",
      "383752 :  Foles trying HARD to make it 4 turnovers in one minute of play\n",
      "383756 :  aaaaand Foles misses Ertz again\n",
      "383759 :  I mean I saw a lot of you guys saying that Foles was actually great and his failure at St. Louis was Jeff Fisher's fault.\n",
      "383764 :  Foles is so fucking bad\n",
      "383768 :  Foles tryna kill Ertz\n",
      "383769 :  God damn foles shape the fuck up \n",
      "383771 :  Foles is going to going to get someone killed with passes like that. \n",
      "383774 :  jfc Foles\n",
      "383787 :  Foles misses every throw by the length of his penis\n",
      "383790 :  Does Foles think Ertz is 9 feet tall?\n",
      "383797 :  C'mon Foles...\n",
      "383799 :  Foles throws so many checkdowns compared to Wentz\n",
      "383806 :  i mean i didnt plan on getting blackout drunk tonight but if Foles insists theeeeennn\n",
      "383819 :  Nick foles can’t throw for more than 5 yards. Is this a fuckin joke \n",
      "383834 :  Foles lol \n",
      "383849 :  Nick \"Brock \"Overthrow the receiver by 2 feet\" Osweiler\" Foles\n",
      "383854 :  Watching this it's hard to believe Foles had a 27 touchdown season.\n",
      "383859 :  Man those nfc playoffs defensives are gonna eat Foles alive\n",
      "383867 :  Foles cant hit the broad side of the barn if he was leaning against it \n",
      "383869 :  Foles is just hard to watch. This team is toast.\n",
      "383877 :  Foles is horrifically inaccurate today. Can't just be the wind and cold here.\n",
      "383879 :  man Foles is really spooked by the pressure\n",
      "383894 :  Foles has literally 0 chemistry with any receivers right now. \n",
      "383902 :  Idk why Doug won't let Foles scramble more, his success in 2013 was reliant on it\n",
      "383911 :  Glad yall eagles fans are clearly seeing what I'm seeing. fuck, foles sucks.\n",
      "383947 :  All of you giving up on Foles disappoint me\n",
      "383957 :  Foles is as Foles does\n",
      "383957 :  Foles is as Foles does\n",
      "383971 :  If this is how Foles handles the wind at home, we may want to lose\n",
      "383998 :  Raiders defense allow an average of 8.2 yards per play and 102.6 passer rating.\n",
      "\n",
      "Nick Foles is at 4.9 and 77.1 tonight.\n",
      "384052 :  Raiders immediately started stacking boxes early after we started running on them. Foles can’t hit shit tonight and when he does it’s dropped. Gonna see that in January against better opponents\n",
      "384088 :  The difference is Eli can actually make plays, unlike Foles.\n",
      "384109 :  Lol no it's not. You don't do become the #1 offense in the NFL without good playcalling and good scheme. Wentz just made it better. Foles is just bad.\n",
      "384114 :  Wentz is obviously valuable, but Foles is definitely  not playing his best. He's better than this.\n",
      "384180 :  If Foles is not getting utilized to his strengths then we're fucked regardless\n",
      "384232 :  I dunno where you heard that. Foles has been serviceable (before today), and our defense has been bad since the Rams game.\n",
      "384255 :  No. We won that game with Foles. He came into the game when we were losing in the 4th quarter. \n",
      "384329 :  Gruden: \"Oakland is daring Nick Foles to throw the football.\"\n",
      "\n",
      "Foles: \"Nah I'm good\" \n",
      "384329 :  Gruden: \"Oakland is daring Nick Foles to throw the football.\"\n",
      "\n",
      "Foles: \"Nah I'm good\" \n",
      "384334 :  Damn, wish we got that turnover to give Foles a short field to work with.\n",
      "384343 :  Foles with his patented 30 step drop.\n",
      "384348 :  Alshon is getting open Foles just isnt looking his way at all\n",
      "384349 :  Are Nick Foles and Derrick Carr the same QB? \n",
      "384352 :  I’d love if Foles just took a 3 step hitch and delivered the ball on time and on target... \n",
      "384361 :  just fucking throw it to a playmaker foles, wtf\n",
      "384364 :  Foles stepping back, and back, and back, and baaaack....\n",
      "384366 :  There goes Foles with his backpedaling high sailing ducks\n",
      "384369 :  Is this the return of Back Foot Foles?\n",
      "384382 :  Holy crap Foles.\n",
      "384384 :  FUCKING THROW IT AWAY, FOLES\n",
      "384391 :  Just fucking throw it Foles\n",
      "384396 :  Foles fucking sucks. We’re fucked\n",
      "384397 :  Foles literally had all day and still couldn't get the ball out. No chance the Eagles score again in this game. \n",
      "384398 :  You have to be literally kidding me Foles\n",
      "384402 :  foles is so sloooow\n",
      "384407 :  Foles has been holding the ball wayyyy too long\n",
      "384418 :  Foles in the playoffs is gonna be hilarious\n",
      "384419 :  Foles held on to that ball so long it might sue him for paternity.\n",
      "384422 :  \"Oh, right, I'm not Carson Wentz.\"\n",
      "\n",
      "* Nick Foles right now\n",
      "384424 :  Its not foles it’s fucking kelce... literally all year this guy is fucking garbage \n",
      "384427 :  Foles what are you doing\n",
      "384430 :  Suck my dick foles. Fucking trash\n",
      "384432 :  Damn dude. Foles is really unimpressive \n",
      "384441 :  Nick Foles is not a good Quarterback\n",
      "384448 :  That was pathetic, Foles. I take back my reassurance to friends that we'd be still be good with you at the helm.\n",
      "384454 :  Foles is terrible. \n",
      "384457 :  Foles wut are you doing?\n",
      "384461 :  we're going to fucking lose because of foles\n",
      "384462 :  Foles, you gotta do something with this protection. \n",
      "384465 :  Where's the end of the line of people waiting to shit on Nick Foles? I wanna get in on this before it's longer than iPhone lines. \n",
      "384474 :  Foles is awful\n",
      "384475 :  Foles tried to be Wentz on that play, failed miserably \n",
      "384476 :  holy fuck Foles is terrible tonight\n",
      "384479 :  Foles what are you doing Foles\n",
      "384479 :  Foles what are you doing Foles\n",
      "384489 :  I'd rather Foles just take a fucking chance downfield and maybe throw a pick instead of watching this shit every play.\n",
      "384492 :  That's the Nick Foles I remember \n",
      "384496 :  I'm beginning to think Foles isn't going to throw 7 touchdowns tonight.\n",
      "384518 :  Shit, even Foles needs to know he cant try to scramble around and avoid sacks. Dude clearly has never played himself in madden.\n",
      "384531 :  Everybody knew Foles would be bad, but this is impressive.\n",
      "384549 :  In his defense that's like the fourth shotgun snap that's landed at his feet. Center needs to get it together. Still, Foles needs to get the ball out. \n",
      "384552 :  theyre a 6-8 team if foles started 14 games imo.\n",
      "384553 :  Lmao Foles just had like 8 seconds to throw but he chose to take a 15 yard sack instead\n",
      "384557 :  I want 2013 Foles back.\n",
      "384563 :  Foles is so afraid to throw an INT he takes extra sacks. \n",
      "384574 :  Nick Foles gets in so much trouble when he doesn't throw on time. I don't know if the receivers aren't getting separation or he's just not confident enough to let it rip. \n",
      "384584 :  If this is what Foles looks like outside in Winter maybe we don’t want the first seed.\n",
      "384588 :  Half of the time his OLine gets rolled over but the other half is just Foles being a season sub-par QB\n",
      "384593 :  Hi, I’m 2013 Nick Foles and I have Direct TV.\n",
      "\n",
      "Hi, I’m 2017 Nick Foles and I have cable. \n",
      "384593 :  Hi, I’m 2013 Nick Foles and I have Direct TV.\n",
      "\n",
      "Hi, I’m 2017 Nick Foles and I have cable. \n",
      "384600 :  Foles: This is my ball! There are many like it but this one is mine!\n",
      "384619 :  I am not sure it’s Kelce. I am thinking it is more a problem of timing between Foles and Kelce.\n",
      "384627 :  I mean.. the raiders are beating us and typically play in better weather or at least comparable weather. That’s no excuse. Foles looks bad. No way around that. \n",
      "384637 :  Y'all think this Eagles offense looks bad? The Seahawks offense had as many total yards yesterday as Foles has passing yards and somehow still won.\n",
      "384642 :  Foles is playing so bad the Bills would bench him.... for one week. \n",
      "384679 :  I hope we lose so we sign Romo. I know the implications but come on foles is trash \n",
      "384688 :  How Foles finished a season 27-2 is one of the greatest mysteries of all time\n",
      "384754 :  Carr trying to make Foles look good.\n",
      "384828 :  Yea, Foles is way better.\n",
      "384869 :  You forgot about Nick “Dak 1.0” Foles\n",
      "384892 :  You never know which Foles will show up in playoffs though\n",
      "384928 :  the good Foles has never shown up in the playoffs, sooo\n",
      "384930 :  Suspect quarterbacks going to the playoffs: Blake bottles, nick foles, case Keenum. I can’t wait \n",
      "384946 :  Maybe Eagles fans don't want home field and to play in the cold?  Foles is better in a dome.\n",
      "385044 :  I know I want wentz back but foles can’t lead this team anywhere. We need a QB who can actually throw a completion. How do you think foles does against a good defense. \n",
      "385044 :  I know I want wentz back but foles can’t lead this team anywhere. We need a QB who can actually throw a completion. How do you think foles does against a good defense. \n",
      "385168 :  Foles gonna unroll it this drive \n",
      "\n",
      "Goddamnit foles\n",
      "385168 :  Foles gonna unroll it this drive \n",
      "\n",
      "Goddamnit foles\n",
      "385169 :  Blitz every play. Carr can't do anything when we do, and it's gonna stop Lynch. Now Foles needs to lead us to at least the 25. \n",
      "385186 :  What the fuck Foles.\n",
      "385243 :  Jesus fucking christ foles \n",
      "385252 :  damn, Foles so inaccurate tonight. Especially to Ertz it seems \n",
      "385256 :  god damnit foles. that was some dak prescott bullshit throw right there\n",
      "385264 :  Thanks for the Christmas gift Foles.\n",
      "385288 :  Bruce shoving foles tho\n",
      "385293 :  Foles is awful.\n",
      "385304 :  Foles....\n",
      "385305 :  Foles is fucking awful. Constantly throwing high to wide open receivers\n",
      "385307 :  Foles being scared shitless into an INT.\n",
      "385329 :  LMAO Foles overthrowing a 3 yard pass\n",
      "385330 :  Foles' pride is hurt, not his leg.\n",
      "385334 :  Foles, that was horrendous. And he got shaken up on the play too\n",
      "385338 :  Foles sucks. Bring in sudfield\n",
      "385348 :  Raiders: watch me miss this kick\n",
      "\n",
      "Foles: hold my beer\n",
      "385356 :  OMFG nick foles what the fuck\n",
      "385361 :  do you enjoy christmas foles\n",
      "385367 :  foles is ass, my dudes\n",
      "385373 :  Nick \"Dak Prescott\" Foles\n",
      "385386 :  I don't remember Nick Foles being this bad. \n",
      "385388 :  We might even get Sud the Stud tonight if Foles is hurt\n",
      "385394 :  Foles is pulling a 180 and going for 8 INTs now\n",
      "385402 :  Nick 'Inevitable Pick' Foles\n",
      "385416 :  Bench Foles, Start literally anyone. \n",
      "385430 :  If Foles is hurt, I guess that’s it... damn are we cursed or what?\n",
      "385437 :  Awesome. Foles limping.  Sudfeld time.\n",
      "385438 :  That will look bad on Foles, but Ertz needs to grab that ball.\n",
      "385444 :  Nick \"Brett Hundley\" Foles wilding out here \n",
      "385446 :  Best QBs today:\n",
      "\n",
      "1. Eagles - Derek Carr\n",
      "2. Raiders - Nick Foles\n",
      "\n",
      "(I know what I did)\n",
      "385449 :  Oooh foles down now\n",
      "385452 :  Get Foles out and force us to run please\n",
      "385465 :  Foles doing Foles things.\n",
      "\n",
      "Enjoy your playoffs Eagles fans.\n",
      "385465 :  Foles doing Foles things.\n",
      "\n",
      "Enjoy your playoffs Eagles fans.\n",
      "385470 :  Foles is bad.\n",
      "385472 :  Man I love A Christmas Story, great film. \n",
      "\n",
      "Ok let’s see the iron man Nick Foles in action! I miss anything?\n",
      "385483 :  A few days ago people were talking about why some team would definitely give up a high draft pick for Foles.\n",
      "\n",
      "\n",
      "This is why not.\n",
      "385490 :  Me @ Foles:  You SUUUUUUUUUUUUUUUUUUUCK!!!\n",
      "\n",
      "Sincerely, not even an Eagle's fan.\n",
      "385536 :  If you wouldn't take Romo over Foles right now you're absolutely insane lol\n",
      "385551 :  Foles is no Keenum\n",
      "385556 :  I actually had a lot of hope for foles in the post season but this game is killing that hope so fast. I hope it’s a fluke because playing like this isn’t gonna cut it in the playoffs. \n",
      "385559 :  Foles is bad\n",
      "385560 :  Wait I don't get it last week everyone was saying Foles was great this week they are saying he's terrible, which is it?\n",
      "385565 :  So maybe Pedersen should start telling Foles to throw at people's feet and maybe he'll hit their hands? \n",
      "385571 :  If we send Foles back out I may vomit.\n",
      "385587 :  You better not Foles   \n",
      "You better not Fly  \n",
      "You better not score  \n",
      " I'm telling you why  \n",
      "The Raiders are coming to town  \n",
      "385594 :  Foles threw a pick\n",
      "385596 :  I was told Nick Foles would be a fine replacement for Carson Wentz. Dude can't throw 5 yards properly\n",
      "385612 :  Nick Foles has the body of a placekicker. \n",
      "385618 :  Foles overthrew, his receiver tipped the ball and Oakland caught it. \n",
      "385683 :  Our season is over. Foles is fucking garbage. Not only are his throws off, they're so off he's going to injure our players. Ertz almost got murdered jumping for his shit throw earlier.\n",
      "385738 :  Shit throw by Foles off the hands of Ertz into a Reggie Nelson interception \n",
      "385771 :  I have a bad feeling about Foles limping off the field...\n",
      "385819 :  At this point, fucking Sudfield. Foles has been shit all night.\n",
      "385943 :  I mean get back to running in THIS game. It’s tied. RUN. Drain the clock. Foles cannot do anything today. At this point I’d put Jenkins at QB. At least we’ll get all out effort lol\n",
      "385948 :  Eagles don’t deserve to win. Foles is trash and everyone on the team sucks ass\n",
      "385950 :  Well I never bought into Foles being good so at least I’m not as let down.\n",
      "385970 :  Or nah. Not with Foles \n",
      "386001 :  Defense is doing everything they can to keep us in the game but the offense keeps fucking blowing it immediately after. Move the fucking ball Foles!\n",
      "386025 :  Eagles won't win a playoff game if this is how they perform against the garbage raiders. Foles is doodie\n",
      "386035 :  Foles had 12 completions at the half. Jesus\n",
      "386049 :  Foles instills 0 confidence \n",
      "386082 :  I'm glad the defense is showing some heart, but Foles isn't getting us a ring.  Vikings will set records for sacks and INTs on him.\n",
      "386094 :  I give it 3 plays before Foles turns it over \n",
      "386104 :  Eagles aren’t going to the super bowl with Foles, sorry guys \n",
      "386126 :  That's part of the plan, play like shit so Wentz wins MVP, then in the playoffs Foles' final form is revealed.\n",
      "386184 :  Dude, you must be wasted on eggnog from Christmas. Foles has been a starter or backup in the NFL for years now. Sudfield has failed to make a roster. Just cause he's having a bad game doesn't mean Sudfield couldn't do worse.\n",
      "386201 :  Why did foles look so good last week but so bad this week \n",
      "386206 :  God Foles is so bad \n",
      "386211 :  This is such a shit show with Foles \n",
      "386213 :  Why even let Foles throw it?\n",
      "386215 :  FUCK NICK FOLES\n",
      "386217 :  Watching Foles after a season of Wentz is just brutal\n",
      "386234 :  Why is Foles looking confused? It was a 3 and out. Same shit he has been doing all night. \n",
      "386245 :  Foles.. i love you. But just take the 2.5 strides it takes your tall ass and get the first\n",
      "386252 :  Foles gonna make this team a 1 and done like no other.\n",
      "386257 :  Nick fucking Foles looks awful.\n",
      "386264 :  Foles is garbage.\n",
      "386266 :  All I needed in a full point PPR was Foles and Jeffery to score 25 points. I feel your pain.\n",
      "386271 :  Foles streaking in the cold sounds about right\n",
      "386290 :  Nick Foles is pure shite\n",
      "386302 :  Nick Foles gonna double pump every throw???\n",
      "386309 :  Gruden dont try to make excuses for Foles\n",
      "386319 :  That would require foles to pass it to them sooooo tough break \n",
      "386351 :  I don't know if our defense is playing well or Eagles offense is just this bad with Foles\n",
      "386355 :  It doesn't matter what the fuck Foles has done in the past. In this game, tonight, he has been a detriment. \n",
      "386385 :  This certaintly isn't Foles' best night, but he looked good last week. Eagles definitely still have a good chance in the playoffs \n",
      "386403 :  Our defense deserves better than Foles.\n",
      "386405 :  Wentz is about to come down from the box and hand his crutches to Foles. \n",
      "386429 :  Foles will be even worse when he plays against good NFC teams. You can cancel the Eagles post season hopes\n",
      "386454 :  There was a sign on 95 that said “Empty Trailer ban on all Delaware River bridges.” That’s how windy it is right now. BUT,,,, this is a complete disgrace, idk what the problem is (I mean I do, Nick Foles isn’t Carson Wentz but bear with me), they just don’t look confident at all and are playing extremely sloppy.\n",
      "386514 :  i don't think the nick foles eagles are long for the playoffs\n",
      "386534 :  I have Zach Ertz starting and my opponent has Philly's D. Seeing Foles incapable of putting it in his hands and the Raiders keep on handing the ball over is not good for my liver.\n",
      "386546 :  Bit of both, Foles is making too many bad throws and decisions, though.\n",
      "386572 :  Foles should just kneel it\n",
      "386581 :  It is literally just Foles. He sucks tonight. Also the fumbles.\n",
      "386590 :  You know it's bad when your QB looks as good as Nick Foles out there. Damn Carr.\n",
      "386611 :  Both. Foles playing crappy and your corners shutting us down.\n",
      "386626 :  Foles was just messing with us for that game winning 2 minute drill. Here we goooo\n",
      "386636 :  Foles looked good last week\n",
      "386651 :  Okay, so strangely a safety could win it right here and with Foles incredible drop backs, not out of the question \n",
      "386670 :  Eagles fans at the game, take the ice from your drinks and throw it a Foles.\n",
      "386675 :  Foles needs to throw a big block there‼️‼️\n",
      "386763 :  Foles watching that run back towards him.   \n",
      "386781 :  Can we just take out Foles and play the other kid? Foles was limping... 'precautions'. actually on second thought i hope he gets rocked again.\n",
      "386781 :  Can we just take out Foles and play the other kid? Foles was limping... 'precautions'. actually on second thought i hope he gets rocked again.\n",
      "386804 :  Foles has been absolutely terrible. I'm more excited for next September than I am for the playoffs this year.\n"
     ]
    },
    {
     "name": "stdout",
     "output_type": "stream",
     "text": [
      "386811 :  Why am I downvoted for this? Because r/NFL has decided Foles is garbage after one bad game? \n",
      "386815 :  I know Foles passing isnt accurate but you arent going to win this game running it from your own 10.\n",
      "386838 :  Really depends on which Foles shows up. \n",
      "386861 :  Foles is trash, ball carriers are trash, play calling is trash\n",
      "386870 :  Foles can't make a throw to save his life. He is throwing way too late or not throwing and missing the chance.\n",
      "386890 :  next week: wentz shits himself in the booth after foles throws 5 INTs\n",
      "386892 :  Buffalo has a better offense with Peterman than we do with Foles tonight\n",
      "386894 :  Eagles are playing their offensive gameplan very similar to their game against the Seaghawks. trying to run on first down, which Oakland is ready for, and getting stuffed for second and long.\n",
      "\n",
      "nick foles really needs to make a play out of nothing to jumpstart the birds\n",
      "386900 :  You’re gonna have to trust foles to throw at some point\n",
      "386909 :  It would be fitting for the game to be won with foles accidentally dropping back out of the end of his own endzone for a safety\n",
      "386912 :  Not with Foles.\n",
      "386926 :  It is extremely windy and foles has looked really bad, and it seems like nobody can open so they’re not exactly excited to throw the ball. I agree though it’s atrocious \n",
      "386958 :  Not with Foles \n",
      "386963 :  The NFC championship is either going to end on Nick Foles playing like garbage for the Eagles, or the Vikings missing a field goal.\n",
      "386970 :  Need Foles to just throw this pick 6 so I can go to bed.\n",
      "386981 :  FUCK YOU FOLES\n",
      "387009 :  limpdick playcalling by the eagles but foles is so shit \n",
      "387016 :  Foles hasn't thrown 5 interceptions....yet.\n",
      "387040 :  When was the last time Foles completed a pass?\n",
      "387045 :  The Foles two minute drill seems to be a tad rusty.\n",
      "387048 :  RIP trading Foles for a pick hype\n",
      "387062 :  New twist on Garbshotz: Nick Foles IS the trash can\n",
      "387063 :  Does Foles still know how to throw a football?\n",
      "387069 :  FOLES CAN YOU THROW A BALL ACCURATELY FOR ONCE IN YOUR LIFE\n",
      "387071 :  Hey Foles, try throwing to a guy still on his feet.\n",
      "387106 :  The difference between foles and Wentz;\n",
      "\n",
      "Scramble drill, foles throws a low ball to a falling receiver draped in coverage, Wentz sends a guy deep and floats one for 25+ yards\n",
      "387106 :  The difference between foles and Wentz;\n",
      "\n",
      "Scramble drill, foles throws a low ball to a falling receiver draped in coverage, Wentz sends a guy deep and floats one for 25+ yards\n",
      "387107 :  Nick Foles simply can’t take the reigns of a 12-2 team. This shit is clearly far above his pay grade\n",
      "387113 :  Fuck it, who sits behind Foles? \n",
      "387116 :  Why did Foles snap that with 10 on playclock? That's a Kirk Cousins level mental mistake. \n",
      "387119 :  bro its pretty much over. Foles aint winning a playoff game \n",
      "387136 :  Nick \"I will stand in the pocket for 10 seconds until it breaks down and then panic throw it low to some random receiver who has no shot at catching it\" Foles\n",
      "387139 :  Foles is so fucking trash \n",
      "387140 :  ThE eAgLeS cAn StILl WiN wItH FoLeS\n",
      "387142 :  Man foles is playing like oswieler its scary\n",
      "387150 :  Can Foles complete a pass?\n",
      "387166 :  Wasn't Nick Foles somehow good for like a year?\n",
      "387200 :  bench foles.. the backup surely can't be as bad as this\n",
      "387201 :  I would be nice if Foles could throw a ball above the receiver's feet\n",
      "387228 :  Running for 1st downs definitely. Adding to that, I think your routes are awful and that's why wentz had to escape so much just so that the receivers are free. foles seems to be looking and not finding anyone. \n",
      "387262 :  FUCK YOU NICK FOLES - eagles defense \n",
      "387287 :  I like Nick Foles. He makes me believe even I could be an NFL Quarterback, and I'm a paraplegic 14 year old girl. \n",
      "387304 :  Fucking eagles lmaoooooo. \n",
      "\n",
      "\n",
      "So Foles can't throw a pass so it takes Carr to throw one for them to score. \n",
      "387406 :  Not with Cable TV Foles. \n",
      "387428 :  Foles = Carr??\n",
      "387442 :  He down tho. Time to let nick foles big dick swang this final drive.\n",
      "387497 :  Last week seemed to give some eagles fans false hope in Small pecker Foles\n",
      "387531 :  Derek Carr telling Foles to Hold his beer\n",
      "387547 :  son of a bitch i needed foles to not suck complete dick to win my fantasy league and he took a dump\n",
      "387568 :  Yall were bitchin’ about Foles, but Carr was playing for us the whole time, we played the long con.\n",
      "387645 :  Carr has now thrown to Eagles players better than Foles. I hate this fucking game.\n",
      "387701 :  What happened to Carr? He looks as bad as Foles \n",
      "387786 :  Foles and Carr are both garbage \n",
      "387794 :  Oh sweet jesus.  Please let Foles pull his shit together to end this thing.\n",
      "387828 :  Can nick foles get a couple first downs? no\n",
      "387831 :  Foles pick six incoming lol\n",
      "387872 :  Can Foles respond with another INT?\n",
      "387878 :  My dad went from referring to Foles as St. Nick to now just Moron lol\n",
      "387896 :  The way foles places balls it's like he's trying to kill receivers\n",
      "387918 :  is nick foles sailing EVERY throw?\n",
      "\n",
      "387927 :  Defense.. you mean Foles\n",
      "387929 :  Foles will throw 3 near-INTs in a row, then hurl a hail mary td.\n",
      "387965 :  eagles aren't going to win a playoff game with foles sadly.  Wentz should be mvp \n",
      "387977 :  Nick foles just needs 15 yards, can he do it?\n",
      "387988 :  Foles throws have been high all game. Carr has looked off, wonder what's going on\n",
      "388029 :  Foles needs to start aiming for their knees, because every single one of his passes are overthrown.\n",
      "388036 :  Foles cannot do anything but throw checkdowns \n",
      "388037 :  pack it up boys, Foles threw a completion\n",
      "388112 :  McNabb + Foles = on target \n",
      "388118 :  Guys it could be worse we could be paying foles a 125 million\n",
      "388155 :  just kick the field goal now before foles ruins it\n",
      "388178 :  Pretty much the only thing Foles can't do here is take a sack so we all know how this is gonna turn out, right? \n",
      "388191 :  Foles looks like he's been arrested on Cops\n",
      "388212 :  Oh no we have to beat down Foles at your house :(\n",
      "388222 :  I think Foles likes throwing to Ertz, I hired a detective to find this out\n",
      "388300 :  And at this point better than this one seed.  Foles won’t cut it imo\n",
      "388383 :  WHAT A DRIVE BY FOLES \n",
      "388406 :  I really don’t like Nick Foles. Don’t ask me why, I couldn’t tell you. I only know that I hope for nothing good to ever happen in his life again\n",
      "388521 :  I agree with that. Foles isn't hitting shit though.\n",
      "388530 :  Was it that TNF game where Newton threw 2 picks in his first 3 passes against Foles and the Eagles?\n",
      "388603 :  Kaepernick has a lower completion percentage, td %, and the same rating as foles. \n",
      "\n",
      "\n",
      "388615 :  “It don’t matter if you win by an inch or a mile”\n",
      "\n",
      "- Nick Foles, probably\n",
      "388798 :  Honestly? After seeing this, the talk will justifiably be that we won't have a chance against your defense. Small sample size with Foles and he looked good last week but that was against the Giants. I don't think we'll be able to do much against your defense.\n",
      "\n",
      "After last week though, all the talk was that our offense would be okay and our defense would wreck us in the playoffs. At this point I have no idea what our team is gonna look like three weeks from now and don't see how anyone would.\n",
      "\n",
      "Bottom line, there's no way we're the favorite. I think you guys are, and I'd probably put the Saints and Rams ahead of us too with Wentz out now.\n",
      "388832 :  the less time the ball is in carr's or foles' hand, the better\n",
      "388845 :  We are lucky that Carr is a lot worst than Foles today\n",
      "388846 :  Nick Foles\n",
      "388872 :  Certainly not football related, like, just his name pisses me off to a weird degree. *Nick Foles* 🙄 sounds like a guy who’d try and sell me a shitty used Honda\n",
      "388927 :  Legitamately speaking, how far can Foles take Philly?\n",
      "389057 :  Foles definitely has playoff Flacco potential at least, so Super Bowl win is possible.\n",
      "389065 :  What a fucking insane showing by our D\n",
      "\n",
      "I know Carr isn't the greatest, but we stopped them almost every time they started on their 40 or our own 50, and we STILL stopped them (almost) every time. An average team would have had at least 35 dropped on them. \n",
      "\n",
      "Too bad Foles lost 5 inches on his dick \n",
      "389074 :  Foles sucked today, but at least I can rest easy knowing we don't pay him 100 million+\n",
      "389130 :  God damn it now we will have to beat down Foles at your house\n",
      "389241 :  ^ Nick Foles is your quarterback in the playoffs\n",
      "389333 :  eagles def is legit, but if foles and the offense dont pick it up; they are fucked\n",
      "389341 :  Foles looked better than Carr. That's not saying much but goddamn, Carr looks awful.\n",
      "389557 :  foles taking that knee for the field goal was his best play of the game\n",
      "389564 :  There is none. We have home field. And we are definitely gonna need it if we have any chance with Foles.\n",
      "389570 :  \"I'd trade Carr for Foles in a heartbeat\"\n",
      "\n",
      "lmao let the hot takes begin\n",
      "389587 :  Foles throws ball away, had money on the under obviously\n",
      "389676 :  They were both pretty awful but at least foles showed flashes of briliance \n",
      "389685 :  Still proud of this squad for finding ways to win sans Wentz. For all intents and purposes, Foles has delivered us 3 wins, counting coming in and getting us the lead over the Rams when we were behind.\n",
      "389720 :  So does Foles\n",
      "389736 :  Any Eagles fans still think Nick Foles is going to lead you guys to the super Bowl?\n",
      "\n",
      "ITT: Salty eagles fans, lol. Truth hurts. \n",
      "389778 :  No ones excited to enter the playoff with Foles lol\n",
      "389792 :  Ah yes the Nick Foles and Tom Brady comparisons\n",
      "389799 :  you're fine. foles just needs to figure out the receiving core a little more\n",
      "389812 :  Imagine how embarrassing it would be to lose to a team with Foles at QB?!\n",
      "389841 :  Wentz is supposed to be recovered by the time the play-offs start, yes? Please, I don't want to have to sit through another Foles shitshow.\n",
      "389864 :  I think it will come down to the pass rush/offensive lines for the Vikings and Eagles if they play. Philly’s pass rush tonight was a big factor, and the Vikings are down a guard. Oakland made Foles look pretty bad too though, and I think Minny has a  better defense. Would be a good match up either way. \n",
      "389903 :  It was aweful tonight. But Foles still had more TD pases than Dak. 😂 Shit Derek Barnett had more TDs than Dak this week 😂🤣😂🤣\n",
      "389917 :  Foles was down and beat you lmao \n",
      "389925 :  you have a scary fucking defense. Nick Foles is going to die on national television. My only hope is that we somehow avoid playing you or the saints. \n",
      "389949 :  I wasn't aware I had any obligation to root for the Eagles, tbh. Definitely gonna root against the sense of entitlement of some of its fans, tho. As my post *clearly* says, I'll be rooting against Foles because he seriously sucks. I was excited and really looking forward to seeing Wentz and the Eagles play but after Foles' performance, not so much anymore.\n",
      "\n",
      "It sucks for Wentz, it sucks for the team and it sucks for the fans but it's not my fault the back-up QB is shit.\n",
      "389949 :  I wasn't aware I had any obligation to root for the Eagles, tbh. Definitely gonna root against the sense of entitlement of some of its fans, tho. As my post *clearly* says, I'll be rooting against Foles because he seriously sucks. I was excited and really looking forward to seeing Wentz and the Eagles play but after Foles' performance, not so much anymore.\n",
      "\n",
      "It sucks for Wentz, it sucks for the team and it sucks for the fans but it's not my fault the back-up QB is shit.\n",
      "389971 :  Eh hes no match for HOFer Nick Foles.\n",
      "390017 :  He's clearly overrated. It's like people forget he was benched in the fourth quarter multiple times this year, only for Foles to close out the W.\n",
      "434934 :  It's alright, this is Carson Wentz's 'Nick Foles' year. Just wait for next season.\n",
      "436121 :  C'mon man, if you see Nick Foles when you watch Carson Wentz I don't think you know what  you're looking at.\n",
      "437053 :  Same thing that happened to Nick Foles and RG3: \n",
      "\n",
      "They suck\n",
      "441131 :  Cousins went full Nick Foles with that back pedal\n",
      "442316 :  It is man.  He is a bust 100%. I've been begging the Eagles to start Nick Foles for years.\n",
      "442321 :  *cough* Nick Foles *cough* 7 TDs *cough*\n",
      "444032 :  Have fun watching your team play Nick Foles\n",
      "446202 :  Yep. Because a QB has one bad season means they’ll never recover. And just because you have one good season means you’ll never regress (nick foles). Like I said 2 seasons isn’t a full body of work. We’ll have this argument in a few seasons. \n",
      "446279 :  Foles didn't regress that much.\n",
      "449863 :  Remember what Baker did to Foles?  That.  But from more behind.  It was bad.\n",
      "449937 :  Remember what Baker did to Foles? That. But actually against the rules\n",
      "451474 :  Redskins tried to decapitate Sproles last year, Foles two years before that...nice try\n",
      "453568 :  Well you have to understand our bar is set at Foles/Bradford/Sanchez height.\n",
      "456504 :  I'm high but I think I just saw Nick Foles\n",
      "456940 :  Was that a Nick Foles jersey on that kid?\n",
      "458067 :  He's no nick foles\n",
      "458515 :  That grocery store employee from the commercial looked like Nick Foles.\n",
      "462043 :  Can Wentz catch Eagles great, Foles? \n",
      "462158 :  Bring me Foles I'm ready\n"
     ]
    },
    {
     "name": "stdout",
     "output_type": "stream",
     "text": [
      "564326 :  The Eagles are willing to take AJ Green for Nick Foles lol\n",
      "570579 :  Probably not we'll be playing either the saints, panthers or the falcons in the snow. There's 4 warm weather teams with warm weather qbs including the rams in the NFC playoffs we have a good shot. Don't under estimate foles I'd take him over kenum. Seahawks are the only team I don't wana see in the playoffs\n",
      "572118 :  If Keenum, Foles, or Bortles wins the Super Bowl, will he supplant Trent Dilfer in the \"If Trent Dilfer can win you a Super Bowl...\" adage?\n",
      "572210 :  Keenum or Foles, probably.\n",
      "\n",
      "Bortles is a first round pick on his first contract with his first team. It's not really comparable.\n",
      "572270 :  You mean pro-bowl MVP, and NFL single game passing TD (co)record holder Nick Foles?\n",
      "573210 :  I feel like the Vikings or Saints are most likely going to make the Super Bowl for the NFC. Eagles have no shot with Nick Foles, Panthers won't have a shot because Cam doesn't care enough to win (see his fumble recovery attempt in the Super Bowl), Rams have no chance as Goff is bad against good teams, and Seahawks have no chance as Wilson will be running for his life. That leaves the Vikings and saints. \n",
      "575183 :  The Nick Foles led eagles who almost lost to the giants last week? \n",
      "577507 :  So like Foles in 2013\n"
     ]
    }
   ],
   "source": [
    "i = 0\n",
    "for comment, token_list in zip(comment_list, x_tokens):\n",
    "    for token in token_list:\n",
    "        if token == 'foles':\n",
    "            print(i, \": \", comment)\n",
    "    i += 1"
   ]
  },
  {
   "cell_type": "code",
   "execution_count": 398,
   "metadata": {},
   "outputs": [
    {
     "name": "stdout",
     "output_type": "stream",
     "text": [
      "           author author_flair score comment_id comment_name comment_fullname  \\\n",
      "5396  ArmadilloAl        Bears     4    dnniq9m   t1_dnniq9m       t1_dnniq9m   \n",
      "\n",
      "     comment_is_root comment_parent comment_approved_at_utc  \\\n",
      "5396            True         7344it                    None   \n",
      "\n",
      "     comment_approved_by        ...          vader_neg  vader_neu vader_pos  \\\n",
      "5396                None        ...              0.177      0.823       0.0   \n",
      "\n",
      "     vader_compound win_differential win_team game_state fan_type  \\\n",
      "5396        -0.4215            0.902     home   notclose     away   \n",
      "\n",
      "     author_team_state  author_game_state  \n",
      "5396            losing  fan_lose_notclose  \n",
      "\n",
      "[1 rows x 49 columns]\n"
     ]
    }
   ],
   "source": [
    "print(data.iloc[[5396]])"
   ]
  },
  {
   "cell_type": "code",
   "execution_count": 404,
   "metadata": {
    "scrolled": true
   },
   "outputs": [
    {
     "data": {
      "text/plain": [
       "4055                   \"Im Mike Glennon and I have cable\"\n",
       "4064    Stupid UK time difference making me a book Fri...\n",
       "4077            I'm getting ready to pop open that nyquil\n",
       "4093                                                Good.\n",
       "4094                They look like they could be siblings\n",
       "4101                                 Glennon strip fumble\n",
       "4107            I hate Mike Glennon more than the Packers\n",
       "4122                                                   Jk\n",
       "4131                                                  Too\n",
       "4139    If we must lose this game, I hope it's a fucki...\n",
       "4143       Glennon looks like a joke Saints Row character\n",
       "4144    SOMEBODY MILDLY INJURE GLENNON'S PLANT FOOT OR...\n",
       "4185    JUST GIVE DIX THE BALL. I DON'T WANT TO SEE GL...\n",
       "4186                 \"And I'm Mitch and I have Direct TV\"\n",
       "4190                                 He's down, thank god\n",
       "Name: comment_body, dtype: object"
      ]
     },
     "execution_count": 404,
     "metadata": {},
     "output_type": "execute_result"
    }
   ],
   "source": [
    "data[(data['author_flair'] == 'Bears') & (data['win_differential'] >= 0.9)].comment_body.head(15)\n",
    "#use_data = use_data[(use_data['win_differential'] <= 0.2) | (use_data['win_differential'] >= 0.9)]"
   ]
  },
  {
   "cell_type": "code",
   "execution_count": 407,
   "metadata": {
    "scrolled": true
   },
   "outputs": [
    {
     "name": "stdout",
     "output_type": "stream",
     "text": [
      "             author author_flair score comment_id comment_name  \\\n",
      "1848  FootballMan15      Broncos    13    dp4dtuc   t1_dp4dtuc   \n",
      "\n",
      "     comment_fullname comment_is_root comment_parent comment_approved_at_utc  \\\n",
      "1848       t1_dp4dtuc            True         79ruxo                    None   \n",
      "\n",
      "     comment_approved_by        ...          vader_neg  vader_neu vader_pos  \\\n",
      "1848                None        ...              0.231       0.44      0.33   \n",
      "\n",
      "     vader_compound win_differential win_team game_state fan_type  \\\n",
      "1848         0.4208            0.872     home   notclose     away   \n",
      "\n",
      "     author_team_state  author_game_state  \n",
      "1848            losing  fan_lose_notclose  \n",
      "\n",
      "[1 rows x 49 columns]\n"
     ]
    }
   ],
   "source": [
    "print(data.iloc[[34450]])"
   ]
  },
  {
   "cell_type": "code",
   "execution_count": 408,
   "metadata": {
    "scrolled": true
   },
   "outputs": [
    {
     "data": {
      "text/plain": [
       "4119                           Bears are already wasted. \n",
       "4142         \"Haven't won on the road since 2015\" oh my..\n",
       "4145    Wait. I saw the Cobb TD. What was the other ot...\n",
       "4149                              COACHING JIM. COACHING.\n",
       "5217    So Steelers... how did you manage to lose to t...\n",
       "5266    So what else needs to happen for it to be Trib...\n",
       "5299       So, should I bother staying up to watch this? \n",
       "5388                         Interactive add. GTFO Amazon\n",
       "5409    What's worse, the surprise knee punt or the [t...\n",
       "5437                                             da bears\n",
       "5482    Falcons; it's week one, and actually if you lo...\n",
       "5513    I fucking hate the Hyundai commercial as mich ...\n",
       "6152              Should have been bright yellow. Cheesy.\n",
       "6248                 Auto-Bots rolling out gets me hyped.\n",
       "6253    Guy in AARP commercial:other guys in his offic...\n",
       "Name: comment_body, dtype: object"
      ]
     },
     "execution_count": 408,
     "metadata": {},
     "output_type": "execute_result"
    }
   ],
   "source": [
    "data[(data['author_flair'] == 'Broncos') & (data['win_differential'] >= 0.9)].comment_body.head(15)\n",
    "#use_data = use_data[(use_data['win_differential'] <= 0.2) | (use_data['win_differential'] >= 0.9)]"
   ]
  },
  {
   "cell_type": "code",
   "execution_count": 410,
   "metadata": {
    "scrolled": false
   },
   "outputs": [
    {
     "name": "stdout",
     "output_type": "stream",
     "text": [
      "              author author_flair score comment_id comment_name  \\\n",
      "26532  midgetpenguin       Saints     1    dt10jnp   t1_dt10jnp   \n",
      "\n",
      "      comment_fullname comment_is_root comment_parent comment_approved_at_utc  \\\n",
      "26532       t1_dt10jnp           False        dt108nc                    None   \n",
      "\n",
      "      comment_approved_by        ...         vader_neg  vader_neu vader_pos  \\\n",
      "26532                None        ...             0.338      0.662       0.0   \n",
      "\n",
      "      vader_compound win_differential win_team game_state fan_type  \\\n",
      "26532        -0.8481            0.508     away      close    nofan   \n",
      "\n",
      "      author_team_state author_game_state  \n",
      "26532            nopref       nofan_close  \n",
      "\n",
      "[1 rows x 49 columns]\n"
     ]
    }
   ],
   "source": [
    "print(data.iloc[[265631]])"
   ]
  },
  {
   "cell_type": "code",
   "execution_count": 411,
   "metadata": {
    "scrolled": true
   },
   "outputs": [
    {
     "data": {
      "text/plain": [
       "53               Coco is still better than Young Sheldon\n",
       "161    WHAT? Doesn't the Bay Area have enough basketb...\n",
       "210                              Kirk Cousins, obviously\n",
       "247                     Peyton Manning. Can you imagine?\n",
       "272            This is why ESPN can't afford MNF anymore\n",
       "296                                              Denver?\n",
       "446                             What are these graphics?\n",
       "6      Hopefully this game is better. Detroit let the...\n",
       "29     Wife and I decided not to travel. Just us and ...\n",
       "41     If the Eagles Cowboys game thread was any sort...\n",
       "44                                   Enjoy yourself man.\n",
       "55     The Vikings aren't gonna ever lose again are t...\n",
       "56                                                     O\n",
       "103      I keep waiting, and it just hasn't happened yet\n",
       "131    I'm mainly here for the Eagles flair roasts. L...\n",
       "Name: comment_body, dtype: object"
      ]
     },
     "execution_count": 411,
     "metadata": {},
     "output_type": "execute_result"
    }
   ],
   "source": [
    "data[(data['author_flair'] == 'Saints') & (data['game_state'] == 'close')].comment_body.head(15)\n",
    "#use_data = use_data[(use_data['win_differential'] <= 0.2) | (use_data['win_differential'] >= 0.9)]"
   ]
  }
 ],
 "metadata": {
  "anaconda-cloud": {},
  "kernelspec": {
   "display_name": "Python [conda env:python36]",
   "language": "python",
   "name": "conda-env-python36-py"
  },
  "language_info": {
   "codemirror_mode": {
    "name": "ipython",
    "version": 3
   },
   "file_extension": ".py",
   "mimetype": "text/x-python",
   "name": "python",
   "nbconvert_exporter": "python",
   "pygments_lexer": "ipython3",
   "version": "3.6.1"
  }
 },
 "nbformat": 4,
 "nbformat_minor": 2
}
