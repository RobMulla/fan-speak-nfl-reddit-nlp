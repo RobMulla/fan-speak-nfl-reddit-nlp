{
 "cells": [
  {
   "cell_type": "code",
   "execution_count": 7,
   "metadata": {},
   "outputs": [
    {
     "ename": "SyntaxError",
     "evalue": "invalid token (<ipython-input-7-0ae234485a99>, line 1)",
     "output_type": "error",
     "traceback": [
      "\u001b[0;36m  File \u001b[0;32m\"<ipython-input-7-0ae234485a99>\"\u001b[0;36m, line \u001b[0;32m1\u001b[0m\n\u001b[0;31m    Bears_vs_Packers__2017-09-28_comment_sentiment.pickle\u001b[0m\n\u001b[0m                            ^\u001b[0m\n\u001b[0;31mSyntaxError\u001b[0m\u001b[0;31m:\u001b[0m invalid token\n"
     ]
    }
   ],
   "source": [
    "Bears_vs_Packers__2017-09-28_comment_sentiment.pickle\n",
    "Broncos_vs_Chiefs__2017-10-30_comment_sentiment.pickle\n",
    "Chargers_vs_Cowboys__2017-11-23_comment_sentiment.pickle\n",
    "Chiefs_vs_Patriots__2017-09-07_comment_sentiment.pickle\n",
    "Chiefs_vs_Raiders__2017-10-19_comment_sentiment.pickle\n",
    "Cowboys_vs_Cardinals__2017-09-25_comment_sentiment.pickle\n",
    "Cowboys_vs_Raiders__2017-12-17_comment_sentiment.pickle\n",
    "Eagles_vs_Panthers__2017-10-12_comment_sentiment.pickle\n",
    "Falcons_vs_Buccaneers__2017-12-18_comment_sentiment.pickle\n",
    "Falcons_vs_Patriots__2017-10-22_comment_sentiment.pickle\n",
    "Falcons_vs_Seahawks__2017-11-20_comment_sentiment.pickle\n",
    "Giants_vs_Cowboys__2017-09-10_comment_sentiment.pickle\n",
    "Jaguars_vs_Patriots__2018-01-21_comment_sentiment.pickle\n",
    "Lions_vs_Giants__2017-09-18_comment_sentiment.pickle\n",
    "Lions_vs_Packers__2017-11-06_comment_sentiment.pickle\n",
    "Packers_vs_Panthers__2017-12-17_comment_sentiment.pickle\n",
    "Packers_vs_Vikings__2017-10-15_comment_sentiment.pickle\n",
    "Patriots_vs_Dolphins__2017-12-11_comment_sentiment.pickle\n",
    "Raiders_vs_Eagles__2017-12-25_comment_sentiment.pickle\n",
    "Raiders_vs_Redskins__2017-09-24_comment_sentiment.pickle\n",
    "Rams_vs_49ers__2017-09-21_comment_sentiment.pickle\n",
    "Redskins_vs_Chiefs__2017-10-02_comment_sentiment.pickle\n",
    "Redskins_vs_Cowboys__2017-11-30_comment_sentiment.pickle\n",
    "Redskins_vs_Eagles__2017-10-23_comment_sentiment.pickle\n",
    "Saints_vs_Falcons__2017-12-07_comment_sentiment.pickle\n",
    "Saints_vs_Vikings__2017-09-11_comment_sentiment.pickle\n",
    "Seahawks_vs_Cardinals__2017-11-09_comment_sentiment.pickle\n",
    "Steelers_vs_Bengals__2017-12-04_comment_sentiment.pickle\n",
    "Steelers_vs_Lions__2017-10-29_comment_sentiment.pickle\n",
    "Texans_vs_Bengals__2017-09-14_comment_sentiment.pickle\n",
    "Vikings_vs_Packers__2017-12-23_comment_sentiment.pickle\n",
    "Vikings_vs_Panthers__2017-12-10_comment_sentiment.pickle"
   ]
  },
  {
   "cell_type": "code",
   "execution_count": 8,
   "metadata": {},
   "outputs": [
    {
     "data": {
      "text/plain": [
       "'/Users/kwheatley/w266_final_project_merged/notebooks/models'"
      ]
     },
     "execution_count": 8,
     "metadata": {},
     "output_type": "execute_result"
    }
   ],
   "source": [
    "pwd"
   ]
  },
  {
   "cell_type": "code",
   "execution_count": 9,
   "metadata": {},
   "outputs": [
    {
     "ename": "ModuleNotFoundError",
     "evalue": "No module named 'praw'",
     "output_type": "error",
     "traceback": [
      "\u001b[0;31m---------------------------------------------------------------------------\u001b[0m",
      "\u001b[0;31mModuleNotFoundError\u001b[0m                       Traceback (most recent call last)",
      "\u001b[0;32m<ipython-input-9-7ccfe2019fef>\u001b[0m in \u001b[0;36m<module>\u001b[0;34m()\u001b[0m\n\u001b[1;32m      1\u001b[0m \u001b[0;32mimport\u001b[0m \u001b[0mpickle\u001b[0m\u001b[0;34m\u001b[0m\u001b[0m\n\u001b[1;32m      2\u001b[0m \u001b[0mpickle_in\u001b[0m \u001b[0;34m=\u001b[0m \u001b[0mopen\u001b[0m\u001b[0;34m(\u001b[0m\u001b[0;34m\"/Users/kwheatley/w266_final_project_merged/data/Clean_Game_Data/Bears_vs_Packers__2017-09-28_comment_sentiment.pickle\"\u001b[0m\u001b[0;34m,\u001b[0m\u001b[0;34m\"rb\"\u001b[0m\u001b[0;34m)\u001b[0m\u001b[0;34m\u001b[0m\u001b[0m\n\u001b[0;32m----> 3\u001b[0;31m \u001b[0mexample_dict\u001b[0m \u001b[0;34m=\u001b[0m \u001b[0mpickle\u001b[0m\u001b[0;34m.\u001b[0m\u001b[0mload\u001b[0m\u001b[0;34m(\u001b[0m\u001b[0mpickle_in\u001b[0m\u001b[0;34m)\u001b[0m\u001b[0;34m\u001b[0m\u001b[0m\n\u001b[0m",
      "\u001b[0;31mModuleNotFoundError\u001b[0m: No module named 'praw'"
     ]
    }
   ],
   "source": [
    "import pickle\n",
    "pickle_in = open(\"/Users/kwheatley/w266_final_project_merged/data/Clean_Game_Data/Bears_vs_Packers__2017-09-28_comment_sentiment.pickle\",\"rb\")\n",
    "example_dict = pickle.load(pickle_in)"
   ]
  },
  {
   "cell_type": "code",
   "execution_count": null,
   "metadata": {},
   "outputs": [],
   "source": []
  }
 ],
 "metadata": {
  "anaconda-cloud": {},
  "kernelspec": {
   "display_name": "Python [conda env:python36]",
   "language": "python",
   "name": "conda-env-python36-py"
  },
  "language_info": {
   "codemirror_mode": {
    "name": "ipython",
    "version": 3
   },
   "file_extension": ".py",
   "mimetype": "text/x-python",
   "name": "python",
   "nbconvert_exporter": "python",
   "pygments_lexer": "ipython3",
   "version": "3.6.1"
  }
 },
 "nbformat": 4,
 "nbformat_minor": 2
}
