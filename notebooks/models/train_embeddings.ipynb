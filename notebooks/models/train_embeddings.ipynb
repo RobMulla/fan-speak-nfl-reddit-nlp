{
 "cells": [
  {
   "cell_type": "code",
   "execution_count": 3,
   "metadata": {
    "collapsed": true
   },
   "outputs": [],
   "source": [
    "import pandas as pd\n",
    "import gensim\n",
    "from sklearn.decomposition import PCA\n",
    "from matplotlib import pyplot as plt\n",
    "from nltk.tokenize import TweetTokenizer\n",
    "\n",
    "# Helper libraries (only needed if utils functions don't work or Vocab class is leveraged to count words)\n",
    "# from w266_common import utils, vocabulary"
   ]
  },
  {
   "cell_type": "code",
   "execution_count": 2,
   "metadata": {
    "collapsed": true
   },
   "outputs": [],
   "source": [
    "# Import file\n",
    "df = pd.read_csv('~/mids/w266/w266_final_project/Combined_Comments.csv', delimiter=',')"
   ]
  },
  {
   "cell_type": "code",
   "execution_count": 9,
   "metadata": {},
   "outputs": [
    {
     "name": "stdout",
     "output_type": "stream",
     "text": [
      "comment_id                                                                drpk9pw\n",
      "author                                                            Corrupt-Spartan\n",
      "author_flair                                                              Bengals\n",
      "score                                                                          35\n",
      "comment_name                                                           t1_drpk9pw\n",
      "comment_fullname                                                       t1_drpk9pw\n",
      "comment_is_root                                                              True\n",
      "comment_parent                                                             7lwbh9\n",
      "comment_created                                                       1.51417e+09\n",
      "comment_created_utc                                                   1.51414e+09\n",
      "comment_created_utc_datetime                                  2017-12-24 14:06:08\n",
      "comment_created_utc_date                                                 24-12-17\n",
      "comment_created_utc_time                                                 14:06:08\n",
      "comment_depth                                                                   0\n",
      "comment_body                    I love Lions fans cause we can drink bleach to...\n",
      "submission_id                                                              7lwbh9\n",
      "submission_title                Game Thread: Detroit Lions (8-6) at Cincinnati...\n",
      "submission_created_utc                                                1.51414e+09\n",
      "Name: 0, dtype: object\n"
     ]
    }
   ],
   "source": [
    "# Take a quick look at the data\n",
    "print(df.iloc[0])"
   ]
  },
  {
   "cell_type": "code",
   "execution_count": 3,
   "metadata": {},
   "outputs": [
    {
     "name": "stdout",
     "output_type": "stream",
     "text": [
      "I love Lions fans cause we can drink bleach together this christmas eve\n"
     ]
    },
    {
     "data": {
      "text/plain": [
       "pandas.core.series.Series"
      ]
     },
     "execution_count": 3,
     "metadata": {},
     "output_type": "execute_result"
    }
   ],
   "source": [
    "# Isolate comment_body\n",
    "comments = df.loc[:,'comment_body']\n",
    "print(comments[0])\n",
    "type(comments)"
   ]
  },
  {
   "cell_type": "code",
   "execution_count": 4,
   "metadata": {},
   "outputs": [
    {
     "name": "stdout",
     "output_type": "stream",
     "text": [
      "2018028\n"
     ]
    }
   ],
   "source": [
    "# Convert to list\n",
    "comment_list = comments.values.tolist()\n",
    "print(len(comment_list))\n",
    "#comment_list2 = filter(None, comment_list)\n",
    "#print(len(comment_list2))\n",
    "# print(comment_list[len(comment_list)-1])\n",
    "# Convert to list of lists?\n",
    "#comment_list = [[sen for sen in comment_list]]"
   ]
  },
  {
   "cell_type": "code",
   "execution_count": 82,
   "metadata": {
    "collapsed": true
   },
   "outputs": [],
   "source": [
    "# Borrowed some functions from the w266 utils.py file\n",
    "# Miscellaneous helpers\n",
    "def flatten(list_of_lists):\n",
    "    \"\"\"Flatten a list-of-lists into a single list.\"\"\"\n",
    "    return list(itertools.chain.from_iterable(list_of_lists))\n",
    "\n",
    "\n",
    "# Word processing functions\n",
    "def canonicalize_digits(word):\n",
    "    if any([c.isalpha() for c in word]): return word\n",
    "    word = re.sub(\"\\d\", \"DG\", word)\n",
    "    if word.startswith(\"DG\"):\n",
    "        word = word.replace(\",\", \"\") # remove thousands separator\n",
    "    return word\n",
    "\n",
    "def canonicalize_word(word, wordset=None, digits=True):\n",
    "    if not word.isupper():\n",
    "        word = word.lower()\n",
    "    if digits:\n",
    "        if (wordset != None) and (word in wordset): return word\n",
    "        word = canonicalize_digits(word) # try to canonicalize numbers\n",
    "    if (wordset == None) or (word in wordset):\n",
    "        return word\n",
    "    else:\n",
    "        return constants.UNK_TOKEN\n",
    "\n",
    "def canonicalize_words(words, **kw):\n",
    "    return [canonicalize_word(word, **kw) for word in words]"
   ]
  },
  {
   "cell_type": "code",
   "execution_count": 6,
   "metadata": {},
   "outputs": [
    {
     "data": {
      "text/plain": [
       "[[u'I',\n",
       "  u'love',\n",
       "  u'Lions',\n",
       "  u'fans',\n",
       "  u'cause',\n",
       "  u'we',\n",
       "  u'can',\n",
       "  u'drink',\n",
       "  u'bleach',\n",
       "  u'together',\n",
       "  u'this',\n",
       "  u'christmas',\n",
       "  u'eve'],\n",
       " [u'I',\n",
       "  u'was',\n",
       "  u'back',\n",
       "  u'and',\n",
       "  u'forth',\n",
       "  u'with',\n",
       "  u'this',\n",
       "  u',',\n",
       "  u'but',\n",
       "  u\"I'm\",\n",
       "  u'on',\n",
       "  u'the',\n",
       "  u'Fire',\n",
       "  u'Caldwell',\n",
       "  u'train',\n",
       "  u'now',\n",
       "  u'.',\n",
       "  u'This',\n",
       "  u'is',\n",
       "  u'embarrassing',\n",
       "  u'.'],\n",
       " [u'Ebron', u'with', u'that', u'sick', u'Naruto', u'run', u'.']]"
      ]
     },
     "execution_count": 6,
     "metadata": {},
     "output_type": "execute_result"
    }
   ],
   "source": [
    "# tokenize\n",
    "tokenizer = TweetTokenizer()\n",
    "x_tokens = [tokenizer.tokenize(sentence) for sentence in comment_list if isinstance(sentence, basestring)]\n",
    "x_tokens[0:3]"
   ]
  },
  {
   "cell_type": "code",
   "execution_count": 47,
   "metadata": {},
   "outputs": [
    {
     "name": "stdout",
     "output_type": "stream",
     "text": [
      "2018011\n"
     ]
    }
   ],
   "source": [
    "# We lost 17 elements that were not interpretable by our tokenizer...\n",
    "print(len(x_tokens))"
   ]
  },
  {
   "cell_type": "code",
   "execution_count": 83,
   "metadata": {
    "scrolled": true
   },
   "outputs": [
    {
     "name": "stdout",
     "output_type": "stream",
     "text": [
      "[u\"let's\", u'have', u'a', u'good', u'injury', u'free', u'game', u',', u'catbros', u'.']\n"
     ]
    }
   ],
   "source": [
    "# canonicalize (unfortunately, this destroys the list[list[string]] structure expected by Word2Vec)\n",
    "# x_tokens_canon = [canonicalize_word(w) for w in flatten(x_tokens)]\n",
    "# print(x_tokens_canon[140:150])"
   ]
  },
  {
   "cell_type": "code",
   "execution_count": 46,
   "metadata": {
    "scrolled": false
   },
   "outputs": [
    {
     "name": "stdout",
     "output_type": "stream",
     "text": [
      "Twitter comments vocabulary: 161,388 words\n"
     ]
    }
   ],
   "source": [
    "# Let's see how many vocabulary words we have\n",
    "#vocab = vocabulary.Vocabulary((utils.canonicalize_word(w) for w in utils.flatten(x_tokens)))\n",
    "#print(\"Twitter comments vocabulary: {:,} words\".format(vocab.size))"
   ]
  },
  {
   "cell_type": "code",
   "execution_count": 7,
   "metadata": {
    "collapsed": true
   },
   "outputs": [],
   "source": [
    "# Build word2vec embeddings model (skip-gram)\n",
    "model_sg = gensim.models.Word2Vec(sentences=x_tokens_canon, sg=1, min_count=5, hs=1, negative=12, workers=8)"
   ]
  },
  {
   "cell_type": "code",
   "execution_count": 12,
   "metadata": {
    "collapsed": true
   },
   "outputs": [],
   "source": [
    "# Save model\n",
    "model_sg.save('model_sg.bin')"
   ]
  },
  {
   "cell_type": "code",
   "execution_count": 4,
   "metadata": {
    "collapsed": true
   },
   "outputs": [],
   "source": [
    "# You can easily load the model like this:\n",
    "model_sg = gensim.models.Word2Vec.load('model_sg.bin')"
   ]
  },
  {
   "cell_type": "code",
   "execution_count": 5,
   "metadata": {
    "scrolled": true
   },
   "outputs": [
    {
     "name": "stdout",
     "output_type": "stream",
     "text": [
      "Word2Vec(vocab=52706, size=100, alpha=0.025)\n"
     ]
    }
   ],
   "source": [
    "print(model_sg)"
   ]
  },
  {
   "cell_type": "code",
   "execution_count": 6,
   "metadata": {
    "collapsed": true
   },
   "outputs": [],
   "source": [
    "words = list(model_sg.wv.vocab)"
   ]
  },
  {
   "cell_type": "code",
   "execution_count": 7,
   "metadata": {
    "scrolled": true
   },
   "outputs": [
    {
     "name": "stdout",
     "output_type": "stream",
     "text": [
      "[u'fawn', u'2minute', u'Lineman', u'JOHNNY', u'EXPLAIN', u'Poetry', u'woods', u'spiders', u'hanging', u'woody', u'underachieve', u'comically', u'localized', u'Schuster', u'sevens', u'bLaKe', u'canes', u'LAST', u'gamethread', u'Gotem', u'Adjusting', u'ThAn', u'Archuleta', u'Journey', u'Western']\n"
     ]
    }
   ],
   "source": [
    "print(words[0:25])"
   ]
  },
  {
   "cell_type": "code",
   "execution_count": 8,
   "metadata": {},
   "outputs": [
    {
     "name": "stdout",
     "output_type": "stream",
     "text": [
      "[(u':/', 0.8636437058448792), (u\":'(\", 0.852620542049408), (u':-(', 0.7412919998168945), (u'=(', 0.723249077796936), (u'...', 0.674390435218811), (u':)', 0.6695926189422607), (u'..', 0.6648536920547485), (u'Ugh', 0.6477319002151489), (u'Fuckkkk', 0.6473498344421387), (u';(', 0.6460395455360413)]\n",
      "[(u'Ravens', 0.927792489528656), (u'Bears', 0.9019714593887329), (u'Browns', 0.8969771862030029), (u'Bills', 0.889148473739624), (u'Texans', 0.887919545173645), (u'Lions', 0.8859792351722717), (u'Jags', 0.881628692150116), (u'Steelers', 0.8798043727874756), (u'Titans', 0.8775269985198975), (u'Jets', 0.876926064491272)]\n",
      "[(u'lmao', 0.9308977723121643), (u'haha', 0.8547108769416809), (u'Lol', 0.839989960193634), (u'lmfao', 0.8352900743484497), (u'Lmao', 0.8161942958831787), (u'hahaha', 0.7875510454177856), (u'..', 0.785677433013916), (u'hahah', 0.7751908302307129), (u'Lmfao', 0.7577602863311768), (u'Haha', 0.75078946352005)]\n",
      "[(u'TD', 0.9206355810165405), (u'td', 0.8873885869979858), (u'fumble', 0.7755820751190186), (u'Td', 0.7348995208740234), (u'interception', 0.7260633707046509), (u'turnover', 0.7138732075691223), (u'touchback', 0.7090870141983032), (u'reception', 0.7042896151542664), (u'tuddy', 0.6983715295791626), (u'score', 0.6854277849197388)]\n",
      "[(u'hater', 0.7914142608642578), (u'lifelong', 0.7776049375534058), (u'diehard', 0.7592940330505371), (u'fans', 0.710512638092041), (u'die-hard', 0.7013691663742065), (u'Lifelong', 0.7000707387924194), (u'bandwagoner', 0.6843335628509521), (u'resident', 0.6651568412780762), (u'follower', 0.6626907587051392), (u'Brit', 0.6562173366546631)]\n",
      "[(u'ref', 0.7607336044311523), (u'crew', 0.7133060693740845), (u'Triplette', 0.684394359588623), (u'referees', 0.6817055940628052), (u'officials', 0.6798223257064819), (u'officiating', 0.6634893417358398), (u\"Blakeman's\", 0.6449918746948242), (u'umpire', 0.6423738598823547), (u'Boger', 0.6386980414390564), (u'reffing', 0.6300619840621948)]\n"
     ]
    }
   ],
   "source": [
    "# Look at example word similarities WARNING: SOME INAPPROPRIATE WORDS MAY BE DISPLAYED\n",
    "print(model_sg.wv.most_similar(':(')) # it can handle emoticons\n",
    "print(model_sg.wv.most_similar('Bengals')) # ok, i expect the steelers but the browns...\n",
    "print(model_sg.wv.most_similar('lol')) # it can handle shorthand\n",
    "print(model_sg.wv.most_similar('touchdown')) # makes sense\n",
    "print(model_sg.wv.most_similar('fan')) # well, that's a mixed bag\n",
    "print(model_sg.wv.most_similar('referee')) # actually identifies some refs by name"
   ]
  },
  {
   "cell_type": "code",
   "execution_count": null,
   "metadata": {
    "collapsed": true
   },
   "outputs": [],
   "source": [
    "# Place vocabulary in list\n",
    "word_vecs = model_sg[model_sg.wv.vocab]"
   ]
  },
  {
   "cell_type": "code",
   "execution_count": 50,
   "metadata": {
    "collapsed": true
   },
   "outputs": [],
   "source": [
    "# Fit a PCA decomposition\n",
    "pca = PCA(n_components=2)\n",
    "pca_fit = pca.fit_transform(word_vecs)"
   ]
  },
  {
   "cell_type": "code",
   "execution_count": 9,
   "metadata": {},
   "outputs": [
    {
     "name": "stdout",
     "output_type": "stream",
     "text": [
      "<type 'tuple'>\n",
      "(u'north', u'east', u'South', u'west', u'East', u'North', u'nfc', u'West', u'afc', u'AFC')\n"
     ]
    }
   ],
   "source": [
    "# Grab a group of similar words for visualization\n",
    "similar_words, _ = zip(*model_sg.wv.most_similar('south'))\n",
    "print(type(similar_words))\n",
    "print(similar_words)"
   ]
  },
  {
   "cell_type": "code",
   "execution_count": 69,
   "metadata": {
    "scrolled": true
   },
   "outputs": [
    {
     "data": {
      "image/png": "[encoded data removed]",
      "text/plain": [
       "<matplotlib.figure.Figure at 0x1c31e3310>"
      ]
     },
     "metadata": {},
     "output_type": "display_data"
    }
   ],
   "source": [
    "# Visualize the word vectors with a few labels WARNING: SOME INAPPROPRIATE WORDS MAY BE DISPLAYED\n",
    "plt.scatter(pca_fit[:,0], pca_fit[:,1])\n",
    "for i, word in enumerate(similar_words):\n",
    "    plt.annotate(word, xy=(pca_fit[i, 0], pca_fit[i, 1]))\n",
    "plt.show()"
   ]
  }
 ],
 "metadata": {
  "kernelspec": {
   "display_name": "Python 3",
   "language": "python",
   "name": "python3"
  },
  "language_info": {
   "codemirror_mode": {
    "name": "ipython",
    "version": 3
   },
   "file_extension": ".py",
   "mimetype": "text/x-python",
   "name": "python",
   "nbconvert_exporter": "python",
   "pygments_lexer": "ipython3",
   "version": "3.6.4"
  }
 },
 "nbformat": 4,
 "nbformat_minor": 2
}
